{
 "cells": [
  {
   "cell_type": "markdown",
   "id": "9ec3327b",
   "metadata": {},
   "source": [
    "<div class=\"licence\">\n",
    "<span>Licence CC BY-NC-ND</span>\n",
    "<span>UE 12</span>\n",
    "<span><img src=\"media/ensmp-25-alpha.png\" /></span>\n",
    "</div>"
   ]
  },
  {
   "cell_type": "code",
   "execution_count": null,
   "id": "93488952",
   "metadata": {},
   "outputs": [],
   "source": [
    "from IPython.display import HTML\n",
    "HTML('<link rel=\"stylesheet\" href=\"slides-notebook.css\" />')"
   ]
  },
  {
   "cell_type": "code",
   "execution_count": null,
   "id": "795e9e9f",
   "metadata": {},
   "outputs": [],
   "source": [
    "import numpy as np\n",
    "from matplotlib import pyplot as plt"
   ]
  },
  {
   "cell_type": "markdown",
   "id": "9eec90a2",
   "metadata": {},
   "source": [
    "# python-numérique indexing and slicing"
   ]
  },
  {
   "cell_type": "markdown",
   "id": "370648ce",
   "metadata": {},
   "source": [
    "## contenu de ce notebook (sauter si déjà acquis)\n",
    "\n",
    "\n",
    "ce notebook détaille les manières d'accéder à des éléments et de slicer des tableaux `numpy`\n",
    "\n",
    "<br>\n",
    "\n",
    "les slices sont des vues et non des copies\n",
    "\n",
    "<br>\n",
    "\n",
    "la notion de `numpy.ndarray.base`\n",
    "\n",
    "<br>\n",
    "\n",
    "voir les `exercices avancés pour les rapides`"
   ]
  },
  {
   "cell_type": "markdown",
   "id": "f06acb12",
   "metadata": {
    "tags": [
     "framed_cell"
    ]
   },
   "source": [
    "## accès aux éléments d'un tableau    \n",
    "\n",
    "<br>\n",
    "\n",
    "\n",
    "*accéder à des éléments ou à des sous-tableaux  \n",
    "va nous permettre de leur appliquer des fonctions vectorisées*\n",
    "    \n",
    "    \n",
    "<br>\n",
    "    \n",
    "la manière d'accéder aux éléments d'un tableau `numpy`  \n",
    "dépend de la forme du tableau (`shape`)\n",
    "    \n",
    "   \n",
    "<br>\n",
    "\n",
    "la forme d'un `numpy.ndarray` est donnée par une indexation  \n",
    "sur le segment mémoire sous-jacent continu de votre tableau\n",
    "\n",
    "<br>\n",
    "    \n",
    "par exemple  \n",
    "un `numpy.ndarray` de $12$ éléments \n",
    "\n",
    "<div class=\"memory\">\n",
    "\n",
    "```\n",
    "☐☐☐☐☐☐☐☐☐☐☐☐\n",
    "```\n",
    "\n",
    "</div>\n",
    "    \n",
    "peut être indexé sous différentes dimensions et formes\n",
    "* dimension 1, par exemple $(12,)$\n",
    "* dimension 2, par exemple $(1, 12)$ $(6, 2)$ $(3, 4)$ $(4, 3)$\n",
    "* dimension 3, par exemple $(2, 3, 2)$..."
   ]
  },
  {
   "cell_type": "markdown",
   "id": "7db87ae5",
   "metadata": {},
   "source": [
    "***"
   ]
  },
  {
   "cell_type": "markdown",
   "id": "c801a213",
   "metadata": {
    "tags": [
     "framed_cell"
    ]
   },
   "source": [
    "### accès à un tableau de dimension 1\n",
    "\n",
    "<br>\n",
    "\n",
    "vous avez besoin d'**un seul index**\n",
    "    \n",
    "<br>\n",
    "\n",
    "```python\n",
    "tab = np.arange(12)\n",
    "tab[0] = np.pi\n",
    "```\n",
    "<br>\n",
    "\n",
    "    \n",
    "Quelle est le type de `tab[0]` ?  \n",
    "Quelle est la valeur de `tab[0]` ?    \n",
    "\n",
    "rappelez-vous\n",
    "* les éléments d'un tableaux `numpy` sont typés et leur taille est fixe\n",
    "\n",
    "<br>\n",
    "\n",
    "pour mettre des réels dans un tableau  \n",
    "il faut que le type des éléments corresponde\n",
    "\n",
    "```python\n",
    "tab1 = tab.astype(np.float64)\n",
    "tab1[0] = np.pi # 3.141592653589793\n",
    "```"
   ]
  },
  {
   "cell_type": "code",
   "execution_count": null,
   "id": "6315c6b9",
   "metadata": {
    "scrolled": true
   },
   "outputs": [],
   "source": [
    "# le code\n",
    "tab = np.arange(12)\n",
    "tab[0] = np.pi\n",
    "tab[0].dtype, tab[0]"
   ]
  },
  {
   "cell_type": "code",
   "execution_count": null,
   "id": "a5f6ab1c",
   "metadata": {},
   "outputs": [],
   "source": [
    "# le code\n",
    "tab1 = tab.astype(np.float64)\n",
    "tab1[0] = np.pi\n",
    "tab1[0].dtype, tab1[0]"
   ]
  },
  {
   "cell_type": "markdown",
   "id": "9c795f50",
   "metadata": {
    "tags": [
     "framed_cell"
    ]
   },
   "source": [
    "### accès à un tableau de dimension > à 1\n",
    "<br>\n",
    "\n",
    "l'accès à un élément du tableau dépend de la forme du tableau  \n",
    "\n",
    "<br>\n",
    "    \n",
    "il y aura un indice par dimension\n",
    "    \n",
    "<br>\n",
    "  \n",
    "en dimension 2    \n",
    "```python\n",
    "tab = np.arange(12).reshape((2, 6))\n",
    "    \n",
    "# première ligne, deuxième colonne\n",
    "    line, col = 0, 1\n",
    "    tab[line, col] = 1000\n",
    "    \n",
    "tab\n",
    "-> array([[ 0, 1000,  2,  3,  4,  5],\n",
    "          [ 6,    7,  8,  9, 10, 11]])\n",
    "```\n",
    "    \n",
    "<br>\n",
    "        \n",
    "\n",
    "en dimension 3      \n",
    "```python\n",
    "tab.resize((2, 3, 2))\n",
    "\n",
    "# deuxième matrice, troisième ligne, première colonne\n",
    "    \n",
    "mat, line, col = 1, 2, 0\n",
    "tab[mat, line, col] = 2000\n",
    "tab\n",
    "-> array([[[   0, 10],\n",
    "           [   2,  3],\n",
    "           [   4,  5]],\n",
    "\n",
    "          [[   6,  7],\n",
    "           [   8,  9],\n",
    "           [2000, 11]]])\n",
    "```\n",
    "    \n",
    "<br>\n",
    "\n",
    "nombre d'éléments dans chaque dimension\n",
    "```python\n",
    "[tab.shape[i] for i in range(tab.ndim)]\n",
    "-> [2, 3, 2]\n",
    "```\n",
    "    \n",
    "<br>\n",
    "    \n",
    "remarque  en dimension $\\ge2$  \n",
    "les deux dernières dimensions sont les lignes et les colonnes\n",
    "* ainsi le nombre de lignes c'est `tab.shape[-2]`\n",
    "* et de colonne`tab.shape[-1]`"
   ]
  },
  {
   "cell_type": "code",
   "execution_count": null,
   "id": "f4da0304",
   "metadata": {},
   "outputs": [],
   "source": [
    "# le code\n",
    "tab = np.arange(12).reshape((2, 6))\n",
    "    \n",
    "# première ligne, deuxième colonne\n",
    "line, col = 0, 1\n",
    "tab[line, col] = 1000\n",
    "tab"
   ]
  },
  {
   "cell_type": "code",
   "execution_count": null,
   "id": "ee74ecb1",
   "metadata": {},
   "outputs": [],
   "source": [
    "# le code\n",
    "tab.resize((2, 3, 2))\n",
    "\n",
    "# deuxième matrice, troisième ligne, première colonne\n",
    "    \n",
    "mat, line, col = 1, 2, 0\n",
    "tab[mat, line, col] = 2000\n",
    "tab"
   ]
  },
  {
   "cell_type": "markdown",
   "id": "8ed35d28",
   "metadata": {},
   "source": [
    "### exercices"
   ]
  },
  {
   "cell_type": "markdown",
   "id": "d5e5558b",
   "metadata": {},
   "source": [
    "**accès à un élément**  \n",
    "1. créez un tableau des 30 valeurs paires à partir de 2\n",
    "\n",
    "\n",
    "2. donnez lui la forme de 2 matrices de 5 lignes et 3 colonnes\n",
    "\n",
    "\n",
    "3. accédez à l'élément qui est à la 3ème colonne de la 2ème ligne de la 1ère matrice\n",
    "\n",
    "\n",
    "4. obtenez-vous 12 ?"
   ]
  },
  {
   "cell_type": "code",
   "execution_count": null,
   "id": "c2e6e886",
   "metadata": {},
   "outputs": [],
   "source": [
    "# votre code"
   ]
  },
  {
   "cell_type": "markdown",
   "id": "728cc2bd",
   "metadata": {
    "cell_style": "center"
   },
   "source": [
    "**exercice**\n",
    "\n",
    "1. faites un `np.ndarray` de forme $(3, 2, 5, 4)$  \n",
    "   avec des nombre aéatoires entiers entre 0 et 100\n",
    "   \n",
    "   \n",
    "2. affichez-le et\n",
    "   vous voyez trois groupes et 2 matrices de 5 lignes et 4 colonnes\n",
    "\n",
    "\n",
    "\n",
    "3. affichez le nombre des éléments des deux dernières dimensions\n",
    "\n",
    "\n",
    "indice   \n",
    "* utilisez `numpy.random.randint`\n",
    "* son `help` vous dira comment passer la forme au tableau à sa création  \n",
    "(celui de `np.random.randint` selon la manière d'importation de `numpy` )"
   ]
  },
  {
   "cell_type": "code",
   "execution_count": null,
   "id": "f6789a4e",
   "metadata": {},
   "outputs": [],
   "source": [
    "# votre code ici"
   ]
  },
  {
   "cell_type": "markdown",
   "id": "2a45bbd7",
   "metadata": {},
   "source": [
    "## accéder à un sous-tableau (slicing)"
   ]
  },
  {
   "cell_type": "markdown",
   "id": "02bdddf4",
   "metadata": {
    "tags": [
     "framed_cell"
    ]
   },
   "source": [
    "### différence slicing `python` et `numpy`\n",
    "\n",
    "<br>\n",
    "    \n",
    "\n",
    "le **slicing** `numpy` est *syntaxiquement équivalent* à celui des listes `Python`\n",
    "    \n",
    "<br>\n",
    "    \n",
    "la **grande** différence est que\n",
    "* quand vous slicez un **tableau `numpy`** vous obtenez une **vue** sur le tableau initial  \n",
    "(avec une nouvelle indexation)\n",
    "* quand vous slicez une **liste `python`** vous obtenez une **copie** de la liste initiale\n",
    "\n",
    "   \n",
    "<br>\n",
    "    \n",
    "le slicing `numpy` va\n",
    "* regrouper des éléments du tableau initial\n",
    "* dans un sous-tableau `numpy.ndarray` avec l'indexation adéquate\n",
    "* la mémoire sous-jacente reste la même\n",
    "    \n",
    "<br>\n",
    "    \n",
    "la seule structure informatique qui sera créée est l'indexation  \n",
    "    \n",
    "<br>\n",
    "    \n",
    "vous pourrez ensuite, par exemple, modifier ces éléments  \n",
    "et donc ils seront modifiés dans le tableau initial\n",
    "    \n",
    "<br>\n",
    "\n",
    "    \n",
    "<br>\n",
    "\n",
    "</div>"
   ]
  },
  {
   "cell_type": "markdown",
   "id": "972d6900",
   "metadata": {},
   "source": [
    "***"
   ]
  },
  {
   "cell_type": "markdown",
   "id": "5afc4653",
   "metadata": {
    "tags": [
     "framed_cell"
    ]
   },
   "source": [
    "### rappel du slicing Python\n",
    "\n",
    "<br>\n",
    "   \n",
    "**rappel du slicing Python**\n",
    "    \n",
    "    \n",
    "* `l[from:to-excluded:step]` \n",
    "    \n",
    "    \n",
    "* paramètres tous optionnels  \n",
    "par défaut: `from = 0` `to-excluded = len(l)`et `step=1`\n",
    "    \n",
    "    \n",
    "* indices négatifs ok `-1` est le dernier élément, `-2` l'avant dernier ...\n",
    "\n",
    "<br>\n",
    "la liste python des 10 premiers entiers\n",
    "    \n",
    "```python\n",
    "l = [0, 1, 2, 3, 4, 5, 6, 7, 8, 9]\n",
    "    \n",
    "# un élément sur 2 en partant du début de la liste (copie)\n",
    "l[::2]\n",
    "    \n",
    "# un élément sur 3 en partant du premier élément de la liste (copie)\n",
    "l[1::3]\n",
    "    \n",
    "# la liste en reverse (copie)\n",
    "l[::-1]\n",
    "    \n",
    "# la liste entière (copie)\n",
    "l[::]\n",
    "# ou\n",
    "l[:]\n",
    "```\n",
    "<br>\n",
    "\n",
    "</div>"
   ]
  },
  {
   "cell_type": "code",
   "execution_count": null,
   "id": "0c091ffc",
   "metadata": {},
   "outputs": [],
   "source": [
    "# le code\n",
    "l =  [0, 1, 2, 3, 4, 5, 6, 7, 8, 9 ]\n",
    "print(l[::2])\n",
    "print(l[1::3])\n",
    "print(l[::-1])\n",
    "print(l[:])"
   ]
  },
  {
   "cell_type": "markdown",
   "id": "2d3d10df",
   "metadata": {
    "tags": [
     "framed_cell"
    ]
   },
   "source": [
    "### slicing en dimension 1<br>\n",
    "\n",
    "on crée un `numpy.ndarray` de dimension 1 de taille 10\n",
    "    \n",
    "<br>\n",
    "    \n",
    "* on prend un élément sur 2 en partant du début de la liste  \n",
    "* on modifie les éléments du sous-tableau obtenu  \n",
    "* le tableau initial est modifié\n",
    "    \n",
    "    \n",
    "    \n",
    "```python\n",
    "vec = np.arange(10) # [0 1 2 3 4 5 6 7 8 9]\n",
    "print(vec[::2])     # [0 2 4 6 8]\n",
    "vec[::2] = 100\n",
    "print(vec)          # [100, 1, 100, 3, 100, 5, 100, 7, 100, 9]\n",
    "```"
   ]
  },
  {
   "cell_type": "code",
   "execution_count": null,
   "id": "979df507",
   "metadata": {},
   "outputs": [],
   "source": [
    "# le code\n",
    "vec = np.arange(10)\n",
    "print(vec[::2])\n",
    "vec[::2] = 100\n",
    "vec"
   ]
  },
  {
   "cell_type": "markdown",
   "id": "13979539",
   "metadata": {
    "tags": [
     "framed_cell"
    ]
   },
   "source": [
    "### slicing en dimension > à 1 (a)\n",
    "\n",
    "<br>\n",
    "\n",
    "on crée un `numpy.ndarray` en dimension 4, de forme $(2, 3, 4, 5)$  \n",
    "on l'initialise avec les $120$  premiers entiers\n",
    "    \n",
    "```python\n",
    "tab = np.arange(120).reshape(2, 3, 4, 5)\n",
    "```\n",
    "    \n",
    "<br>\n",
    "   \n",
    "on a 2 groupes de 3 matrices de 4 lignes et 5 colonnes    \n",
    "    \n",
    "<br>\n",
    "    \n",
    "* on accède au premier groupe de matrices \n",
    "```python\n",
    "tab[0]\n",
    "```\n",
    "    \n",
    "<br>\n",
    "    \n",
    "* on accède à la deuxième matrice du premier groupe de matrices\n",
    "```python\n",
    "tab[0, 1]\n",
    "```\n",
    "    \n",
    "<br>    \n",
    "\n",
    "* on accède à la troisième ligne de la deuxième matrice du premier groupe de matrices\n",
    "   \n",
    "```python\n",
    "tab[0, 1, 2]\n",
    "```\n",
    "<br>    \n",
    "\n",
    "* on accède à la quatrième colonne de la deuxième matrice du premier groupe de matrices\n",
    "   \n",
    "```python\n",
    "tab[0, 1, :, 3] # remarquez le ':' pour indiquer toutes les lignes\n",
    "```\n",
    "\n",
    "    \n",
    "</div>"
   ]
  },
  {
   "cell_type": "code",
   "execution_count": null,
   "id": "a01d45b2",
   "metadata": {},
   "outputs": [],
   "source": [
    "# le code\n",
    "tab = np.arange(120).reshape(2, 3, 4, 5)\n",
    "print(    tab    )\n",
    "print(    tab[0]    )\n",
    "print(    tab[0, 1]    )\n",
    "print(    tab[0, 1, 2]    )\n",
    "print(    tab[0, 1, :, 3]    )"
   ]
  },
  {
   "cell_type": "markdown",
   "id": "fb8e50ef",
   "metadata": {
    "tags": [
     "framed_cell"
    ]
   },
   "source": [
    "### slicing en dimension > à 1 (b)\n",
    "<br>\n",
    "\n",
    "on crée un `numpy.ndarray` en dimension 4, de forme $(2, 3, 4, 5)$  \n",
    "on l'initialise avec les $120$  premiers entiers\n",
    "    \n",
    "```python\n",
    "tab = np.arange(120).reshape(2, 3, 4, 5)\n",
    "```\n",
    "  \n",
    "<br>\n",
    "    \n",
    "on peut combiner les slicing des 4 dimensions, ici  \n",
    "`tab[from:to:step, from:to:step, from:to:step, from:to_step]`  \n",
    "<br>\n",
    "\n",
    "de l'indice `from` à l'indice `to` (exclus) avec un pas `step`  \n",
    "\n",
    "<br>\n",
    "    \n",
    "à savoir    \n",
    "* quand vous voulez la valeur par défaut de `from`, `to` et `step` vous ne mettez rien\n",
    "* quand les valeurs par défaut sont en fin d'expression, elles sont optionnelles\n",
    "* `::` devient `:`\n",
    "    \n",
    "<br>\n",
    "    \n",
    "**exemples**\n",
    "    \n",
    "la première matrice de tous les groupes de matrice\n",
    "```python\n",
    "tab[::, 0, ::, ::]\n",
    "```\n",
    "tous les groupes  \n",
    "la première matrice  \n",
    "toutes les lignes  \n",
    "toutes les colonnes\n",
    "    \n",
    "<br>\n",
    "    \n",
    "qui s'écrit aussi\n",
    "```python\n",
    "tab[:, 0, :, :]\n",
    "tab[:, 0] # ou encore, plus simplement\n",
    "```    \n",
    "</div>"
   ]
  },
  {
   "cell_type": "code",
   "execution_count": null,
   "id": "9773abd4",
   "metadata": {},
   "outputs": [],
   "source": [
    "tab = np.arange(120).reshape(2, 3, 4, 5)\n",
    "tab[:, 0]"
   ]
  },
  {
   "cell_type": "markdown",
   "id": "f3ebf1f8",
   "metadata": {},
   "source": [
    "**exercices**\n",
    "\n",
    "1. extrayez du tableau `tab` précédent  \n",
    "```python\n",
    "tab = np.arange(120).reshape(2, 3, 4, 5)\n",
    "```\n",
    "\n",
    "la sous-matrice du milieu (garder deux lignes et 3 colonnes, au centre) des premières matrices de tous les groupes\n",
    "\n",
    "$\\begin{bmatrix}\\begin{bmatrix} 6 & 7 & 8\\\\ 11 & 12 & 13 \\end{bmatrix}, \\begin{bmatrix} 66 & 67 & 68 \\\\ 71 & 72 & 73 \\end{bmatrix}\\end{bmatrix}$  \n",
    "<br>\n",
    "\n",
    "**indices**  \n",
    "on a 2 groupes de 3 matrices de 4 lignes et 5 colonnes\n",
    "\n",
    "donc\n",
    "* pour les 2 groupes de matrices\n",
    "* dans la première matrice\n",
    "* la sous-matrice du milieu\n",
    "(obtenue en enlevant une épaisseur de largeur 1 sur le pourtour)  \n",
    "\n",
    "donc\n",
    "* tous les groupes `:`\n",
    "* la première matrice (indice `0`)\n",
    "* de la première ligne (indice `1`) à l'avant dernière ligne (indice `-1`) step par défaut\n",
    "* idem pour les colonnes"
   ]
  },
  {
   "cell_type": "code",
   "execution_count": null,
   "id": "e1fde643",
   "metadata": {},
   "outputs": [],
   "source": [
    "# votre code"
   ]
  },
  {
   "cell_type": "markdown",
   "id": "ba8fade7",
   "metadata": {
    "tags": [
     "framed_cell"
    ]
   },
   "source": [
    "## les sous-tableaux sont des vues, et non des copies\n",
    "\n",
    "<br>\n",
    "\n",
    "le slicing calcule une nouvelle indexation sur le segment mémoire du tableau existant\n",
    "\n",
    "\n",
    "<br>\n",
    "    \n",
    "si à chaque slicing, `numpy` faisait une copie du tableau sous-jacent, les codes seraient inutilisables  \n",
    "parce que coûteux (pénalisés) en place mémoire\n",
    "    \n",
    "  \n",
    "<br>\n",
    "    \n",
    "**donc lors d'un slicing**\n",
    "* un nouvel objet `np.ndarray` est bien créé,\n",
    "* son indexation est différente de celle de l'objet `np.ndarray` initial\n",
    "* mais ils **partagent** la mémoire (le segment unidimensionnel sous-jacent)\n",
    "    \n",
    "    <br>\n",
    "    \n",
    "si un utilisateur veut une copie, il la fait avec la méthode `copy`\n",
    "\n",
    "```python\n",
    "tab1 = tab[:, 0, 1:-1, 1:-1].copy()\n",
    "```"
   ]
  },
  {
   "cell_type": "markdown",
   "id": "daa3b906",
   "metadata": {},
   "source": [
    "***"
   ]
  },
  {
   "cell_type": "markdown",
   "id": "34676035",
   "metadata": {
    "tags": [
     "framed_cell",
     "level_intermediate"
    ]
   },
   "source": [
    "## partage du segment sous-jacent ou non? - avancé    \n",
    "\n",
    "<br>\n",
    "\n",
    "un tableau `numpy.ndarray` peut être\n",
    "1. un tableau *original* (on vient de le créer éventuellement par copie)\n",
    "1. une vue sur un tableau (il a été créé par slicing ou indexation)  \n",
    "  il partage son segment de mémoire avec au moins un autre tableau\n",
    "    \n",
    "<br>\n",
    "    \n",
    "    \n",
    "l'attribut `numpy.ndarray.base` vaut alors\n",
    "    \n",
    "    \n",
    "1. `None` si le tableau est un tableau original\n",
    "\n",
    "```python\n",
    "tab = np.arange(10)\n",
    "print(tab.base)\n",
    "-> None\n",
    "```\n",
    "    \n",
    "    \n",
    "```python\n",
    "tab1 = np.arange(10)\n",
    "tab2 = tab1.copy()\n",
    "print(tab2.base)\n",
    "-> None\n",
    "```\n",
    "    \n",
    "2. **le tableau original qui a servi à créer la vue**  \n",
    "    quand le tableau est une vue  \n",
    "  \n",
    "\n",
    "\n",
    "```python\n",
    "tab1 = np.array([[1, 2, 3], [4, 5, 6]])\n",
    "tab2 = tab1[0:2, 0:2] # une vue\n",
    "tab2.base is tab1\n",
    "-> True\n",
    "```\n",
    "    \n",
    "```python  \n",
    "tab1 = np.arange(120)\n",
    "tab2 = tab1.reshape(2, 3, 4, 5) # une vue\n",
    "tab2.base is tab1\n",
    "-> True\n",
    "```      \n",
    "\n",
    "<br>\n",
    " \n",
    "faites attention, dans l'exemple\n",
    "\n",
    "```python\n",
    "tab1 = np.arange(10).reshape(2, 5)\n",
    "```\n",
    "    \n",
    "`tab1.base` est l'objet `np.arange(10)`  \n",
    "    \n",
    "<br>\n",
    "<br>\n",
    "    \n",
    "    \n",
    "les `numpy.ndarray` ayant le même objet `numpy.ndarray.base`\n",
    "* partagent tous leur segment sous-jacent\n",
    "* sont différentes vues d'un même tableau original  \n",
    "(celui indiqué par leur attribut `base`)\n",
    "* modifier les éléments de l'un modifiera les éléments des autres  \n",
    "(ils *pointent tous* sur le même segment de mémoire)\n",
    "    \n",
    "<br>\n",
    "    \n",
    "`numpy` essaie de créer le moins de mémoire possible  \n",
    "pour stocker les éléments de ses tableaux"
   ]
  },
  {
   "cell_type": "code",
   "execution_count": null,
   "id": "9884cb81",
   "metadata": {},
   "outputs": [],
   "source": [
    "# le code\n",
    "tab1 = np.arange(10)\n",
    "print(tab1.base)"
   ]
  },
  {
   "cell_type": "code",
   "execution_count": null,
   "id": "4c87146c",
   "metadata": {},
   "outputs": [],
   "source": [
    "# le code\n",
    "tab1 = np.arange(10)\n",
    "tab2 = tab1.copy()\n",
    "print(tab2.base)"
   ]
  },
  {
   "cell_type": "code",
   "execution_count": null,
   "id": "6dbfdf7c",
   "metadata": {},
   "outputs": [],
   "source": [
    "# le code\n",
    "tab1 = np.array([[1, 2, 3], [4, 5, 6]])\n",
    "tab2 = tab1[0:2, 0:2] # vue\n",
    "tab2.base is tab1"
   ]
  },
  {
   "cell_type": "code",
   "execution_count": null,
   "id": "6b3ae59a",
   "metadata": {},
   "outputs": [],
   "source": [
    "# le code\n",
    "tab1 = np.arange(120)\n",
    "tab2 = tab1.reshape(2, 3, 4, 5) # une vue\n",
    "tab2.base is tab1"
   ]
  },
  {
   "cell_type": "code",
   "execution_count": null,
   "id": "1a2c7db6",
   "metadata": {},
   "outputs": [],
   "source": [
    "# le code\n",
    "tab1 = np.arange(10).reshape(2, 5)\n",
    "tab1.base"
   ]
  },
  {
   "cell_type": "markdown",
   "id": "922b57fa",
   "metadata": {},
   "source": [
    "**exercice**\n",
    "\n",
    "\n",
    "1. créez un nouveau tableau formé des deux matrices $[\\begin{pmatrix} 2 & 4 & 6\\\\ 8 & 10 & 12 \\end{pmatrix}, \\begin{pmatrix} 14 & 16 & 18 \\\\ 20 & 22 & 24 \\end{pmatrix}]$.  \n",
    "<br>\n",
    "\n",
    "1. affichez sa `base`\n",
    "<br>\n",
    "\n",
    "1. *slicez* le tableau pour obtenir $[\\begin{pmatrix} 24 & 22 & 20 \\\\ 18 & 16 & 14 \\\\ \\end{pmatrix}, \\begin{pmatrix} 12 & 10 & 8 \\\\ 6 & 4 & 2\\end{pmatrix}] $\n",
    "<br>\n",
    "\n",
    "1. affichez la `base` de la slice\n",
    "<br>\n",
    "\n",
    "1. vérifiez que les deux `base` sont le même objet"
   ]
  },
  {
   "cell_type": "code",
   "execution_count": null,
   "id": "441bcae9",
   "metadata": {},
   "outputs": [],
   "source": [
    "# votre code ici"
   ]
  },
  {
   "cell_type": "markdown",
   "id": "cb811a49",
   "metadata": {
    "tags": [
     "framed_cell"
    ]
   },
   "source": [
    "## modification des sous-tableaux\n",
    "\n",
    "<br>\n",
    "    \n",
    "pour modifier un sous-tableau, il faut simplement faire attention \n",
    "1. au type des éléments  \n",
    "2. et à la forme du tableau"
   ]
  },
  {
   "cell_type": "markdown",
   "id": "46f7d192",
   "metadata": {},
   "source": [
    "## exercices avancés pour les rapides"
   ]
  },
  {
   "cell_type": "markdown",
   "id": "8551d2b1",
   "metadata": {},
   "source": [
    "avant d'aborder ces exercices, il existe un utilitaire très pratique (parmi les 2347 que nous n'avons pas eu le temps de couvrir ;); il s'agit de `numpy.indices()`\n",
    "\n",
    "commençons par un exemple :"
   ]
  },
  {
   "cell_type": "code",
   "execution_count": null,
   "id": "0cd73372",
   "metadata": {},
   "outputs": [],
   "source": [
    "lignes, colonnes = np.indices((3, 5))"
   ]
  },
  {
   "cell_type": "code",
   "execution_count": null,
   "id": "1dc0be99",
   "metadata": {
    "cell_style": "split"
   },
   "outputs": [],
   "source": [
    "lignes"
   ]
  },
  {
   "cell_type": "code",
   "execution_count": null,
   "id": "417d4155",
   "metadata": {
    "cell_style": "split"
   },
   "outputs": [],
   "source": [
    "colonnes"
   ]
  },
  {
   "cell_type": "markdown",
   "id": "5e05e79a",
   "metadata": {},
   "source": [
    "vous remarquerez que dans le tableau qui s'appelle `lignes`, la valeur dans le tableau correspond au numéro de ligne; dit autrement :\n",
    "\n",
    "* `lignes[i, j] == i` pour tous les $(i, j)$,\n",
    "    \n",
    "et dans l'autre sens bien sûr \n",
    "\n",
    "* `colonnes[i, j] == j`"
   ]
  },
  {
   "cell_type": "code",
   "execution_count": null,
   "id": "b98b569a",
   "metadata": {
    "cell_style": "split"
   },
   "outputs": [],
   "source": [
    "lignes[1, 4]"
   ]
  },
  {
   "cell_type": "code",
   "execution_count": null,
   "id": "af228cea",
   "metadata": {
    "cell_style": "split"
   },
   "outputs": [],
   "source": [
    "colonnes[1, 4]"
   ]
  },
  {
   "cell_type": "markdown",
   "id": "4a09f494",
   "metadata": {},
   "source": [
    "Pourquoi est-ce qu'on parle de ça me direz-vous ? \n",
    "\n",
    "Eh bien en guise d'indice, cela vous renvoie à la notion de programmation vectorielle.\n",
    "\n",
    "Ainsi par exemple si je veux créer une matrice de taille (3,5) dans laquelle `M[i, j] == i + j`, je **ne vais surtout par écrire une boucle `for`**, et au contraire je vais écrire simplement"
   ]
  },
  {
   "cell_type": "code",
   "execution_count": null,
   "id": "09972cf0",
   "metadata": {},
   "outputs": [],
   "source": [
    "I, J = np.indices((3, 5))\n",
    "M = I + J\n",
    "M"
   ]
  },
  {
   "cell_type": "markdown",
   "id": "a900edcd",
   "metadata": {},
   "source": [
    "### les rayures"
   ]
  },
  {
   "cell_type": "markdown",
   "id": "6f324ae5",
   "metadata": {},
   "source": [
    "Écrivez une fonction `zebre`, qui prend en argument un entier *n* et qui fabrique un tableau carré de coté $n$, formé d'une alternance de colonnes de 0 et de colonnes de 1."
   ]
  },
  {
   "cell_type": "markdown",
   "id": "43797bb1",
   "metadata": {},
   "source": [
    "par exemple pour $n=4$ on s'attend à ceci\n",
    "\n",
    "```console\n",
    "0 1 0 1 \n",
    "0 1 0 1 \n",
    "0 1 0 1 \n",
    "0 1 0 1 \n",
    "```"
   ]
  },
  {
   "cell_type": "code",
   "execution_count": null,
   "id": "b6997143",
   "metadata": {},
   "outputs": [],
   "source": [
    "def zebre(n):\n",
    "    res = np.ones((n, n))\n",
    "    _, c = np.indices((n, n))\n",
    "    res[c % 2 == 0] = 0\n",
    "    return res\n",
    "\n",
    "zebre(4)"
   ]
  },
  {
   "cell_type": "markdown",
   "id": "f706661b",
   "metadata": {},
   "source": [
    "### le damier\n",
    "\n",
    "Écrivez une fonction *checkers*, qui prend en argument la taille *n* du damier, et un paramètre optionnel qui indique la valeur de la case (0, 0), et qui crée un tableau `numpy` carré de coté $n$, et le remplit avec des 0 et 1 comme un damier (0 pour les cases noires et 1 pour les cases blanches).\n",
    "\n",
    "\n",
    "https://nbhosting.inria.fr/auditor/notebook/python-mooc:exos/w7/w7-s05-x1-checkers"
   ]
  },
  {
   "cell_type": "markdown",
   "id": "f2fcd6d8",
   "metadata": {
    "tags": [
     "level_advanced"
    ]
   },
   "source": [
    "### le damier (variante)"
   ]
  },
  {
   "cell_type": "code",
   "execution_count": null,
   "id": "e4bdcf97",
   "metadata": {},
   "outputs": [],
   "source": []
  },
  {
   "cell_type": "markdown",
   "id": "dcf129ed",
   "metadata": {
    "tags": [
     "level_advanced"
    ]
   },
   "source": [
    "Il y a beaucoup de méthodes pour faire cet exercice de damier; elles ne vont pas toutes se généraliser pour la variante :\n",
    "\n",
    "**Variante** écrivez une fonction `super_checkers` qui crée \n",
    "\n",
    "* un damier de coté $k.n \\times k.n$ \n",
    "* composé de blocs de $k\\times k$ homogènes (tous à 0 ou tous à 1)\n",
    "* eux mêmes en damiers\n",
    "* on décide que le premier bloc (en 0,0) vaut 0\n",
    "\n",
    "c'est-à-dire par exemple pour $n=4$ et $k=3$ cela donnerait ceci :\n",
    "\n",
    "```\n",
    "0 0 0 1 1 1 0 0 0 1 1 1 \n",
    "0 0 0 1 1 1 0 0 0 1 1 1 \n",
    "0 0 0 1 1 1 0 0 0 1 1 1 \n",
    "1 1 1 0 0 0 1 1 1 0 0 0 \n",
    "1 1 1 0 0 0 1 1 1 0 0 0 \n",
    "1 1 1 0 0 0 1 1 1 0 0 0 \n",
    "0 0 0 1 1 1 0 0 0 1 1 1 \n",
    "0 0 0 1 1 1 0 0 0 1 1 1 \n",
    "0 0 0 1 1 1 0 0 0 1 1 1 \n",
    "1 1 1 0 0 0 1 1 1 0 0 0 \n",
    "1 1 1 0 0 0 1 1 1 0 0 0 \n",
    "1 1 1 0 0 0 1 1 1 0 0 0 \n",
    "```"
   ]
  },
  {
   "cell_type": "code",
   "execution_count": null,
   "id": "baeaa987",
   "metadata": {
    "tags": [
     "level_advanced"
    ]
   },
   "outputs": [],
   "source": [
    "def super_checkers(n, k):\n",
    "    res = np.ones((k*n, k*n))\n",
    "    l, c = np.indices((k*n, k*n)) // k\n",
    "    res[(l+c) % 2 == 0] = 0\n",
    "    return res\n",
    "\n",
    "super_checkers(4, 4)"
   ]
  },
  {
   "cell_type": "code",
   "execution_count": null,
   "id": "ed03a967",
   "metadata": {
    "tags": [
     "level_advanced"
    ]
   },
   "outputs": [],
   "source": [
    "# doit vous donner la figure ci-dessus\n",
    "# éventuellement avec des False/True au lieu de 0/1\n",
    "super_checkers(4, 3)"
   ]
  },
  {
   "cell_type": "markdown",
   "id": "695f7486",
   "metadata": {},
   "source": [
    "### les escaliers"
   ]
  },
  {
   "cell_type": "markdown",
   "id": "79dfe136",
   "metadata": {},
   "source": [
    "Écrivez une fonction *escalier*, qui prend en argument un entier *n*, qui crée un tableau de taille *2n+1*, et qui le remplit de manière à ce que:\n",
    "   - aux quatre coins du tableau on trouve la valeur *0*\n",
    "   - dans la case centrale on trouve la valeur *2n*\n",
    "   - et si vous partez de n'importe quelle case  et que vous vous déplacez d'une case (horizontalement ou verticalement), en vous dirigeant vers une case plus proche du centre, la valeur que vous trouvez est *1* de plus que la valeur de la case où vous étiez."
   ]
  },
  {
   "cell_type": "markdown",
   "id": "03b7ffda",
   "metadata": {},
   "source": [
    "https://nbhosting.inria.fr/auditor/notebook/python-mooc:exos/w7/w7-s05-x3-stairs"
   ]
  },
  {
   "cell_type": "markdown",
   "id": "1c26d819",
   "metadata": {
    "tags": [
     "level_advanced"
    ]
   },
   "source": [
    "### calculs imbriqués (avancé)"
   ]
  },
  {
   "cell_type": "markdown",
   "id": "a3052939",
   "metadata": {
    "tags": [
     "level_advanced"
    ]
   },
   "source": [
    "Regardez le code suivant :"
   ]
  },
  {
   "cell_type": "code",
   "execution_count": null,
   "id": "9298cf58",
   "metadata": {
    "tags": [
     "level_advanced"
    ]
   },
   "outputs": [],
   "source": [
    "# une fonction vectorisée\n",
    "def pipeline(array):\n",
    "    array2a = np.sin(array)\n",
    "    array2b = np.cos(array)\n",
    "    array3 = np.exp(array2a + array2b)\n",
    "    array4 = np.log(array3+1)\n",
    "    return array4"
   ]
  },
  {
   "cell_type": "markdown",
   "id": "747a9dad",
   "metadata": {
    "tags": [
     "level_advanced"
    ]
   },
   "source": [
    "Les questions : j'ai un tableau `X` typé `float64` et de forme `(1000,)`\n",
    "\n",
    "* j'appelle `pipeline(X)`, combien de mémoire est-ce que `pipeline` va devoir allouer pour faire son travail ?\n",
    "* quel serait le minimum de mémoire dont on a besoin pour faire cette opération ?\n",
    "* voyez-vous un moyen d'optimiser `pipeline` pour atteindre ce minimum ?"
   ]
  },
  {
   "cell_type": "markdown",
   "id": "d6e07254",
   "metadata": {
    "lines_to_next_cell": 2,
    "tags": [
     "level_advanced"
    ]
   },
   "source": [
    "**indice**\n",
    "\n",
    "* l'exercice vous invite à réfléchir à l'utilisation du paramètre `out=` qui est supporté dans les fonction vectorisées de numpy\n",
    "* dans ce cadre, sachez qu'on peut presque toujours remplacer l'usage d'un opérateur (comme ici `+`) par une fonction vectorisée (ici `np.add`)"
   ]
  }
 ],
 "metadata": {
  "jupytext": {
   "cell_metadata_filter": "all,-hidden,-heading_collapsed,-run_control,-trusted",
   "cell_metadata_json": true,
   "encoding": "# -*- coding: utf-8 -*-",
   "notebook_metadata_filter": "all, -jupytext.text_representation.jupytext_version, -jupytext.text_representation.format_version, -language_info.version, -language_info.codemirror_mode.version, -language_info.codemirror_mode, -language_info.file_extension, -language_info.mimetype, -toc"
  },
  "kernelspec": {
   "display_name": "Python 3 (ipykernel)",
   "language": "python",
   "name": "python3"
  },
  "language_info": {
   "name": "python",
   "nbconvert_exporter": "python",
   "pygments_lexer": "ipython3"
  },
  "notebookname": "indexation & slicing"
 },
 "nbformat": 4,
 "nbformat_minor": 5
}
