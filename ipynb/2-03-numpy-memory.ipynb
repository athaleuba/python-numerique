{
 "cells": [
  {
   "cell_type": "markdown",
   "id": "bcc4db5b",
   "metadata": {},
   "source": [
    "<div class=\"licence\">\n",
    "<span>Licence CC BY-NC-ND</span>\n",
    "<span>UE 12</span>\n",
    "<span><img src=\"media/ensmp-25-alpha.png\" /></span>\n",
    "</div>"
   ]
  },
  {
   "cell_type": "code",
   "execution_count": null,
   "id": "0805163c",
   "metadata": {},
   "outputs": [],
   "source": [
    "from IPython.display import HTML\n",
    "HTML('<link rel=\"stylesheet\" href=\"slides-notebook.css\" />')"
   ]
  },
  {
   "cell_type": "markdown",
   "id": "a7b43c28",
   "metadata": {},
   "source": [
    "# python-numérique - la mémoire"
   ]
  },
  {
   "cell_type": "markdown",
   "id": "b42862a8",
   "metadata": {},
   "source": [
    "## contenu de ce notebook (sauter si déjà acquis)\n",
    "\n",
    "<br>\n",
    "\n",
    "avoir une intuition de ce qui se passe dans en mémoire pour un `numpy.ndarray`  \n",
    "\n",
    "<br>\n",
    "\n",
    "> *An array object represents a multidimensional, **homogeneous** array of **fixed-size** items.*\n",
    "\n",
    "<br>\n",
    "\n",
    "* indirection versus décalage (*offset*)\n",
    "* indiçage des tableaux `numpy`\n",
    "* modification de la taille des tableaux `numpy` avec `numpy.resize` et `numpy.reshape` (la mémoire sous-jacente est partagée)"
   ]
  },
  {
   "cell_type": "markdown",
   "id": "06a01095",
   "metadata": {
    "tags": [
     "framed_cell"
    ]
   },
   "source": [
    "## organisation de la mémoire\n",
    "\n",
    "### pourquoi comprendre comment <code>numpy</code> travaille en mémoire ?\n",
    "\n",
    "<br>\n",
    "    \n",
    "pour prendre des décisions en connaissance de cause  \n",
    "* savoir les conséquences de vos choix\n",
    "* comprendre les erreurs  \n",
    "(conversions implicites...)\n",
    "\n",
    "<br>\n",
    "    \n",
    "pour ne pas être dépourvu le jour où votre code, en se complexifiant\n",
    "* devient beaucoup trop lent\n",
    "* prend beaucoup trop d'espace mémoire\n",
    "    \n",
    "<br>\n",
    "\n",
    "pour vous familiariser avec l'informatique et comprendre\n",
    "* les mécanismes sous-jacents \n",
    "* les choix des concepteurs\n",
    "    \n",
    "<br>\n",
    "    \n",
    "pour vous faire une petite culture en informatique technique\n",
    "* ne jamais penser que c'est magique, incompréhensible, trop compliqué...\n",
    "* le plus souvent c'est simplement logique"
   ]
  },
  {
   "cell_type": "markdown",
   "id": "7164ceda",
   "metadata": {},
   "source": [
    "créons un tableau `numpy` en 2 dimensions: 4 lignes et 5 colonnes"
   ]
  },
  {
   "cell_type": "code",
   "execution_count": null,
   "id": "ec51acaf",
   "metadata": {},
   "outputs": [],
   "source": [
    "import numpy as np"
   ]
  },
  {
   "cell_type": "code",
   "execution_count": null,
   "id": "8c948a62",
   "metadata": {},
   "outputs": [],
   "source": [
    "mat =  np.array(\n",
    "    [[1, 2, 3, 4, 5], \n",
    "     [6, 7, 8, 9, 10],\n",
    "     [11, 12, 13, 14, 15],\n",
    "     [16, 17, 18, 19, 20]])\n",
    "mat"
   ]
  },
  {
   "cell_type": "markdown",
   "id": "fbae47fd",
   "metadata": {},
   "source": [
    "la mémoire occupée en mémoire en nombre d'octets (byte)"
   ]
  },
  {
   "cell_type": "code",
   "execution_count": null,
   "id": "38a02067",
   "metadata": {},
   "outputs": [],
   "source": [
    "mat.nbytes"
   ]
  },
  {
   "cell_type": "markdown",
   "id": "d3d7390d",
   "metadata": {
    "tags": [
     "framed_cell"
    ]
   },
   "source": [
    "### organisation en mémoire des tableaux\n",
    "\n",
    "<br>\n",
    "    \n",
    "l'aide (accessible via `help(np.ndarray)`) dit \n",
    "> *An array object represents a multidimensional, homogeneous array of fixed-size items.*\n",
    "    \n",
    "<br>\n",
    "    \n",
    "donc un `numpy.ndarray` est un tableau\n",
    "1. **multi-dimensionnel**\n",
    "1. avec un type d'élément **homogène**\n",
    "1. et des éléments de **taille fixe**\n",
    "\n",
    "<br>\n",
    "    \n",
    "**homogène**  \n",
    "* toutes les cases du tableau ont le même type\n",
    "* donc elles occupent la même taille en mémoire\n",
    "<br>\n",
    "    \n",
    "**taille fixe**  \n",
    "* une fois un tableau créé, on ne peut plus modifier la taille de ses éléments  \n",
    "i.e. le nombre d'octets sur lequel chaque élément est stocké en mémoire est fixe\n",
    "    \n",
    "    \n",
    "    \n",
    "* si on manipule et que la taille des éléments ne suffit plus ?   \n",
    "`numpy` convertit la valeur  \n",
    "mais ne modifie pas la taille de ses éléments\n",
    "    \n",
    "    \n",
    "* pour modifier la taille des éléments ?  \n",
    "on n'a pas le choix, il faut allouer un nouveau tableau, et recopier l'ancien dedans (et c'est à éviter...) \n",
    "    \n",
    "<br>\n",
    "    \n",
    "pourquoi ces **contraintes** ?  \n",
    "* pour que `numpy` soit le plus rapide possible dans ses manipulations de tableaux\n",
    "* grâce à ces contraintes, passer d'une case du tableau à une autre  est très rapide\n",
    "</div>"
   ]
  },
  {
   "cell_type": "markdown",
   "id": "e9aec335",
   "metadata": {},
   "source": [
    "***"
   ]
  },
  {
   "cell_type": "markdown",
   "id": "c4f6222d",
   "metadata": {
    "tags": [
     "framed_cell"
    ]
   },
   "source": [
    "### rapidité des manipulations mémoire\n",
    "<br>\n",
    "    \n",
    "deux **idées** pour assurer la rapidité de manipulation de tableaux en mémoire\n",
    "    \n",
    "    \n",
    "* passez rapidement d'une case du tableau à une autre (**offset**) \n",
    "    \n",
    "    \n",
    "* avoir la valeur de l'élément directement dans la case (pas **d'indirection** mémoire)"
   ]
  },
  {
   "cell_type": "markdown",
   "id": "2b4e03fe",
   "metadata": {},
   "source": [
    "***"
   ]
  },
  {
   "cell_type": "markdown",
   "id": "7b6c92df",
   "metadata": {
    "tags": [
     "framed_cell"
    ]
   },
   "source": [
    "### offset\n",
    "\n",
    "<br>\n",
    "    \n",
    "supposons que le tableau soit représenté en mémoire par un **bloc d'octets continu**  \n",
    "(ici 9 cases sont **contiguës** et de même taille - homogène)\n",
    "\n",
    "<div class=\"memory\">\n",
    "\n",
    "```\n",
    "...☐☐☐☐☐☐☐☐☐...\n",
    "```\n",
    "    \n",
    "</div>\n",
    "    \n",
    "<br>\n",
    "    \n",
    "    \n",
    "passer d'une case à une autre devient un simple décalage mémoire  \n",
    "*on va 2 cases plus loin*  \n",
    "<br>\n",
    "    \n",
    "    \n",
    "l'**offset** est la distance qui sépare ces deux cases\n",
    "\n",
    "<br>   \n",
    "    \n",
    "un tel décalage devient impossible si un tableau était réparti un peu partout en mémoire...  \n",
    "    \n",
    "<div class=\"memory\">\n",
    "    \n",
    "```\n",
    "...☐.......☐..☐....☐...  \n",
    "☐....☐.....☐.....☐.....  \n",
    "......☐.....\n",
    "```\n",
    "    \n",
    "</div>"
   ]
  },
  {
   "cell_type": "markdown",
   "id": "6031158b",
   "metadata": {},
   "source": [
    "***"
   ]
  },
  {
   "cell_type": "markdown",
   "id": "d014a0a2",
   "metadata": {
    "tags": [
     "framed_cell"
    ]
   },
   "source": [
    "### pas d'indirection mémoire\n",
    "<br>\n",
    "    \n",
    "pour un tableau, on sait maintenant\n",
    "* que la taille des éléments est homogène  \n",
    "* que le bloc est contigu en mémoire\n",
    "    \n",
    "<div class=\"memory\">\n",
    "    \n",
    "```\n",
    "☐☐☐☐☐☐☐☐☐☐☐☐☐☐☐☐☐☐☐☐☐☐☐☐☐☐☐☐☐☐\n",
    "```\n",
    "</div>\n",
    "    \n",
    "<br>\n",
    "    \n",
    "    \n",
    "l'idée de n'avoir pas d'indirection est\n",
    "* quand on arrive dans une case du tableau\n",
    "* elle contient la valeur qu'on cherche \n",
    "* on n'a pas besoin d'aller ailleurs en mémoire\n",
    "    \n",
    "<br>\n",
    "\n",
    "Que pourrait-il y avoir d'autre dans une case que la valeur d'un élément ?\n",
    "    \n",
    "<br>\n",
    "    \n",
    "si toutes les cases d'un même tableau en informatique ont la même taille, comment puis-je\n",
    "* y \"*mettre*\"  des élément hétérogènes ? entier, réel, string... \n",
    "* modifier ces éléments sans réallouer le tableau ?\n",
    "    \n",
    "<br>\n",
    "    \n",
    "```python\n",
    "tab = [1, np.pi, True ]\n",
    "tab[0] = 12345678235234501256848345678901234567890264378034\n",
    "tab[0] = \"bonjour\"\n",
    "```\n",
    "    \n",
    "<br>\n",
    "\n",
    "en `python`, dans une case d'un vecteur (`list`)\n",
    "* on ne trouve pas l'objet lui même (`1` ou `\"bonjour\"`)\n",
    "* mais l'**adresse** en mémoire de l'endroit où l'objet a été alloué\n",
    "    \n",
    "<br>\n",
    "    \n",
    "si un tableau contient les adresses de ses éléments  \n",
    "et pas directement la valeur des éléments  \n",
    "il y aura une indirection à faire quand on arrive sur une case"
   ]
  },
  {
   "cell_type": "markdown",
   "id": "fe71f213",
   "metadata": {},
   "source": [
    "### exercice: tableau de chaînes de caractères"
   ]
  },
  {
   "cell_type": "markdown",
   "id": "7e8225fc",
   "metadata": {},
   "source": [
    "**exercices**\n",
    "\n",
    "1. à partir de la liste Python de chaînes de caractères\n",
    "```python\n",
    "l = ['un', 'deux', 'trois', 'cinq']\n",
    "```\n",
    "créez un tableau `numpy.ndarray` (de nom `tab`) et affichez-le\n",
    "<br>\n",
    "\n",
    "1. modifiez le premier élément pour mettre `quatre`\n",
    "```python\n",
    "tab[0] = 'quatre'\n",
    "```\n",
    "et affichez le tableau\n",
    "<br>\n",
    "\n",
    "1. Que constatez-vous ? Pourquoi `quatr` ?\n",
    "<br>\n",
    "\n",
    "1. affichez le type des éléments, le comprenez-vous ?  \n",
    "`<` est une histoire d'ordre des octets dans les objets  \n",
    "`U` signifie unicode  \n",
    "Que signifie `5` ?"
   ]
  },
  {
   "cell_type": "code",
   "execution_count": null,
   "id": "66354350",
   "metadata": {},
   "outputs": [],
   "source": [
    "# votre code ici"
   ]
  },
  {
   "cell_type": "markdown",
   "id": "53da7e11",
   "metadata": {},
   "source": [
    "`numpy` cherche le plus petit type pour stocker les chaînes de caractères initiales\n",
    "\n",
    "ici une case est constituée d'un tableau d'au plus 5 caractères  \n",
    "(une case n'est pas l'adresse d'une chaîne de caractère mais bien la valeur de la chaîne)\n",
    "\n",
    "</div>"
   ]
  },
  {
   "cell_type": "markdown",
   "id": "0d1eb9c3",
   "metadata": {},
   "source": [
    "### exercice: tableau hétérogène"
   ]
  },
  {
   "cell_type": "markdown",
   "id": "cc8b45b1",
   "metadata": {},
   "source": [
    "**exercice**\n",
    "\n",
    "\n",
    "1. créez un tableau `np.ndarray` à partir de la liste Python suivante\n",
    "```python\n",
    "l = [127, 128, 17.4, np.pi, True, False]\n",
    "```\n",
    "<br>\n",
    "\n",
    "1. affichez le type des éléments  \n",
    "que constatez-vous ?  \n",
    "que `numpy` a trouvé le plus petit type pouvant contenir tous ces objets numériques\n",
    "<br>\n",
    "\n",
    "1. ajoutez à la liste Python `l`, la chaîne de caractères `bonjour`  \n",
    "et créez un autre `numpy.ndarray` à partir de la nouvelle valeur de `l`\n",
    "<br>\n",
    "\n",
    "1. affichez les éléments    \n",
    "Que constatez-vous ? \n",
    "<br>\n",
    "\n",
    "1. quel type `numpy` a-t-il trouvé pour stocker tous ces éléments ?"
   ]
  },
  {
   "cell_type": "code",
   "execution_count": null,
   "id": "6bbbadac",
   "metadata": {},
   "outputs": [],
   "source": [
    "# votre code ici"
   ]
  },
  {
   "cell_type": "markdown",
   "id": "cc03fa66",
   "metadata": {},
   "source": [
    "Pour plus d'informations, voir https://numpy.org/doc/stable/user/basics.types.html"
   ]
  },
  {
   "cell_type": "markdown",
   "id": "9bde64d6",
   "metadata": {},
   "source": [
    "## index des tableaux"
   ]
  },
  {
   "cell_type": "markdown",
   "id": "27954501",
   "metadata": {
    "tags": [
     "framed_cell"
    ]
   },
   "source": [
    "### forme des tableaux numpy\n",
    "\n",
    "<br>\n",
    "    \n",
    "la mémoire d'un `numpy.ndarray` est **toujours** un **segment unidimensionnel continu de cases de même taille et même type**\n",
    "    \n",
    "<div class=\"memory\">\n",
    "    \n",
    "```    \n",
    "☐☐☐☐☐☐☐☐☐☐☐☐☐☐☐☐☐☐☐☐☐☐☐☐☐☐☐☐☐☐\n",
    "```\n",
    "</div>\n",
    "    \n",
    "<br>\n",
    "\n",
    "`numpy` crée sur cette base, un système d'indexation\n",
    "* pour *considérer* le tableau sous une forme (`shape`) multi-dimensionnelle"
   ]
  },
  {
   "cell_type": "markdown",
   "id": "c7368f36",
   "metadata": {},
   "source": [
    "***"
   ]
  },
  {
   "cell_type": "markdown",
   "id": "a251e387",
   "metadata": {
    "tags": [
     "framed_cell"
    ]
   },
   "source": [
    "### 1-dimension\n",
    "\n",
    "<br>\n",
    "      \n",
    "créons un tableau de dimension 1 donc de `shape=(30,)`   \n",
    "```python\n",
    "seg = np.ones(shape=(30,))\n",
    "```\n",
    "\n",
    "<br>\n",
    "    \n",
    "un seul index suffit à le parcourir\n",
    "\n",
    "<div class=\"memory\">\n",
    "\n",
    "```\n",
    " ☐☐☐☐☐☐☐☐☐☐☐☐☐☐☐☐☐☐☐☐☐☐☐☐☐☐☐☐☐☐\n",
    "            ↑\n",
    "           seg[i]\n",
    "               \n",
    "```\n",
    "\n",
    "</div>\n",
    "    \n",
    "<br>\n",
    "\n",
    "l'index est l'offset à partir du premier élément du tableau\n",
    "    \n",
    "<br>\n",
    "\n",
    "le premier élément du tableau est indiqué par `seg`  \n",
    "avec un offset de `0`\n",
    "    \n",
    "<br>\n",
    "    \n",
    "voila pourquoi la plupart du temps en informatique, les **tableaux commencent à l'index 0**\n",
    "(et pas 1, sauf pour *matlab*, *R*, *Fortran*...)"
   ]
  },
  {
   "cell_type": "markdown",
   "id": "75dfb801",
   "metadata": {},
   "source": [
    "***"
   ]
  },
  {
   "cell_type": "markdown",
   "id": "5e86ac04",
   "metadata": {
    "tags": [
     "framed_cell"
    ]
   },
   "source": [
    "### 2-dimension\n",
    "\n",
    "<br>\n",
    "      \n",
    "créons un tableau de dimension 2, par exemple de `shape=(5, 6)`   \n",
    "```python\n",
    "seg = np.ones(shape=(5, 6))\n",
    "```\n",
    "\n",
    "<br>\n",
    "    \n",
    "il faut 2 index pour le parcourir  \n",
    "    un pour les lignes et un pour les colonnes `seg[i, j]`\n",
    "\n",
    "<div class=\"memory\">\n",
    "\n",
    "```\n",
    "    \n",
    "   ☐☐☐☐☐☐\n",
    "   ☐☐☐☐☐☐\n",
    "i  ☐☐☐☐☐☐\n",
    "   ☐☐☐☐☐☐\n",
    "   ☐☐☐☐☐☐\n",
    "      ↑\n",
    "      j\n",
    "               \n",
    "```\n",
    "\n",
    "</div>    \n",
    "\n",
    "${0 \\leq i \\leq 4}$  \n",
    "${0 \\leq j \\leq 5}$"
   ]
  },
  {
   "cell_type": "markdown",
   "id": "4ba2f6a0",
   "metadata": {},
   "source": [
    "***"
   ]
  },
  {
   "cell_type": "markdown",
   "id": "16c3b884",
   "metadata": {
    "tags": [
     "framed_cell"
    ]
   },
   "source": [
    "### 3-dimension\n",
    "\n",
    "<br>\n",
    "     \n",
    "créons un tableau de dimension 3, par exemple de `shape=(4, 5, 6)`   \n",
    "```python\n",
    "seg = np.ones(shape=(4, 5, 6))\n",
    "```\n",
    "\n",
    "<br>\n",
    "      \n",
    "3 index pour le parcourir `seg[i, j, k]`  \n",
    "table, ligne, colonne\n",
    "\n",
    "<div class=\"memory\">\n",
    "    \n",
    "```\n",
    "                  i   \n",
    "    \n",
    "   ☐☐☐☐☐☐   ☐☐☐☐☐☐   ☐☐☐☐☐☐   ☐☐☐☐☐☐\n",
    "   ☐☐☐☐☐☐   ☐☐☐☐☐☐   ☐☐☐☐☐☐   ☐☐☐☐☐☐\n",
    " j ☐☐☐☐☐☐   ☐☐☐☐☐☐   ☐☐☐☐☐☐   ☐☐☐☐☐☐\n",
    "   ☐☐☐☐☐☐   ☐☐☐☐☐☐   ☐☐☐☐☐☐   ☐☐☐☐☐☐\n",
    "   ☐☐☐☐☐☐   ☐☐☐☐☐☐   ☐☐☐☐☐☐   ☐☐☐☐☐☐\n",
    "      k        \n",
    "               \n",
    "```\n",
    "\n",
    "</div> \n",
    "    \n",
    "    \n",
    "et ainsi de suite"
   ]
  },
  {
   "cell_type": "markdown",
   "id": "7eccf316",
   "metadata": {},
   "source": [
    "## changer la forme d'un tableau"
   ]
  },
  {
   "cell_type": "markdown",
   "id": "8040a12c",
   "metadata": {
    "tags": [
     "framed_cell"
    ]
   },
   "source": [
    "### fonctions `resize` et `reshape`\n",
    "\n",
    "<br>\n",
    "\n",
    "on peut modifier la forme d'un `numpy.ndarray` existant  \n",
    "tant qu'on ne modifie pas son nombre d'éléments\n",
    "    \n",
    "<br>\n",
    "    \n",
    "deux fonctions pour *réindexer* un tableau: `ndarray.reshape` et `ndarray.resize`\n",
    "    \n",
    "<br>\n",
    "\n",
    "`np.ndarray.reshape`  \n",
    "renvoie un tableau contenant les mêmes données avec une nouvelle forme\n",
    "    \n",
    "<br>\n",
    "    \n",
    "`np.ndarray.resize`  \n",
    "modifie la forme du tableau *en-place* (directement dans le tableau)  \n",
    "et ne renvoie donc rien\n",
    "    \n",
    "<br>\n",
    "    \n",
    "aucune des deux fonction ne crée un nouveau segment de données  \n",
    "elle ne recréent que l'indexation  \n",
    "    \n",
    "<br>\n",
    "    \n",
    "**reshape**    \n",
    "\n",
    "```python\n",
    "seg = np.arange(0, 30)\n",
    "seg = seg.reshape(5, 6) # reshape retourne le tableau ainsi modifié\n",
    "seg = seg.reshape(2, 5, 3)\n",
    "```\n",
    "    \n",
    "on peut le faire dès la création du tableau\n",
    "\n",
    "```python\n",
    "l = range(30)\n",
    "seg = np.array(l).reshape(2, 5, 3)\n",
    "```\n",
    "<br>\n",
    "\n",
    "**resize**\n",
    "    \n",
    "```python\n",
    "seg = np.arange(0, 30)\n",
    "seg.resize(5, 6) # resize modifie le tabeau en place\n",
    "seg.resize(2, 5, 3)\n",
    "```\n",
    "   \n",
    "<br>\n",
    "\n",
    "si aucune mémoire n'est créée, c'est que les différentes indexations prises sur un tableau  \n",
    "**partagent l'objet sous-jacent**"
   ]
  },
  {
   "cell_type": "code",
   "execution_count": null,
   "id": "86beda13",
   "metadata": {},
   "outputs": [],
   "source": [
    "# le code\n",
    "seg = np.arange(0, 30)\n",
    "seg = seg.reshape(5, 6) # reshape retourne le tableau ainsi modifié\n",
    "print(seg)\n",
    "seg = seg.reshape(2, 5, 3)\n",
    "print(seg)"
   ]
  },
  {
   "cell_type": "code",
   "execution_count": null,
   "id": "c95381b2",
   "metadata": {},
   "outputs": [],
   "source": [
    "# le code\n",
    "seg = np.arange(0, 30)\n",
    "seg.resize(5, 6) # resize modifie le tabeau en place\n",
    "print(seg)\n",
    "seg.resize(2, 5, 3)\n",
    "print(seg)"
   ]
  },
  {
   "cell_type": "markdown",
   "id": "86d724c1",
   "metadata": {},
   "source": [
    "### mémoire partagée"
   ]
  },
  {
   "cell_type": "markdown",
   "id": "dc53d3db",
   "metadata": {},
   "source": [
    "**exercice**\n",
    "\n",
    "1. créez un tableau `tab` de 6 `ones` de forme `(6)`  \n",
    "et affichez-le\n",
    "<br>\n",
    "1. mettez dans `tab1` le reshape de `tab` avec la forme `(3, 2)`  \n",
    "et affichez-le\n",
    "<br>\n",
    "1. modifiez le premier élément de `tab`\n",
    "<br>\n",
    "1. affichez `tab1`  \n",
    "a-t-il été modifié ?\n",
    "<br>\n",
    "\n",
    "les deux objets  `tab` et `tab1` de type `numpy.ndarray`\n",
    "* sont des objets différents (leurs index sont différents)\n",
    "* mais ils ont le même segment sous-jacent de données\n",
    "* toucher l'un a pour effet de modifier l'autre"
   ]
  },
  {
   "cell_type": "code",
   "execution_count": null,
   "id": "05a210cd",
   "metadata": {},
   "outputs": [],
   "source": [
    "# votre code"
   ]
  },
  {
   "cell_type": "markdown",
   "id": "db05b2bd",
   "metadata": {
    "tags": [
     "framed_cell"
    ]
   },
   "source": [
    "## les lignes et colonnes\n",
    "\n",
    "<br>\n",
    "    \n",
    "pour les tableaux `numpy.ndarray` en dimension supérieure ou égale à 2\n",
    "* les deux dernières valeurs de leur forme  `tab.shape`   \n",
    "sont leur nombre de ligne et leur nombre de colonne\n",
    "    \n",
    "<br>\n",
    " \n",
    "**exercice**\n",
    "    \n",
    "1. faites un tableau de `ones` de forme `(1, 2, 3, 4, 5)`\n",
    "1. afficher son nombre de lignes et son nombre de colonnes"
   ]
  },
  {
   "cell_type": "code",
   "execution_count": null,
   "id": "0d9e85db",
   "metadata": {
    "lines_to_next_cell": 2
   },
   "outputs": [],
   "source": [
    "tab = np.ones(shape=(1, 2, 3, 4, 5))\n",
    "print(tab.shape[-2:])"
   ]
  }
 ],
 "metadata": {
  "jupytext": {
   "cell_metadata_filter": "all,-hidden,-heading_collapsed,-run_control,-trusted",
   "encoding": "# -*- coding: utf-8 -*-",
   "notebook_metadata_filter": "all, -jupytext.text_representation.jupytext_version, -jupytext.text_representation.format_version, -language_info.version, -language_info.codemirror_mode.version, -language_info.codemirror_mode, -language_info.file_extension, -language_info.mimetype, -toc"
  },
  "kernelspec": {
   "display_name": "Python 3",
   "language": "python",
   "name": "python3"
  },
  "language_info": {
   "name": "python",
   "nbconvert_exporter": "python",
   "pygments_lexer": "ipython3"
  },
  "notebookname": "les types en numpy"
 },
 "nbformat": 4,
 "nbformat_minor": 5
}
