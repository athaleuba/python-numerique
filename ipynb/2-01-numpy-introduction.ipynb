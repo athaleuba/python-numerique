{
 "cells": [
  {
   "cell_type": "markdown",
   "id": "bff187cc",
   "metadata": {},
   "source": [
    "<div class=\"licence\">\n",
    "<span>Licence CC BY-NC-ND</span>\n",
    "<span>UE12</span>\n",
    "<span><img src=\"media/ensmp-25-alpha.png\" /></span>\n",
    "</div>"
   ]
  },
  {
   "cell_type": "code",
   "execution_count": null,
   "id": "4c319bb6",
   "metadata": {},
   "outputs": [],
   "source": [
    "from IPython.display import HTML\n",
    "HTML('<link rel=\"stylesheet\" href=\"slides-notebook.css\" />')"
   ]
  },
  {
   "cell_type": "markdown",
   "id": "1b751183",
   "metadata": {
    "tags": [
     "framed_cell"
    ]
   },
   "source": [
    "**Note**: cette cellule doit s'afficher entourée d'un cadre  \n",
    "si ce n'est pas le cas et pour un rendu optimal, installez la librairie `nb-courselevels`  \n",
    "```bash\n",
    "pip install nb-courselevels\n",
    "```"
   ]
  },
  {
   "cell_type": "markdown",
   "id": "9e3a0e96",
   "metadata": {},
   "source": [
    "# python-numérique - introduction"
   ]
  },
  {
   "cell_type": "markdown",
   "id": "49468e57",
   "metadata": {},
   "source": [
    "## contenu de ce notebook (sauter si déjà acquis)\n",
    "\n",
    "<br>\n",
    "\n",
    "comprendre que des objets qui semblent aussi différents qu'une matrice, une table de mesures hétérogènes, une série temporelle, une image...\n",
    "\n",
    "<br>\n",
    "\n",
    "sont en fait une même structure de données\n",
    "\n",
    "<br>\n",
    "\n",
    "que celle-ci n'existe pas en `python`\n",
    "\n",
    "<br>\n",
    "\n",
    "d'où le recours à la librairie `numpy`"
   ]
  },
  {
   "cell_type": "markdown",
   "id": "280f6d60",
   "metadata": {
    "tags": [
     "framed_cell"
    ]
   },
   "source": [
    "## objectifs de python-numérique\n",
    "\n",
    "<br>\n",
    "    \n",
    "vous êtes désormais capables de lire et d'écrire du code **python simple**\n",
    "\n",
    "<br>\n",
    "    \n",
    "vous savez le mettre en œuvre dans un **notebook**\n",
    "    \n",
    "<br>\n",
    "\n",
    "nous allons maintenant aborder le cours de **python-numérique**\n",
    "    \n",
    "<br>\n",
    "    \n",
    "il s'agit des fonctionnalités de base de **data-science**\n",
    "    \n",
    "<br>\n",
    "    \n",
    "issues de librairies python comme `numpy`, `pandas`, `matplotlib.pyplot`...\n",
    "\n",
    "    \n",
    "<br>\n",
    "\n",
    "commençons par **importer** ces librairies dans Python\n",
    "    \n",
    "```python\n",
    "import numpy as np\n",
    "import pandas as pd\n",
    "from matplotlib import pyplot as plt\n",
    "```\n",
    "    \n",
    "<br>\n",
    "    \n",
    "il peut être nécessaire de les installer avec `pip install numpy pandas matplotlib`  \n",
    "ou `!pip install numpy pandas matplotlib` dans une cellule de vos notebooks\n",
    "  \n",
    "<br>\n",
    "    \n",
    "et regarder la version de ces librairies\n",
    "    \n",
    "```python\n",
    "np.__version__\n",
    "pd.__version__\n",
    "```"
   ]
  },
  {
   "cell_type": "code",
   "execution_count": null,
   "id": "04a76cca",
   "metadata": {},
   "outputs": [],
   "source": [
    "#!pip install numpy pandas matplotlib"
   ]
  },
  {
   "cell_type": "code",
   "execution_count": null,
   "id": "cc2d7ba9",
   "metadata": {},
   "outputs": [],
   "source": [
    "# manière classiques d'importer les librairies de data-science\n",
    "import numpy as np\n",
    "import pandas as pd\n",
    "from matplotlib import pyplot as plt"
   ]
  },
  {
   "cell_type": "code",
   "execution_count": null,
   "id": "2e9c8b4f",
   "metadata": {},
   "outputs": [],
   "source": [
    "# vérifier les versions de ces librairies\n",
    "\n",
    "print(f'numpy version {np.__version__}')\n",
    "print(f'pandas version {pd.__version__}')\n",
    "\n",
    "import matplotlib as mpl # la version de matplotlib\n",
    "print(f'matplotlib version {mpl.__version__}')"
   ]
  },
  {
   "cell_type": "markdown",
   "id": "d00b6353",
   "metadata": {
    "tags": [
     "framed_cell"
    ]
   },
   "source": [
    "## les données\n",
    "<br>\n",
    "    \n",
    "qui dit data-science dit **données**\n",
    "    \n",
    "<br>\n",
    "    \n",
    "données qui seront **manipulées** dans des programmes Python\n",
    "    \n",
    "<br>\n",
    "    \n",
    "pour les manipuler, il faut tout d'abord les **lire** et les **stocker** en mémoire\n",
    "\n",
    "<br>\n",
    "    \n",
    "en data-science on peut avoir de **très grandes quantités** de données\n",
    "* le stockage des données en mémoire doit être **optimisé**  \n",
    "    (en **espace mémoire** et en **temps d'accès** à cet espace mémoire)\n",
    "<br>\n",
    "    \n",
    "* afin que les calculs prennent le **moins de temps possible**\n",
    "    \n",
    "\n",
    "<br>\n",
    "    \n",
    "mais avant de parler de cela, regardons les différentes formes de données que nous voulons manipuler :"
   ]
  },
  {
   "cell_type": "markdown",
   "id": "fda81c2c",
   "metadata": {},
   "source": [
    "***"
   ]
  },
  {
   "cell_type": "markdown",
   "id": "67f45bb6",
   "metadata": {
    "tags": [
     "framed_cell"
    ]
   },
   "source": [
    "## différents formats de données\n",
    "\n",
    "<br>\n",
    "    \n",
    "-------------------------------------------------------- \n",
    "   1. des **vecteurs** et **matrices** numériques classiques\n",
    "\n",
    "<img src='media/matrice.png' width=400></img>\n",
    "\n",
    "<br>\n",
    "\n",
    "-------------------------------------------------\n",
    "2. des **tables** d'observations où\n",
    "   * chaque **observation** (*lignes*)...\n",
    "   \n",
    "   * ...est décrite par une ou plusieurs **mesures** (*colonnes*)\n",
    "   \n",
    "   * la première ligne indique, dans cet exemple, les noms des colonnes\n",
    "   \n",
    "     Quelles sont ces différentes **mesures** ?  \n",
    "     certaines, *SibSp* et *Parch*, sont impossibles à comprendre sans les **meta-data** de la table\n",
    "\n",
    "<img src='media/titanic.png' width=\"1000\"></img>\n",
    "\n",
    "<br>\n",
    "   \n",
    "---------------------------------\n",
    "3. des **séries temporelles**\n",
    "   * on affiche ici les valeurs cumulées des infections au covid de janvier à août 2020 en France\n",
    "   \n",
    "<img src='media/corona-france.jpg' width=\"500\"></img>\n",
    "https://www.data.gouv.fr/fr/datasets/coronavirus-covid19-evolution-par-pays-et-dans-le-monde-maj-quotidienne/\n",
    " \n",
    "<br>\n",
    "    \n",
    "----------------------------------\n",
    "4. des images\n",
    "\n",
    "<img src='media/les-mines.jpg' width=\"500\">\n",
    "\n",
    "<br>\n",
    " \n",
    "----------------------------------\n",
    "5. des sons (musique, voix)  \n",
    "\n",
    "----------------------------------\n",
    "6. **etc.**"
   ]
  },
  {
   "cell_type": "markdown",
   "id": "8b25a850",
   "metadata": {},
   "source": [
    "***"
   ]
  },
  {
   "cell_type": "markdown",
   "id": "3774319b",
   "metadata": {
    "tags": [
     "framed_cell"
    ]
   },
   "source": [
    "### la matrice\n",
    "<br>\n",
    "    \n",
    "pour la matrice, on peut imaginer une représentation Python comme celle-là\n",
    "\n",
    "<br>\n",
    "    \n",
    "```python\n",
    "matrice = [\n",
    "    [1, 2, 3, 4, 5], \n",
    "    [6, 7, 8, 9, 10],\n",
    "    [11, 12, 13, 14, 15],\n",
    "    [16, 17, 18, 19, 20]\n",
    "]   \n",
    "```\n",
    "\n",
    "<br>\n",
    "    \n",
    "mais pour transposer la sous-matrice ... c'est moins facile  \n",
    "et on ne va pas coder une fonction qui doit déjà exister !"
   ]
  },
  {
   "cell_type": "markdown",
   "id": "d67b1644",
   "metadata": {},
   "source": [
    "***"
   ]
  },
  {
   "cell_type": "markdown",
   "id": "8c7206e6",
   "metadata": {
    "tags": [
     "framed_cell"
    ]
   },
   "source": [
    "### table d'observations\n",
    "<br>\n",
    "    \n",
    "la table (des passagers du Titanic), est donnée dans un fichier, voici les 5 premières lignes\n",
    "   \n",
    "<br>\n",
    "\n",
    "```\n",
    "PassengerId,Survived,Pclass,Name,Sex,Age,SibSp,Parch,Ticket,Fare,Cabin,Embarked\n",
    "1,0,3,\"Braund, Mr. Owen Harris\",male,22,1,0,A/5 21171,7.25,,S\n",
    "2,1,1,\"Cumings, Mrs. John Bradley (Florence Briggs Thayer)\",female,38,1,0,PC 17599,71.2833,C85,C\n",
    "3,1,3,\"Heikkinen, Miss. Laina\",female,26,0,0,STON/O2. 3101282,7.925,,S\n",
    "4,1,1,\"Futrelle, Mrs. Jacques Heath (Lily May Peel)\",female,35,1,0,113803,53.1,C123,S\n",
    "...\n",
    "```\n",
    "\n",
    "<br>\n",
    "\n",
    "que remarquez-vous ?\n",
    "\n",
    "* en première ligne - les noms des mesures (les colonnes de la table)  \n",
    "    \n",
    "    \n",
    "* puis une observation par ligne\n",
    " \n",
    "    \n",
    "* les valeurs des mesures sont séparées par des `','`\n",
    "    \n",
    "    \n",
    "* certaines valeurs sont manquantes `',,'`\n",
    "    \n",
    "    \n",
    "* on voit des entiers, des réels (format US donc la virgule des décimales\n",
    "    est représentée par un `.`)...\n",
    "    \n",
    "    \n",
    "* ce format est donc un tableau en 2 dimensions de données hétérogènes  \n",
    "(des réels, des chaînes de caractères, des entiers...)\n",
    "    \n",
    "<br>\n",
    "\n",
    "ce format s'appelle un `CSV` pour **C**omma-**S**eparated-**V**alues   \n",
    "(fichier `titanic.csv`)"
   ]
  },
  {
   "cell_type": "markdown",
   "id": "228cf4e6",
   "metadata": {},
   "source": [
    "***"
   ]
  },
  {
   "cell_type": "markdown",
   "id": "c2ab18c6",
   "metadata": {
    "tags": [
     "framed_cell"
    ]
   },
   "source": [
    "### la série temporelle\n",
    "<br>\n",
    "<br>\n",
    "    \n",
    "pour la série, on a aussi un fichier `CSV`, `corona-par-pays.csv`\n",
    "    \n",
    "<br>\n",
    "    \n",
    "```\n",
    "#Vous pouvez utiliser ces données sans problème\n",
    "#une référence à https://coronavirus.politologue.co sera appréciable\n",
    "Date;Pays;Infections;Deces;Guerisons;TauxDeces;TauxGuerison;TauxInfection\n",
    "2020-08-17;Andorre;989;53;863;5.36;87.26;7.38\n",
    "2020-08-17;Émirats Arabes Unis;64312;364;57694;0.57;89.71;9.72\n",
    "2020-08-17;Afghanistan;37596;1375;27166;3.66;72.26;24.09\n",
    "...\n",
    "```\n",
    "<br>\n",
    "    \n",
    "que remarquez-vous ?\n",
    "    \n",
    "* il ressemble au précédent\n",
    "    \n",
    "    \n",
    "* on a deux lignes de commentaires (commençant par `#`)\n",
    "    \n",
    "    \n",
    "* les noms des colonnes sont dans la troisième ligne  \n",
    "    \n",
    "    \n",
    "* les deux premières mesures sont la date et le pays\n",
    "puis on voit 6 mesures reliées au covid\n",
    "    \n",
    "    \n",
    "* dans chaque ligne, on a la valeur de ces 6 mesures pour une date et un pays\n",
    "    \n",
    "    \n",
    "* les dates ont le format `year-month-day`\n",
    "    \n",
    "    \n",
    "    \n",
    "* les séparateurs sont des `';'`\n",
    "    \n",
    "\n",
    "* les réels sont en format US\n",
    "    \n",
    "    \n",
    "* ce format est aussi une table en 2 dimensions de données hétérogènes  \n",
    "(dates, identificateurs, réels...)\n",
    " \n",
    "</div>"
   ]
  },
  {
   "cell_type": "markdown",
   "id": "767fc80a",
   "metadata": {},
   "source": [
    "***"
   ]
  },
  {
   "cell_type": "markdown",
   "id": "af658e4a",
   "metadata": {
    "tags": [
     "framed_cell"
    ]
   },
   "source": [
    "### l'image\n",
    "\n",
    "<br>\n",
    "   \n",
    "pour l'image on a le fichier, en format `jpg`, `les-mines.jpg`\n",
    "    \n",
    "<br>\n",
    "    \n",
    "on sait que l'image est constituée de $533$ lignes et $800$ colonnes de pixels\n",
    "    \n",
    "<br>\n",
    "    \n",
    "et que chaque pixel est représenté par ses 3 valeurs `RGB` RedGreenBlue\n",
    "\n",
    "<br>\n",
    "    \n",
    "voici les valeurs des premiers pixels de l'image\n",
    "    \n",
    "```python\n",
    "[[[150, 106, 33], [143, 105, 0], [ 58, 31, 4], [135, 45, 36], [229, 131, 84], [153, 158, 200]...    ]]\n",
    "```\n",
    "    \n",
    "<br>\n",
    "       \n",
    "on devine les trois dimensions (les trois `[[[`)\n",
    "    \n",
    "<br>\n",
    "\n",
    "les valeurs des pixels RGB\n",
    "* ici, des entiers prenant 256 valeurs\n",
    "* $2^8$ valeurs de 0 à 255  \n",
    "* pour les stocker il suffit donc d'entiers non-signés sur 8 bits  \n",
    "  (0 est `00000000` et 255 est `11111111`)\n",
    "    \n",
    "<br>"
   ]
  },
  {
   "cell_type": "markdown",
   "id": "a7e426ee",
   "metadata": {},
   "source": [
    "***"
   ]
  },
  {
   "cell_type": "markdown",
   "id": "ab120dc4",
   "metadata": {
    "tags": [
     "framed_cell"
    ]
   },
   "source": [
    "## représenter ces données en mémoire\n",
    "\n",
    "### notre problème\n",
    "\n",
    "<br>\n",
    "   \n",
    "représenter ces données dans la mémoire de l'ordinateur afin de les analyser\n",
    "    \n",
    "* ces données semblent assez différentes : matrice, tables de passagers, série temporelle, image...  \n",
    "    \n",
    "* nous souhaitons pourtant leur appliquer le même genre de fonctions\n",
    "    \n",
    "<br>\n",
    "    \n",
    "comme un `max` ou un `min`\n",
    "* le passager le plus agé ou le plus jeune du titanic\n",
    "* les pixels les plus clairs ou les plus foncés\n",
    "* les minima ou maxima des lignes de la matrice\n",
    "  \n",
    "  \n",
    "<br>\n",
    "    \n",
    "comme des `plot` (boxplot, histogramme,  plot 2D...)\n",
    "    \n",
    "<br>\n",
    "    \n",
    "comme de petites statistiques (moyenne, écart-type...)  \n",
    "    \n",
    "<br>\n",
    "    \n",
    "il faut leur trouver une **forme commune**\n",
    "    \n",
    "</div>"
   ]
  },
  {
   "cell_type": "markdown",
   "id": "96c1bd1a",
   "metadata": {},
   "source": [
    "***"
   ]
  },
  {
   "cell_type": "markdown",
   "id": "3cf62230",
   "metadata": {
    "tags": [
     "framed_cell"
    ]
   },
   "source": [
    "### ces données sont des tableaux multi-dimensionnels\n",
    "<br>\n",
    "   \n",
    "    \n",
    "on a des tableaux **homogènes**\n",
    "    \n",
    "* la matrice est un tableau d'entiers, en 2 dimensions, de taille $5 \\times 4$\n",
    "    \n",
    "    \n",
    "* l'image est un tableau d'entiers, en 3 dimensions, de taille $533 \\times 800 \\times 3$\n",
    "    \n",
    "<br>\n",
    "    \n",
    "et des tableaux **hétérogènes**\n",
    "    \n",
    "* la table des passagers du Titanic est un tableau 2D de taille $891 \\times 9$\n",
    "    \n",
    "        \n",
    "* la série temporelle est un tableau 2D de taille $33342 \\times 8$\n",
    "    \n",
    "\n",
    "* les colonnes sont des séries de valeurs de même type\n",
    "    \n",
    "    \n",
    "* toutes  les colonnes n'ont pas le même type"
   ]
  },
  {
   "cell_type": "markdown",
   "id": "358abefa",
   "metadata": {},
   "source": [
    "***"
   ]
  },
  {
   "cell_type": "markdown",
   "id": "7b9cc899",
   "metadata": {
    "lines_to_next_cell": 2,
    "tags": [
     "framed_cell"
    ]
   },
   "source": [
    "### pas de type Python adéquat\n",
    "\n",
    "**structures de ces données ?**\n",
    "\n",
    "<br>\n",
    "    \n",
    "Python ne possède pas de type adapté à ces tableaux multi-dimensionnels \n",
    "    \n",
    "<br>\n",
    "    \n",
    "depuis 2006, une librairie numérique `numpy` est *développée* pour cela\n",
    "    \n",
    "<br>\n",
    "\n",
    "non intégrée au core-langage Python par souci de maintenance du code\n",
    "\n",
    "<br>\n",
    "    \n",
    "elle est LA librairie numérique incontournable de Python\n",
    "    \n",
    "<br>\n",
    "\n",
    "elle étend Python avec la manipulation de tableaux multi-dimensionnels\n",
    "\n",
    "<br>\n",
    "    \n",
    "c'est une bibliothèque libre et open source\n",
    "    \n",
    "<br>\n",
    "    \n",
    "`SciPy` (ScientificPython) pour le calcul scientifique est fondée sur `numpy`"
   ]
  }
 ],
 "metadata": {
  "jupytext": {
   "cell_metadata_filter": "all,-hidden,-heading_collapsed,-run_control,-trusted",
   "encoding": "# -*- coding: utf-8 -*-",
   "notebook_metadata_filter": "all, -jupytext.text_representation.jupytext_version, -jupytext.text_representation.format_version, -language_info.version, -language_info.codemirror_mode.version, -language_info.codemirror_mode, -language_info.file_extension, -language_info.mimetype, -toc"
  },
  "kernelspec": {
   "display_name": "Python 3 (ipykernel)",
   "language": "python",
   "name": "python3"
  },
  "language_info": {
   "name": "python",
   "nbconvert_exporter": "python",
   "pygments_lexer": "ipython3"
  },
  "notebookname": "intro à numpy"
 },
 "nbformat": 4,
 "nbformat_minor": 5
}
