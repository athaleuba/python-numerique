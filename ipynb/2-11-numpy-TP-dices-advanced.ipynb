{
 "cells": [
  {
   "cell_type": "markdown",
   "id": "b3aa00e2",
   "metadata": {},
   "source": [
    "# python-numérique - exercice"
   ]
  },
  {
   "cell_type": "code",
   "execution_count": null,
   "id": "a941caa1",
   "metadata": {},
   "outputs": [],
   "source": [
    "import numpy as np"
   ]
  },
  {
   "cell_type": "markdown",
   "id": "ce492fdc",
   "metadata": {},
   "source": [
    "### résultats du tirage de `n` dès à `s` faces"
   ]
  },
  {
   "cell_type": "markdown",
   "id": "1309ccf2",
   "metadata": {},
   "source": [
    "Deux versions pour cet exercice:\n",
    "   - la première est pour les débutants, elle est guidée et amène à construire le résultat pas à pas\n",
    "   - la deuxième est pour les forts qui se débrouillent tout seuls"
   ]
  },
  {
   "cell_type": "markdown",
   "id": "d91b8211",
   "metadata": {},
   "source": [
    "#### version pour les débutants"
   ]
  },
  {
   "cell_type": "markdown",
   "id": "5172e98a",
   "metadata": {},
   "source": [
    "On veut calculer les résultats des tirages de `n` dés à `s` faces. Afin, par exemple de faire des probabilités d'obtention de certains tirages. De combien de manières différentes peut-on obtenir `7` avec `3` dès à `6` faces."
   ]
  },
  {
   "cell_type": "markdown",
   "id": "108e6d45",
   "metadata": {},
   "source": [
    "Si nous prenons un seul dès à `6` faces. Quels sont les tirages possibles ?\n",
    "\n",
    "oui `1, 2, 3, 4, 5, 6`\n",
    "\n",
    "Construisez alors un `numpy.ndarray` contenant les tirages d'un dès à `s` faces."
   ]
  },
  {
   "cell_type": "code",
   "execution_count": null,
   "id": "abd9e146",
   "metadata": {},
   "outputs": [],
   "source": [
    "# votre code ici"
   ]
  },
  {
   "cell_type": "markdown",
   "id": "c4183fbe",
   "metadata": {},
   "source": [
    "Maintenant si on prend `n=2` dès à `s=6` faces. Quels sont les tirages possibles ?\n",
    "\n",
    "Oui:\n",
    "\n",
    "|  +  | &#124; | 1 | 2 | 3 | 4 | 5 | 6 |\n",
    "|:---:|:------:|:-:|:-:|:-:|:-:|:-:|:-:|\n",
    "| *1* | &#124; | 2 | 3 | 4 | 5 | 6 | 7 | \n",
    "| *2* | &#124; | 3 | 4 | 5 | 6 | 7 | 8 | \n",
    "| *3* | &#124; | 4 | 5 | 6 | 7 | 8 | 9 | \n",
    "| *4* | &#124; | 5 | 6 | 7 | 8 | 9 |10 | \n",
    "| *5* | &#124; | 6 | 7 | 8 | 9 |10 |11 | \n",
    "| *6* | &#124; | 7 | 8 | 9 |10 |11 |12 | \n",
    "\n",
    "\n",
    "Construisez alors un `numpy.ndarray` contenant les tirages de `n=2` dès à `s=6` faces. Un indice ? Utilisez le `broadcasting`:\n",
    "\n",
    "On vous fait un rappel. Si on ajoute en `numpy` un tableau de forme `(3,)` à un tableau de forme `(3, 1)` on obtient la matrice suivante: $\\begin{pmatrix} a_{1} & a_{2} & a_{3} \\end{pmatrix} + \\begin{pmatrix} b_1 \\\\ b_2 \\\\ b_3 \\end{pmatrix} = \\begin{pmatrix} a_{1} + b_1 & a_{2} + b_1 & a_{3} + b_1 \\\\ a_{1} + b_2 & a_{2} + b_2 & a_{3} + b_2 \\\\ a_{1} + b_3 & a_{2} + b_3 & a_{3}  + b_3\\\\ a_{1} + b_4 & a_{2} + b_4 & a_{3} + b_4 \\end{pmatrix}$"
   ]
  },
  {
   "cell_type": "code",
   "execution_count": null,
   "id": "a5481009",
   "metadata": {},
   "outputs": [],
   "source": [
    "# votre code ici"
   ]
  },
  {
   "cell_type": "markdown",
   "id": "76ce654c",
   "metadata": {},
   "source": [
    "On remarque que la dimension de notre tableau est le nombre de dès."
   ]
  },
  {
   "cell_type": "markdown",
   "id": "7242f473",
   "metadata": {},
   "source": [
    "On continue.\n",
    "\n",
    "Maintenant si je prends `3` dès avec `6` faces, je suis en dimension `3` et je veux donc obtenir un *cube* (avec tous les résultats). Pour obtenir ce cube, je pars de ma matrice (de forme `(s, s)`) des tirages en dimension 2 et j'utilise le broadcast pour lui ajouter une troisième dimension.\n",
    "\n",
    "Quelle est la forme de ce vecteur ? Il doit déclencher le broadcast donc il doit être de forme `(s, 1, 1)`.\n",
    "\n",
    "En effet  \n",
    "(i) la forme `(s, )` c'est la forme des lignes de la matrice  \n",
    "(ii) la forme `(s, 1)` est celle des colonnes  \n",
    "(iii) la forme `(1, ..., 1, s)` se broadcast en ligne comme `(1, s)` ou `(s,)` (essayez)\n",
    "(iv) la forme `(s, 1, 1)` forcera le broadcast en un cube\n",
    "\n",
    "Vous avez maintenant tous les indices pour généraliser en dimension `n` dès (vous aurez naturellement une boucle mais bien sûr pas sur les éléments d'un `numpy.ndarray` !)"
   ]
  },
  {
   "cell_type": "code",
   "execution_count": null,
   "id": "511db98e",
   "metadata": {},
   "outputs": [],
   "source": [
    "# votre code ici"
   ]
  },
  {
   "cell_type": "markdown",
   "id": "879e3ca6",
   "metadata": {},
   "source": [
    "Cet espace des tirage pourra nous resservir dans de futurs exercices.\n",
    "\n",
    "Vous remarquez qu'on est dans une manière de faire qui **explicite l'ensemble des solutions** ce qu'on appelle une méthode en force brute. Ces méthodes sont clairement exponentielles."
   ]
  },
  {
   "cell_type": "markdown",
   "id": "74293a41",
   "metadata": {
    "tags": [
     "level_advanced"
    ]
   },
   "source": [
    "#### les dès version  pour les forts"
   ]
  },
  {
   "cell_type": "markdown",
   "id": "adec1862",
   "metadata": {
    "tags": [
     "level_advanced"
    ]
   },
   "source": [
    "On étudie les probabilités d'obtenir une certaine somme avec plusieurs dés. \n",
    "\n",
    "Tout le monde connaît le cas classique avec deux dés à 6 faces, ou l'on construit mentalement la grille suivante:\n",
    "\n",
    "|  +  | &#124; | 1 | 2 | 3 | 4 | 5 | 6 |\n",
    "|:---:|:------:|:-:|:-:|:-:|:-:|:-:|:-:|\n",
    "| *1* | &#124; | 2 | 3 | 4 | 5 | 6 | 7 | \n",
    "| *2* | &#124; | 3 | 4 | 5 | 6 | 7 | 8 | \n",
    "| *3* | &#124; | 4 | 5 | 6 | 7 | 8 | 9 | \n",
    "| *4* | &#124; | 5 | 6 | 7 | 8 | 9 |10 | \n",
    "| *5* | &#124; | 6 | 7 | 8 | 9 |10 |11 | \n",
    "| *6* | &#124; | 7 | 8 | 9 |10 |11 |12 | \n",
    "\n",
    "Imaginons que vous êtes un étudiant, vous venez de faire un exercice de maths qui vous a mené à une formule qui permet de calculer, pour un jeu à `nb_dice` dés, chacun à `sides` faces, le nombre de tirages qui donnent une certaine somme `target`.\n",
    "\n",
    "Vous voulez **vérifier votre formule**, en appliquant une **méthode de force brute**. C'est-à-dire constuire un hypercube avec toutes les possibilités de tirage, puis calculer pour chaque point dans l'hypercube la somme correspondante; de cette façon on pourra compter les occurrences de `target`.\n",
    "\n",
    "C'est l'objet de cet exercice. Vous devez écrire une fonction `dice` qui prend en paramètres:\n",
    "\n",
    "* `target` : la somme cible à atteindre,\n",
    "* `nb_dice` : le nombre de dés,\n",
    "* `sides`: le nombre de faces sur chaque dé.\n",
    "\n",
    "On convient que par défaut `nb_dice`=2 et `sides`=6, qui correspond au cas habituel.\n",
    "\n",
    "Dans ce cas-là par exemple, on voit, en comptant la longueur des diagonales sur la figure, que `dice(7)` doit valoir 6, puisque le tableau comporte 6 cases contenant 7 sur la diagonale.\n",
    "\n",
    "À nouveau, on demande explicitement ici un parcours de type force brute; c'est-à-dire de créer sous la forme d'un tableau `numpy`, un hypercube qui énumère toutes les combinaisons possibles; et sans faire de `for` sur les éléments d'un tableau."
   ]
  },
  {
   "cell_type": "markdown",
   "id": "3489a47e",
   "metadata": {
    "tags": [
     "level_advanced"
    ]
   },
   "source": [
    "https://nbhosting.inria.fr/auditor/notebook/python-mooc:exos/w7/w7-s05-x4-dice"
   ]
  },
  {
   "cell_type": "markdown",
   "id": "73535e92",
   "metadata": {
    "tags": [
     "level_advanced"
    ]
   },
   "source": [
    "**Indice**\n",
    "\n",
    "Il existe en `numpy` une astuce pour augmenter la dimension d'un tableau, ça s'appelle `np.newaxis`, et ça s'utilise comme ceci"
   ]
  },
  {
   "cell_type": "code",
   "execution_count": null,
   "id": "1810c989",
   "metadata": {
    "cell_style": "center",
    "tags": [
     "level_advanced"
    ]
   },
   "outputs": [],
   "source": [
    "dice_1 = np.arange(1, 7)\n",
    "dice_2 = dice_1[:, np.newaxis]"
   ]
  },
  {
   "cell_type": "code",
   "execution_count": null,
   "id": "7a72cca0",
   "metadata": {
    "cell_style": "split",
    "tags": [
     "level_advanced"
    ]
   },
   "outputs": [],
   "source": [
    "dice_1"
   ]
  },
  {
   "cell_type": "code",
   "execution_count": null,
   "id": "7caa9a7a",
   "metadata": {
    "cell_style": "split",
    "tags": [
     "level_advanced"
    ]
   },
   "outputs": [],
   "source": [
    "dice_2"
   ]
  },
  {
   "cell_type": "markdown",
   "id": "6474a57b",
   "metadata": {
    "tags": [
     "level_advanced"
    ]
   },
   "source": [
    "et remarquez que pour créer le tableau ci-dessus il suffit de faire"
   ]
  },
  {
   "cell_type": "code",
   "execution_count": null,
   "id": "7385baac",
   "metadata": {
    "lines_to_next_cell": 2,
    "tags": [
     "level_advanced"
    ]
   },
   "outputs": [],
   "source": [
    "dice_1 + dice_2"
   ]
  }
 ],
 "metadata": {
  "jupytext": {
   "cell_metadata_filter": "all,-hidden,-heading_collapsed,-run_control,-trusted",
   "cell_metadata_json": true,
   "encoding": "# -*- coding: utf-8 -*-",
   "notebook_metadata_filter": "all, -jupytext.text_representation.jupytext_version, -jupytext.text_representation.format_version, -language_info.version, -language_info.codemirror_mode.version, -language_info.codemirror_mode, -language_info.file_extension, -language_info.mimetype, -toc"
  },
  "kernelspec": {
   "display_name": "Python 3 (ipykernel)",
   "language": "python",
   "name": "python3"
  },
  "language_info": {
   "name": "python",
   "nbconvert_exporter": "python",
   "pygments_lexer": "ipython3"
  },
  "notebookname": "broadcasting"
 },
 "nbformat": 4,
 "nbformat_minor": 5
}
