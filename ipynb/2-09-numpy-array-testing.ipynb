{
 "cells": [
  {
   "cell_type": "markdown",
   "id": "6842ee82",
   "metadata": {},
   "source": [
    "<div class=\"licence\">\n",
    "<span>Licence CC BY-NC-ND</span>\n",
    "<span>ue12</span>\n",
    "<span><img src=\"media/ensmp-25-alpha.png\" /></span>\n",
    "</div>"
   ]
  },
  {
   "cell_type": "code",
   "execution_count": null,
   "id": "51592d79",
   "metadata": {},
   "outputs": [],
   "source": [
    "from IPython.display import HTML\n",
    "HTML('<link rel=\"stylesheet\" href=\"slides-notebook.css\" />')"
   ]
  },
  {
   "cell_type": "markdown",
   "id": "2335a341",
   "metadata": {},
   "source": [
    "# python-numérique tests des tableaux"
   ]
  },
  {
   "cell_type": "code",
   "execution_count": null,
   "id": "92fb1c91",
   "metadata": {},
   "outputs": [],
   "source": [
    "import numpy as np"
   ]
  },
  {
   "cell_type": "markdown",
   "id": "abf19cdb",
   "metadata": {},
   "source": [
    "## contenu de ce notebook (sauter si déjà acquis)\n",
    "\n",
    "<br>\n",
    "\n",
    "tests sur les tableaux multi-dimensionnels `numpy` par fonctions vectorisées `ufunc` \n",
    "\n",
    "<br>\n",
    "\n",
    "masques/filtres booléens\n",
    "\n",
    "<br>\n",
    "\n",
    "composition des conditions  \n",
    "opérateurs logiques *bit-à-bit* `&` `|`  `~`  \n",
    "équivalent `numpy` `np.logical_and` `np.logical_or` `np.logical_not`  \n",
    "\n",
    "<br>\n",
    "\n",
    "obtenir une vue sur les éléments du tableau initial  \n",
    "`numpy.argwhere`, `numpy.nonzero` et `numpy.putmask`"
   ]
  },
  {
   "cell_type": "markdown",
   "id": "0391107e",
   "metadata": {
    "tags": [
     "framed_cell"
    ]
   },
   "source": [
    "## tests sur tableaux multi-dimensionnels\n",
    "\n",
    "<br>\n",
    "\n",
    "l'idée est de tester en une opération **tous les éléments** d'un tableau\n",
    "\n",
    "<br>\n",
    "\n",
    "**prenons un exemple**\n",
    "\n",
    "<br>\n",
    "    \n",
    "générons aléatoirement un tableau d'entiers  \n",
    "(ici entre $0$ et $9$)\n",
    "   \n",
    "```python\n",
    "tab = np.random.randint(10, size=(2, 3))\n",
    "-> tab [[1 8 5]\n",
    "        [7 0 2]]\n",
    "``` \n",
    "    \n",
    "<br>\n",
    "    \n",
    "testons la parité des éléments\n",
    "    \n",
    "```python\n",
    "tab%2 == 0\n",
    "```\n",
    "ou encore - équivalent mais en appelant une fonction plutôt que l'opérateur `==`\n",
    "    \n",
    "```python\n",
    "np.equal(tab%2, 0)\n",
    "```   \n",
    "<br>\n",
    "    \n",
    "les résultats des comparaisons élément-par-élément  \n",
    "sont rangés dans un tableau `np.ndarray`  \n",
    "de même taille que le tableau initial\n",
    "   \n",
    "```python\n",
    "tab%2 == 0\n",
    "-> [[False,  True,  False],\n",
    "    [False,  True,  True]]    \n",
    "```\n",
    "    \n",
    "<br>\n",
    "\n",
    "       \n",
    "**remarquez**\n",
    "    \n",
    "* dans l'expression `tab%2 == 0` et `np.equal(tab % 2, 0)`\n",
    "* le broadcast de `0` en un tableau de `0` de la même taille que `tab`"
   ]
  },
  {
   "cell_type": "code",
   "execution_count": null,
   "id": "97305c4f",
   "metadata": {},
   "outputs": [],
   "source": [
    "# le code\n",
    "tab = np.random.randint(10, size=(2, 3))\n",
    "print(tab)\n",
    "print(tab % 2 == 0)\n",
    "print(np.equal(tab % 2, 0))\n",
    "res = tab % 2 == 0\n",
    "print(res.shape)"
   ]
  },
  {
   "cell_type": "markdown",
   "id": "6936248a",
   "metadata": {
    "tags": [
     "framed_cell"
    ]
   },
   "source": [
    "## n'utilisez pas de for-python: utilisez les `ufunc`\n",
    "\n",
    "<br>\n",
    "        \n",
    "les opérations de comparaison s'appliquent à tous les éléments d'un tableau en une seule fois  \n",
    "* il ne faut **jamais** utiliser de **for-python**\n",
    "* les fonctions sont vectorisées (les *UFuncs*)\n",
    "\n",
    "```python\n",
    "type(np.greater)\n",
    "-> numpy.ufunc\n",
    "```"
   ]
  },
  {
   "cell_type": "code",
   "execution_count": null,
   "id": "85450537",
   "metadata": {
    "cell_style": "split"
   },
   "outputs": [],
   "source": [
    "# > est une ufunc\n",
    "\n",
    "# on peut écrire indifféremment\n",
    "tab > 5"
   ]
  },
  {
   "cell_type": "code",
   "execution_count": null,
   "id": "5d362386",
   "metadata": {
    "cell_style": "split"
   },
   "outputs": [],
   "source": [
    "# ou bien\n",
    "np.greater(tab, 5)"
   ]
  },
  {
   "cell_type": "markdown",
   "id": "11864c1f",
   "metadata": {
    "tags": [
     "framed_cell"
    ]
   },
   "source": [
    "## combiner les résultats\n",
    "\n",
    "<br>\n",
    "    \n",
    "    \n",
    "**les résultats** peuvent être combinés\n",
    "* en un résultat **global**\n",
    "* en des **sous-tableaux** de résultats\n",
    "    \n",
    "<br>\n",
    "    \n",
    "un tableau\n",
    "```python\n",
    "tab = np.random.randint(10, size=(2, 3))\n",
    "-> tab [[1 8 5]\n",
    "        [7 0 2]]\n",
    "``` \n",
    "<br>\n",
    "    \n",
    "regardons si il existe au moins une valeur paire dans le tableau des résultats\n",
    "    \n",
    "```python\n",
    "res = np.equal(tab%2, 0)    \n",
    "np.any(res)\n",
    "-> True\n",
    "```     \n",
    "\n",
    "     \n",
    "<br>\n",
    "    \n",
    "regardons si toutes les valeurs sont paires\n",
    "    \n",
    "```python\n",
    "res = np.equal(tab%2, 0)    \n",
    "np.all(res)\n",
    "-> False\n",
    "```     \n",
    "\n",
    "<br>\n",
    "    \n",
    "comptons le nombre global de valeurs paires\n",
    "   \n",
    "```python\n",
    "res = tab%2 == 0    \n",
    "print(np.sum(res))\n",
    "-> 3\n",
    "```     \n",
    "\n",
    "il existe une fonction dédiée  \n",
    "(elle compte le nombre d'éléments non nuls)  \n",
    "```python\n",
    "np.count_nonzero(tab%2==0)\n",
    "-> 3\n",
    "```\n",
    "    \n",
    "<br>\n",
    "    \n",
    "\n",
    "comptons le nombre de valeurs paires dans l'axe des lignes du tableau\n",
    "    \n",
    "```python\n",
    "res = tab %2 == 0    \n",
    "print(np.sum(res, axis=0)) # axe des lignes\n",
    "-> [0, 2, 1]\n",
    "```  \n",
    "\n",
    "avec la fonction dédiée  \n",
    "(elle compte sur les axes)  \n",
    "```python\n",
    "np.count_nonzero(tab%2==0, axis=0)\n",
    "-> [0, 2, 1]\n",
    "```"
   ]
  },
  {
   "cell_type": "code",
   "execution_count": null,
   "id": "37f43c55",
   "metadata": {
    "scrolled": false
   },
   "outputs": [],
   "source": [
    "# le code\n",
    "tab = np.random.randint(10, size=(2, 3))\n",
    "res = np.equal(tab%2, 0)\n",
    "print(np.any(res))\n",
    "print(np.all(res))\n",
    "print(np.sum(res))\n",
    "print(np.count_nonzero(tab%2==0))\n",
    "print(np.sum(res, axis=0))\n",
    "np.count_nonzero(tab%2==0, axis=0)"
   ]
  },
  {
   "cell_type": "markdown",
   "id": "504162c8",
   "metadata": {
    "tags": [
     "framed_cell"
    ]
   },
   "source": [
    "## les masques/filtres booléens\n",
    "\n",
    "<br>\n",
    "    \n",
    "le tableau des résultats des tests est un **masque booléen**  \n",
    "* il a la **même forme** que le tableau initial\n",
    "* il va servir de **filtre** sur le tableau initial\n",
    "    \n",
    "<br>\n",
    "    \n",
    "il va permettre de sélectionner dans le tableau initial  \n",
    "les éléments pour lesquels le test est vrai\n",
    "    \n",
    "<br>\n",
    "    \n",
    "générons un `numpy.ndarray` de forme `(2, 3, 4)` d'entiers entre -10 et 10\n",
    "\n",
    "```python\n",
    "tab = np.random.randint(-10, 10, size=(2, 3, 4))\n",
    "```\n",
    "\n",
    "<br>\n",
    "\n",
    "\n",
    "* filtrons les entiers strictement positifs\n",
    "```python\n",
    "tab[tab > 0]\n",
    "```\n",
    "* ou encore\n",
    "```python\n",
    "tab[np.greater(tab, 0)]\n",
    "``` \n",
    "   \n",
    "<br>\n",
    "\n",
    "on peut modifier tous les éléments filtrés d'un seul coup  \n",
    "lors de l'application du filtre\n",
    "\n",
    "```python\n",
    "tab[tab > 0] = 0\n",
    "tab # n'a plus que des éléments négatifs ou nuls\n",
    "```\n",
    "\n",
    "<br>\n",
    "\n",
    "on peut aussi construire les indices des éléments sélectionnés  \n",
    "pour les repérer dans le tableau original"
   ]
  },
  {
   "cell_type": "code",
   "execution_count": null,
   "id": "630742f9",
   "metadata": {
    "scrolled": true
   },
   "outputs": [],
   "source": [
    "# le code\n",
    "tab = np.random.randint(-10, 10, size=(2, 3, 4))\n",
    "print(tab[np.greater(tab, 0)])\n",
    "print(tab[tab > 0])"
   ]
  },
  {
   "cell_type": "code",
   "execution_count": null,
   "id": "ae65470e",
   "metadata": {},
   "outputs": [],
   "source": [
    "# le code\n",
    "tab [tab > 0] = 0\n",
    "tab"
   ]
  },
  {
   "cell_type": "markdown",
   "id": "ccfc2de6",
   "metadata": {
    "tags": [
     "framed_cell"
    ]
   },
   "source": [
    "## composition des conditions\n",
    "\n",
    "<br>\n",
    "    \n",
    "4 règles\n",
    "* vous ne pouvez **pas** utiliser les opérateurs logiques Python `and`, `or`, `not`  \n",
    "  (ils ne sont **pas** vectorisés)\n",
    "* vous devez utiliser les opérateurs logiques *bit-à-bit* `&` `|`  `~`\n",
    "* ou leur équivalent en fonction `numpy`  \n",
    "  `np.logical_and` `np.logical_or` `np.logical_not`  \n",
    "  (qui sont binaires)\n",
    "* vous devez parenthéser les sous-termes de vos expressions\n",
    "    \n",
    "<br>\n",
    "    \n",
    "on crée un tableau d'entiers aléatoires entre 0 et 100\n",
    "    \n",
    "```python\n",
    "tab = np.random.randint(100, size=(3, 4))\n",
    "```\n",
    "            \n",
    "<br>\n",
    "    \n",
    "masque pour sélectionner les éléments entre 25 et 75 \n",
    "    \n",
    "```python\n",
    "(tab >= 25) & (tab < 75)\n",
    "```\n",
    "                            \n",
    "<br>\n",
    "    \n",
    "masque pour sélectionner les éléments non-pairs entre 25 et 75\n",
    "    \n",
    "    \n",
    "```python\n",
    "(tab >= 25) & (tab < 75) & ~(tab%2==0)\n",
    "```\n",
    "    \n",
    "<br>\n",
    "    \n",
    "    \n",
    "et donc en version `nunmpy`\n",
    "    \n",
    "```python\n",
    "np.logical_and(tab >= 25, tab < 75)\n",
    "```    \n",
    "    \n",
    "```python\n",
    "np.logical_and(tab >= 25, np.logical_and(tab < 75, np.logical_not(tab%2==0)))\n",
    "```"
   ]
  },
  {
   "cell_type": "code",
   "execution_count": null,
   "id": "c558575b",
   "metadata": {},
   "outputs": [],
   "source": [
    "# le code\n",
    "tab = np.random.randint(100, size=(3, 4))\n",
    "print(tab)\n",
    "print((tab >= 25) & (tab < 75))\n",
    "print((tab >= 25) & (tab < 75) & ~(tab%2==0))"
   ]
  },
  {
   "cell_type": "code",
   "execution_count": null,
   "id": "6c4a596e",
   "metadata": {},
   "outputs": [],
   "source": [
    "# le code\n",
    "print(np.logical_and(tab >= 25, tab < 75))\n",
    "print(np.logical_and(tab >= 25, np.logical_and(tab < 75, np.logical_not(tab%2==0))))"
   ]
  },
  {
   "cell_type": "code",
   "execution_count": null,
   "id": "e2835235",
   "metadata": {
    "tags": [
     "level_intermediate"
    ]
   },
   "outputs": [],
   "source": [
    "# ATTENTION\n",
    "# en Python pur on a le droit d'écrire un test comme\n",
    "# 25 <= tab < 75\n",
    "# MAIS comme ça va implicitement faire un 'and'\n",
    "# ça ne fonctionne pas avec les tableaux numpy\n",
    "try:\n",
    "    25 <= tab < 75\n",
    "except Exception as exc:\n",
    "    print(\"OOPS - ne marche pas avec numpy\\n\", exc)"
   ]
  },
  {
   "cell_type": "markdown",
   "id": "9b864a68",
   "metadata": {},
   "source": [
    "## modifier les éléments dans tableau d'origine"
   ]
  },
  {
   "cell_type": "markdown",
   "id": "52663cd2",
   "metadata": {
    "tags": [
     "framed_cell"
    ]
   },
   "source": [
    "### affecter une sélection\n",
    "\n",
    "<br>\n",
    "\n",
    "avec une expression de *sélection* de cette forme `tab[mask]`   \n",
    "on peut **aussi modifier** (ces emplacements dans) le tableau de départ  \n",
    "en affectant directement une valeur  \n",
    "remarquez que la sélection se trouve à gauche du signe `=`\n",
    "\n",
    "```python\n",
    "tab = np.array([[1, 2, 3], [4, 5, 6]])\n",
    "tab[tab % 2 == 0] = 100\n",
    "print(tab)\n",
    "[[  1 100   3]\n",
    " [100   5 100]]\n",
    "```"
   ]
  },
  {
   "cell_type": "code",
   "execution_count": null,
   "id": "d55fe15f",
   "metadata": {},
   "outputs": [],
   "source": [
    "# le code\n",
    "tab = np.array([[1, 2, 3], [4, 5, 6]])\n",
    "tab[tab % 2 == 0] = 100\n",
    "print(tab)"
   ]
  },
  {
   "cell_type": "markdown",
   "id": "8d95dec7",
   "metadata": {
    "tags": [
     "framed_cell",
     "level_intermediate"
    ]
   },
   "source": [
    "### c'est fragile (1)\n",
    "\n",
    "<br>\n",
    "\n",
    "par contre il faut être un peu prudent; certaines formes, pourtant voisines en apparence, ne vont pas fonctionner\n",
    "\n",
    "**1er cas**\n",
    "\n",
    "maladroitement, je range la sélection dans une variable  \n",
    "la sélection ne se trouve plus à gauche du `=`  \n",
    "dans cette forme l'affectation va en fait modifier un tableau temporaire  \n",
    "bref, ça **ne fonctionne plus** !  \n",
    "\n",
    "\n",
    "```python\n",
    "tab = np.array([[1, 2, 3], [4, 5, 6]])\n",
    "view = tab[tab%2==0]\n",
    "view = 100\n",
    "print(tab) \n",
    "-> ([[1, 2, 3], # et non [1, 100, 3],...\n",
    "     [4, 5, 6]])\n",
    "```    "
   ]
  },
  {
   "cell_type": "code",
   "execution_count": null,
   "id": "c5fed8e7",
   "metadata": {
    "tags": [
     "level_intermediate"
    ]
   },
   "outputs": [],
   "source": [
    "# le code\n",
    "tab = np.array([[1, 2, 3], [4, 5, 6]])\n",
    "view = tab[tab%2==0]\n",
    "view = 100\n",
    "print(tab)"
   ]
  },
  {
   "cell_type": "markdown",
   "id": "f11174ed",
   "metadata": {
    "tags": [
     "framed_cell",
     "level_intermediate"
    ]
   },
   "source": [
    "### c'est fragile (2)\n",
    "\n",
    "**2ème cas**\n",
    "\n",
    "imaginons que je ne veux modifier **que le premier** des éléments pair  \n",
    "je vais essayer en *indexant* ma sélection  \n",
    "mais ça **ne fonctionne pas** comme espéré  \n",
    "ici encore l'effet de bord se perd dans la nature  \n",
    "et le tableau original n'est pas modifié\n",
    "\n",
    "\n",
    "```python\n",
    "tab = np.array([[1, 2, 3], [4, 5, 6]])\n",
    "tab[tab%2==0][0] = 100\n",
    "print(tab) \n",
    "-> ([[1, 2, 3], # et non [1, 100, 3],...\n",
    "     [4, 5, 6]])\n",
    "```    "
   ]
  },
  {
   "cell_type": "code",
   "execution_count": null,
   "id": "39284d04",
   "metadata": {
    "lines_to_next_cell": 2,
    "tags": [
     "level_intermediate"
    ]
   },
   "outputs": [],
   "source": [
    "# le code\n",
    "tab = np.array([[1, 2, 3], [4, 5, 6]])\n",
    "tab[tab%2==0][0] = 100\n",
    "print(tab) "
   ]
  },
  {
   "cell_type": "markdown",
   "id": "d9b34424",
   "metadata": {
    "tags": [
     "framed_cell",
     "level_intermediate"
    ]
   },
   "source": [
    "### repérer les éléments par leurs indices\n",
    "\n",
    "<br>\n",
    "    \n",
    "dans ce genre de situation, pour modifier les éléments sélectionnés dans le tableau d'origine, on peut repèrer les éléments par leur indice dans le tableau d'origine\n",
    "\n",
    "<br>\n",
    "    \n",
    "et pour calculer ces indices, deux fonctions:\n",
    "* la fonction `numpy.nonzero`\n",
    "* la fonction `numpy.argwhere` (avancé)"
   ]
  },
  {
   "cell_type": "markdown",
   "id": "e93781d6",
   "metadata": {
    "tags": [
     "level_intermediate"
    ]
   },
   "source": [
    "***"
   ]
  },
  {
   "cell_type": "markdown",
   "id": "31862631",
   "metadata": {
    "tags": [
     "framed_cell",
     "level_intermediate"
    ]
   },
   "source": [
    "### la fonction `numpy.nonzero`\n",
    "\n",
    "<br>\n",
    "    \n",
    "`numpy.nonzero`\n",
    "* renvoie un tuple de même dimension que le tableau d'origine\n",
    "* dans chaque dimension, on a la liste des indices\n",
    "    \n",
    "<br>\n",
    "    \n",
    "exemple\n",
    "    \n",
    "```python\n",
    "tab = np.array([[1, 2, 3], [4, 5, 6]])\n",
    "np.nonzero(~(tab%2==0))\n",
    "-> ([0, 0, 1], [0, 2, 1])\n",
    "```\n",
    "    \n",
    "<br>\n",
    "    \n",
    "la première liste contient les indices des lignes  `[0, 0, 1]`\n",
    "    \n",
    "la seconde liste contient les indices des colonnes `[0, 2, 1]`\n",
    "    \n",
    "    \n",
    "`tab[0, 0]` `tab[0, 2]` et `tab[1, 1]` sont les 3 éléments\n",
    "  \n",
    "```python\n",
    "print(tab[0, 0], tab[0, 2], tab[1, 1])\n",
    "-> 1, 3, 5\n",
    "```\n",
    "    \n",
    "<br>   \n",
    "\n",
    "la **magie**: vous pouvez indicer le tableau d'origine avec ce tuple  \n",
    "pour obtenir une vue sur le tableau d'origine\n",
    "    \n",
    " \n",
    "```python\n",
    "tab[np.nonzero(~(tab%2==0))]\n",
    "-> 1, 3, 5\n",
    "```\n",
    "   \n",
    "<br>\n",
    "    \n",
    "et donc vous pouvez modifier les éléments du tableau original    \n",
    " \n",
    "```python\n",
    "tab[np.nonzero(~(tab%2==0))] = 1000\n",
    "tab\n",
    "-> [[1000,    2, 1000],\n",
    "    [   4, 1000,    6]]\n",
    "```"
   ]
  },
  {
   "cell_type": "code",
   "execution_count": null,
   "id": "efe94b70",
   "metadata": {
    "tags": [
     "level_intermediate"
    ]
   },
   "outputs": [],
   "source": [
    "tab = np.array([[1, 2, 3], [4, 5, 6]])\n",
    "print(\"non zero\", np.nonzero(~(tab%2==0)))\n",
    "print(\"elements\", tab[0, 0], tab[0, 2], tab[1, 1])\n",
    "print(\"filter\", tab[np.nonzero(~(tab%2==0))])\n",
    "tab[np.nonzero(~(tab%2==0))] = 0\n",
    "print(\"edited tab\", tab)"
   ]
  },
  {
   "cell_type": "markdown",
   "id": "3ad0bb7f",
   "metadata": {
    "tags": [
     "framed_cell",
     "level_intermediate"
    ]
   },
   "source": [
    "###  la fonction `numpy.argwhere`\n",
    "\n",
    "<br>\n",
    "    \n",
    "`numpy.argwhere`\n",
    "* renvoie un tableau de dimension 2\n",
    "* autant de lignes que d'éléments filtrés\n",
    "* chaque ligne donne l'index d'un élément  \n",
    "dans chacune des dimensions du tableau d'origine\n",
    "    \n",
    "    \n",
    "<br>\n",
    "    \n",
    "exemple\n",
    "    \n",
    "```python\n",
    "tab = np.array([[1, 2, 3], [4, 5, 6]])\n",
    "np.argwhere(~(tab%2==0))\n",
    "-> [[0, 0],\n",
    "    [0, 2],\n",
    "    [1, 1]]\n",
    "```\n",
    "    \n",
    "<br>\n",
    "    \n",
    "la première ligne contient les indices du premier élément  `[0, 0]`\n",
    "    \n",
    "la seconde ligne contient les indices du second élément `[0, 2]`\n",
    "    \n",
    "la troisième ligne contient les indices du troisième élément `[1, 1]`\n",
    "    \n",
    "    \n",
    "<br>   \n",
    "\n",
    "vous ne pouvez **pas**  indicer directement le tableau d'origine par ce tableau  \n",
    "et non on ne fait pas de `for-python`\n",
    "\n",
    "  \n",
    "<br>\n",
    "    \n",
    "on remarque\n",
    "* que les résultats de `numpy.nonzero` et  `numpy.argwhere` sont très proches\n",
    "* à une transposée et un type `tuple` près\n",
    "    \n",
    "```python\n",
    "cond = ~(tab%2==0)\n",
    "np.nonzero(cond)            # ([0, 0, 1], [0, 2, 1])\n",
    "np.argwhere(cond)           # [[0 0] [0 2] [1 1]]\n",
    "np.argwhere(cond).T         # [[0 0 1] [0 2 1]]\n",
    "tuple(np.argwhere(cond).T)  # ([0, 0, 1], [0, 2, 1])\n",
    "tab[tuple(np.argwhere(cond).T)]    \n",
    "-> array([1, 3, 5])\n",
    "```"
   ]
  },
  {
   "cell_type": "code",
   "execution_count": null,
   "id": "076cd9c9",
   "metadata": {
    "tags": [
     "level_intermediate"
    ]
   },
   "outputs": [],
   "source": [
    "# le code\n",
    "tab = np.array([[1, 2, 3], [4, 5, 6]])\n",
    "cond = ~(tab%2==0)\n",
    "print(np.argwhere(cond).T)\n",
    "print(np.nonzero(cond))\n",
    "print(tuple(np.argwhere(cond).T))\n",
    "tab[tuple(np.argwhere(cond).T)]"
   ]
  },
  {
   "cell_type": "markdown",
   "id": "dd3777d7",
   "metadata": {
    "tags": [
     "framed_cell",
     "level_advanced"
    ]
   },
   "source": [
    "### modifier avec `array.putmask()`\n",
    "\n",
    "**avancés**\n",
    "\n",
    "<br>\n",
    "    \n",
    "la fonction `numpy.putmask(tab, cond, value)` remplace dans un `numpy.ndarray`  \n",
    "les éléments obéissant à une condition, par une valeur donnée en argument\n",
    "    \n",
    "<br>\n",
    "    \n",
    "la modification est effectuée dans le tableau (en place)\n",
    "    \n",
    "<br>\n",
    "    \n",
    "```python\n",
    "tab = np.arange(12).reshape(3, 4)\n",
    "np.putmask(tab, tab%2==1, 0)\n",
    "tab -> ([[ 0,  0,  2,  0],\n",
    "        [ 4,  0,  6,  0],\n",
    "        [ 8,  0, 10,  0]])\n",
    "```"
   ]
  },
  {
   "cell_type": "code",
   "execution_count": null,
   "id": "1d5c256c",
   "metadata": {
    "lines_to_next_cell": 2,
    "tags": [
     "level_advanced"
    ]
   },
   "outputs": [],
   "source": [
    "# le code\n",
    "tab = np.arange(12).reshape(3, 4)\n",
    "np.putmask(tab, tab%2==1, 0)\n",
    "tab"
   ]
  }
 ],
 "metadata": {
  "jupytext": {
   "cell_metadata_filter": "all,-hidden,-heading_collapsed,-run_control,-trusted",
   "cell_metadata_json": true,
   "encoding": "# -*- coding: utf-8 -*-",
   "notebook_metadata_filter": "all, -jupytext.text_representation.jupytext_version, -jupytext.text_representation.format_version, -language_info.version, -language_info.codemirror_mode.version, -language_info.codemirror_mode, -language_info.file_extension, -language_info.mimetype, -toc"
  },
  "kernelspec": {
   "display_name": "Python 3",
   "language": "python",
   "name": "python3"
  },
  "language_info": {
   "name": "python",
   "nbconvert_exporter": "python",
   "pygments_lexer": "ipython3"
  },
  "notebookname": "masques pour tester les tableaux"
 },
 "nbformat": 4,
 "nbformat_minor": 5
}
