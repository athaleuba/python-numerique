{
 "cells": [
  {
   "cell_type": "markdown",
   "id": "7af7032e",
   "metadata": {},
   "source": [
    "<div class=\"licence\">\n",
    "<span>Licence CC BY-NC-ND</span>\n",
    "<span>UE 12</span>\n",
    "<span><img src=\"media/ensmp-25-alpha.png\" /></span>\n",
    "</div>"
   ]
  },
  {
   "cell_type": "markdown",
   "id": "f1536101",
   "metadata": {},
   "source": [
    "# python-numérique - TP simple avec des images\n",
    "\n",
    "merci à Wikipedia et à stackoverflow\n",
    "\n",
    "**vous n'allez pas faire ici de traitement d'image  \n",
    "on se sert d'images pour égayer des exercices avec `numpy`  \n",
    "(et parce que quand on se trompe: on le voit)**"
   ]
  },
  {
   "cell_type": "markdown",
   "id": "0e2a9962",
   "metadata": {},
   "source": [
    "**Notions intervenant dans ce TP**\n",
    "\n",
    "* création, indexation, slicing, modification  de `numpy.ndarray`\n",
    "* affichage d'image (RBG, RGB-A, niveaux de gris)\n",
    "* lecture de fichier `jpg`\n",
    "* les autres notions utilisées sont rappelées (très succinctement)\n",
    "\n",
    "**N'oubliez pas d'utiliser le help en cas de problème.**"
   ]
  },
  {
   "cell_type": "markdown",
   "id": "23d8f975",
   "metadata": {},
   "source": [
    "## import des librairies"
   ]
  },
  {
   "cell_type": "markdown",
   "id": "894cb469",
   "metadata": {},
   "source": [
    "1. Importez la librairie `numpy`\n",
    "<br>\n",
    "\n",
    "1. Importez la librairie `matplotlib.pyplot`  \n",
    "ou toute autre librairie d'affichage que vous aimez et/ou savez utiliser `seaborn`...\n",
    "<br>"
   ]
  },
  {
   "cell_type": "code",
   "execution_count": null,
   "id": "cecab798",
   "metadata": {},
   "outputs": [],
   "source": [
    "# votre code"
   ]
  },
  {
   "cell_type": "markdown",
   "id": "b7f6e8ff",
   "metadata": {},
   "source": [
    "## création d'une image de couleur"
   ]
  },
  {
   "cell_type": "markdown",
   "id": "f08db03d",
   "metadata": {},
   "source": [
    "**Rappels (rapides)**\n",
    "\n",
    "* dans une image en couleur, les pixels sont représentés par leurs *dosages* dans les 3 couleurs primaires: `red`, `green`, `blue`  \n",
    "* si le pixel vaut `(r, g, b) = (255, 0, 0)`, il ne contient que de l'information rouge, il est affiché comme du rouge\n",
    "* l'affichage à l'écran, d'une image couleur `rgb`, utilise les règles de la synthèse additive  \n",
    "`(r, g, b) = (255, 255, 255)` donne la couleur blanche    \n",
    "`(r, g, b) = (0, 0, 0)` donne la couleur noire    \n",
    "`(r, g, b) = (255, 255, 0)` donne la couleur jaune ...\n",
    "<img src='media/synthese-additive.png' width=200>\n",
    "* pour afficher le tableau `im` comme une image, utilisez: `plt.imshow(im)`\n",
    "* pour afficher plusieurs images dans une même cellule de notebook faire `plt.show()` après chaque `plt.imshow(...)`"
   ]
  },
  {
   "cell_type": "markdown",
   "id": "6f08d6d3",
   "metadata": {},
   "source": [
    "**Exercices**\n",
    "\n",
    "1. Créez un tableau blanc, de 91 pixels de côté, d'entiers non-signés 8 bits et affichez-le  \n",
    "   indices:   \n",
    "   . le tableau n'est pas forcément initialisé à ce stade  \n",
    "   . il vous faut pouvoir stocker 3 uint8 par pixel pour ranger les 3 couleurs\n",
    "1. Transformez le en tableau noir (en un seul slicing) et affichez-le\n",
    "1. Transformez le en tableau jaune (en un seul slicing) et affichez-le\n",
    "1. Affichez les valeurs RGB du premier pixel de l'image, et du dernier\n",
    "1. Faites un quadrillage d'une ligne bleue, toutes les 10 lignes et colonnes et affichez-le\n",
    "1. Affichez les valeurs RGB du premier et du dernier pixel de l'image"
   ]
  },
  {
   "cell_type": "code",
   "execution_count": null,
   "id": "774ae00b",
   "metadata": {},
   "outputs": [],
   "source": [
    "# votre code"
   ]
  },
  {
   "cell_type": "markdown",
   "id": "989a76ac",
   "metadata": {},
   "source": [
    "## lecture d'une image en couleur"
   ]
  },
  {
   "cell_type": "markdown",
   "id": "336d1a52",
   "metadata": {},
   "source": [
    "1. Avec la fonction `plt.imread` lisez le fichier `les-mines.jpg`  \n",
    "ou toute autre image - *faites juste attention à la taille*\n",
    "\n",
    "1. Vérifiez si l'objet est modifiable avec `im.flags.writeable`  \n",
    "si il ne l'est pas copiez-le\n",
    "\n",
    "1. Affichez l'image \n",
    "\n",
    "1. Quel est le type de l'objet créé ?\n",
    "\n",
    "1. Quelle est la dimension de l'image ?\n",
    "\n",
    "1. Quelle est la taille de l'image en hauteur et largeur ?\n",
    "\n",
    "1. Quel est le nombre d'octets utilisé par pixel ?  \n",
    "\n",
    "1. Quel est le type des pixels ?  \n",
    "(deux types pour les pixels: entiers non-signés 8 bits ou flottants sur 64 bits)\n",
    "\n",
    "1. Quelles sont ses valeurs maximale et minimale des pixels ?\n",
    "\n",
    "1. Affichez le rectangle de 10 x 10 pixels en haut de l'image"
   ]
  },
  {
   "cell_type": "code",
   "execution_count": null,
   "id": "1da30e59",
   "metadata": {},
   "outputs": [],
   "source": [
    "# votre code"
   ]
  },
  {
   "cell_type": "markdown",
   "id": "7e4c7c6c",
   "metadata": {},
   "source": [
    "## accès à des parties d'image"
   ]
  },
  {
   "cell_type": "markdown",
   "id": "4f5cbc5f",
   "metadata": {},
   "source": [
    "1. Relire l'image\n",
    "\n",
    "1. Slicer et afficher l'image en ne gardant qu'une ligne et qu'une colonne sur 2, 5, 10 et 20  \n",
    "(ne dupliquez pas le code)\n",
    "\n",
    "1. Isoler le rectangle de `l` lignes et `c` colonnes en milieu d'image  \n",
    "affichez-le pour `(l, c) = (10, 20)`) puis `(l, c) = (100, 200)`)\n",
    "\n",
    "1. Affichez le dernier pixel de l'image"
   ]
  },
  {
   "cell_type": "code",
   "execution_count": null,
   "id": "50e0a489",
   "metadata": {},
   "outputs": [],
   "source": [
    "# votre code"
   ]
  },
  {
   "cell_type": "markdown",
   "id": "d029881a",
   "metadata": {},
   "source": [
    "## canaux rgb de l'image"
   ]
  },
  {
   "cell_type": "markdown",
   "id": "f26a6c63",
   "metadata": {},
   "source": [
    "1. Relire l'image\n",
    "<br>\n",
    "1. Découpez l'image en ses trois canaux Red, Green et Blue  \n",
    "<br>\n",
    "\n",
    "1. Afficher chaque canal avec `plt.imshow`  \n",
    "    La couleur est-elle la couleur attendue ?  \n",
    "    Si oui très bien, si non que se passe-t-il ?\n",
    "    \n",
    "    **rappel** table des couleurs\n",
    "    * `RGB` représente directement l'encodage de la couleur du pixel   \n",
    "    et non un indice dans une table\n",
    "    * donc pour afficher des pixel avec les 3 valeurs RGB pas besoin de tables de couleurs  \n",
    "    on a la couleur\n",
    "    * mais pour afficher une image unidimensionnelle contenant des nombres de `0` à `255`  \n",
    "    il faut bien lui dire à quoi correspondent les valeurs  \n",
    "    (lors de l'affichage, le `255` des rouges n'est pas le même `255` des verts)\n",
    "    * donner le paramètre `cmap=` à `plt.imshow`, `'Reds'`,  `'Greens'` ou  `'Blues'`\n",
    "    \n",
    "    <br>\n",
    "1. Corrigez vos affichages si besoin\n",
    "<br>\n",
    "1. Copiez l'image, remplacer dans la copie, un carré de taille `(200, 200)` en bas à droite  \n",
    "   . par un carré de couleur RGB avec R à 219, G à 112 et B à 147 (vous obtenez quelle couleur)  \n",
    "   . par un carré blanc avec des rayures horizontales rouges de 1 pixel  \n",
    "<br>\n",
    "1. enfin affichez les 20 dernières lignes et colonnes du carré à rayures"
   ]
  },
  {
   "cell_type": "code",
   "execution_count": null,
   "id": "ad744737",
   "metadata": {},
   "outputs": [],
   "source": [
    "# votre code"
   ]
  },
  {
   "cell_type": "markdown",
   "id": "ebf79936",
   "metadata": {},
   "source": [
    "## transparence des images"
   ]
  },
  {
   "cell_type": "markdown",
   "id": "16976de0",
   "metadata": {},
   "source": [
    "**rappel** RGB-A\n",
    "\n",
    "* on peut indiquer, dans une quatrième valeur des pixels, leur transparence\n",
    "* ce 4-ème canal s'appelle le canal alpha\n",
    "* les valeurs vont de `0` pour transparent à `255` pour opaque\n",
    "\n",
    "1. Relire l'image initiale (sans la copier)\n",
    "\n",
    "1. Créez un tableau vide de la même hauteur et largeur que l'image, du type de l'image initiale, avec un quatrième canal\n",
    "\n",
    "1. Copiez-y l'image initiale, mettez le quatrième canal à `128` et affichez l'image"
   ]
  },
  {
   "cell_type": "code",
   "execution_count": null,
   "id": "39636f2e",
   "metadata": {},
   "outputs": [],
   "source": [
    "# votre code"
   ]
  },
  {
   "cell_type": "markdown",
   "id": "c061fc44",
   "metadata": {},
   "source": [
    "## image en niveaux de gris en `float`"
   ]
  },
  {
   "cell_type": "markdown",
   "id": "0673ffcc",
   "metadata": {},
   "source": [
    "1. Relire l'image `les-mines.jpg`\n",
    "\n",
    "1. Passez ses valeurs en flottants entre 0 et 1 et affichez-la  \n",
    "\n",
    "1. Transformer l'image en deux images en niveaux de gris :   \n",
    "a. en mettant pour chaque pixel la moyenne de ses valeurs R, G, B  \n",
    "b. en utilisant la correction 'Y' (qui corrige le constrate) basée sur la formule  \n",
    "   G = $0.299\\,R + 0.587\\,V + 0.114\\,B\\,$ \n",
    "\n",
    "1. Passez au carré les pixels et affichez l'image\n",
    "\n",
    "1. Passez en racine carré les pixels et affichez-la\n",
    "\n",
    "1. Convertissez l'image de niveaux de gris en type entier non-signé 8 bits et affichez la  \n",
    "en niveaux de gris"
   ]
  },
  {
   "cell_type": "code",
   "execution_count": null,
   "id": "2273817f",
   "metadata": {},
   "outputs": [],
   "source": [
    "# votre code"
   ]
  },
  {
   "cell_type": "code",
   "execution_count": null,
   "id": "f7f56794",
   "metadata": {
    "tags": [
     "raises-exception"
    ]
   },
   "outputs": [],
   "source": [
    "%%timeit \n",
    "gr = (imf[:, :, 0] + imf[:, :, 1] + imf[:, :, 2])/3"
   ]
  },
  {
   "cell_type": "code",
   "execution_count": null,
   "id": "9f01d140",
   "metadata": {
    "tags": [
     "raises-exception"
    ]
   },
   "outputs": [],
   "source": [
    "%%timeit\n",
    "# pour les geeks\n",
    "gr = (imf[:, :, :].sum(axis=2))/3"
   ]
  },
  {
   "cell_type": "markdown",
   "id": "73eb5149",
   "metadata": {},
   "source": [
    "# rappels"
   ]
  },
  {
   "cell_type": "markdown",
   "id": "37b121f7",
   "metadata": {},
   "source": [
    "## affichage grille de figures"
   ]
  },
  {
   "cell_type": "markdown",
   "id": "eeefe401",
   "metadata": {},
   "source": [
    "Affichage en `matplotlib.pyplot` de plusieurs figures sur une grille\n",
    "\n",
    "**1) on créé une figure globale et des sous-figures**\n",
    "\n",
    "les sous-figures sont appelées `axes` par convention `matplotlib`\n",
    "\n",
    "on construit notre grille ici de 2 lignes et 3 colonnes\n",
    "\n",
    "```python\n",
    "fig, axes = plt.subplots(2, 3)\n",
    "print(type(axes))\n",
    "print(axes.shape)\n",
    "```\n",
    "\n",
    "les cases pour les sous-figures sont ici dans la variable `axes`  \n",
    "qui est un `numpy.ndarray` de taille 2 lignes et 3 colonnes\n",
    "\n",
    "**2) on affiche des sous-figure dans des cases de la grille**\n",
    "\n",
    "```python\n",
    "x = np.linspace(0, 2*np.pi, 50)\n",
    "axes[0, 0].plot(x, np.sin(x), 'b')\n",
    "axes[0, 1].plot(x, np.sin(x), 'r')\n",
    "axes[0, 2].plot(x, np.sin(x), 'y')\n",
    "axes[1, 0].plot(x, np.sin(x), 'k')\n",
    "axes[1, 1].plot(x, np.sin(x), 'g')\n",
    "axes[1, 2].plot(x, np.sin(x), 'm')\n",
    "```\n",
    "\n",
    "**3) on peut faire un peu de cosmétique mais**  \n",
    "quand on commence on ne s'arrête plus et on perd beaucoup de temps  \n",
    "préférez au début des affichages minimalistes à peu près lisibles\n",
    "```python\n",
    "fig.suptitle(\"sinus en couleur\", fontsize=20) # titre général\n",
    "axes[0, 0].set_title('sinus bleu')            # titre d'une sous-figure\n",
    "axes[0, 2].set_xlabel('de 0 à 2 pi')          # label des abscisses\n",
    "axes[1, 1].set_ylabel('de -1 à 1')            # label d'ordonnées\n",
    "axes[1, 2].set_title('sinus magenta')\n",
    "plt.tight_layout()                            # ajustement automatique des paddings\n",
    "```\n",
    "</div>"
   ]
  },
  {
   "cell_type": "code",
   "execution_count": null,
   "id": "3f1e7516",
   "metadata": {},
   "outputs": [],
   "source": [
    "import numpy as np\n",
    "import matplotlib.pyplot as plt\n",
    "\n",
    "# le code\n",
    "fig, axes = plt.subplots(2, 3)\n",
    "print(type(axes))\n",
    "print(axes.shape)\n",
    "\n",
    "x = np.linspace(0, 2*np.pi, 50)\n",
    "\n",
    "axes[0, 0].plot(x, np.sin(x), 'b')\n",
    "# axes[0, 1].plot(x, np.sin(x), 'r')\n",
    "axes[0, 2].plot(x, np.sin(x), 'y')\n",
    "axes[1, 0].plot(x, np.sin(x), 'k')\n",
    "axes[1, 1].plot(x, np.sin(x), 'g')\n",
    "axes[1, 2].plot(x, np.sin(x), 'm')\n",
    "\n",
    "fig.suptitle(\"sinus en couleur\", fontsize=20)\n",
    "axes[0, 0].set_title('sinus bleu')\n",
    "axes[0, 2].set_xlabel('de 0 à 2 pi')\n",
    "axes[1, 1].set_ylabel('de -1 à 1')\n",
    "axes[1, 2].set_title('sinus magenta')\n",
    "plt.tight_layout()"
   ]
  },
  {
   "cell_type": "markdown",
   "id": "171a2f39",
   "metadata": {},
   "source": [
    "## application"
   ]
  },
  {
   "cell_type": "markdown",
   "id": "746fbc08",
   "metadata": {},
   "source": [
    "Reprenez les trois images en niveau de gris que vous aviez produites ci-dessus:  \n",
    "  1: celle obtenue avec la moyenne des rgb  \n",
    "  2: celle obtenue avec la correction Y  \n",
    "  3: celle obtenue avec la racine carrée \n",
    "\n",
    "1. Affichez les trois images côte à côte \n",
    "   1 2 3\n",
    "1. Affichez-les en damier:  \n",
    "   1 2 3  \n",
    "   3 1 2  \n",
    "   2 3 1"
   ]
  },
  {
   "cell_type": "code",
   "execution_count": null,
   "id": "c56db70f",
   "metadata": {
    "lines_to_next_cell": 2
   },
   "outputs": [],
   "source": [
    "# votre code"
   ]
  }
 ],
 "metadata": {
  "jupytext": {
   "cell_metadata_filter": "all,-hidden,-heading_collapsed,-run_control,-trusted",
   "cell_metadata_json": true,
   "encoding": "# -*- coding: utf-8 -*-",
   "notebook_metadata_filter": "all, -jupytext.text_representation.jupytext_version, -jupytext.text_representation.format_version, -language_info.version, -language_info.codemirror_mode.version, -language_info.codemirror_mode, -language_info.file_extension, -language_info.mimetype, -toc"
  },
  "kernelspec": {
   "display_name": "Python 3 (ipykernel)",
   "language": "python",
   "name": "python3"
  },
  "language_info": {
   "name": "python",
   "nbconvert_exporter": "python",
   "pygments_lexer": "ipython3"
  },
  "notebookname": "indexation & slicing"
 },
 "nbformat": 4,
 "nbformat_minor": 5
}
