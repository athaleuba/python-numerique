{
 "cells": [
  {
   "cell_type": "markdown",
   "id": "04e5ba87",
   "metadata": {},
   "source": [
    "<div class=\"licence\">\n",
    "<span>Licence CC BY-NC-ND</span>\n",
    "<span>Thierry Parmentelat</span>\n",
    "<span><img src=\"media/inria-25-alpha.png\" /></span>\n",
    "</div>"
   ]
  },
  {
   "cell_type": "markdown",
   "id": "8821d5c1",
   "metadata": {},
   "source": [
    "# TP - un peu de musique"
   ]
  },
  {
   "cell_type": "code",
   "execution_count": null,
   "id": "640d732e",
   "metadata": {},
   "outputs": [],
   "source": [
    "from IPython.display import HTML\n",
    "HTML('<link rel=\"stylesheet\" href=\"slides-notebook.css\" />')"
   ]
  },
  {
   "cell_type": "markdown",
   "id": "d3f780b5",
   "metadata": {},
   "source": [
    "## avertissement"
   ]
  },
  {
   "cell_type": "markdown",
   "id": "29c1b97c",
   "metadata": {},
   "source": [
    "pour le confort de chacun, veuillez vous assurer avant de commencer que le volume de votre haut parleur est réglé au minimum audible pour vous :)"
   ]
  },
  {
   "cell_type": "markdown",
   "id": "d14b836f",
   "metadata": {},
   "source": [
    "## imports"
   ]
  },
  {
   "cell_type": "code",
   "execution_count": null,
   "id": "3d373f89",
   "metadata": {},
   "outputs": [],
   "source": [
    "import numpy as np"
   ]
  },
  {
   "cell_type": "code",
   "execution_count": null,
   "id": "432223f0",
   "metadata": {},
   "outputs": [],
   "source": [
    "import matplotlib.pyplot as plt"
   ]
  },
  {
   "cell_type": "code",
   "execution_count": null,
   "id": "b6c7b5ba",
   "metadata": {},
   "outputs": [],
   "source": [
    "# pour jouer le son qu'on va produire\n",
    "from IPython.display import Audio"
   ]
  },
  {
   "cell_type": "markdown",
   "id": "d67d59f7",
   "metadata": {},
   "source": [
    "## nature du son"
   ]
  },
  {
   "cell_type": "markdown",
   "id": "f63cae1a",
   "metadata": {},
   "source": [
    "comme vous le savez sans doute, lorsqu'on enregistre un morceau de musique, on capture la position de la membrane du microphone au cours du temps\n",
    "\n",
    "puisqu'il s'agit de son, la membrane oscille autour de sa position d'équilibre, dans un mouvement pseudo-périodique, et la fréquence à un moment donné détermine la *hauteur* du son qu'on entend\n",
    "\n",
    "ainsi la fréquence de 440Hz a été définie comme étant la fréquence du LA (enfin pour être précis, d'*un* LA, on y reviendra)"
   ]
  },
  {
   "cell_type": "markdown",
   "id": "5b9993c3",
   "metadata": {},
   "source": [
    "## comment on capture du son"
   ]
  },
  {
   "cell_type": "markdown",
   "id": "bbc00486",
   "metadata": {},
   "source": [
    "une technique pour enregistrer le son consiste à simplement capturer la position de la membrane **à intervalles réguliers** : on appelle cela l'**échantillonnage**, qui produit en sortie une collection de valeurs numériques\n",
    "\n",
    "les fréquences audibles sont comprises, disons, pour être très large, entre 20 Hz et 20 kHz  \n",
    "du coup pour ne pas perdre en précision, on échantillonne traditionnellement à une fréquence de 44.1 kHz (chiffre qui date de l'époque des CD)\n",
    "\n",
    "ce qui signifie que si on produit un tableau de 44100 valeurs qui représentent une sinusoïde parfaite, on pourra jouer cela comme un son de 1s et sur une note continue; ce sera notre premier exercice"
   ]
  },
  {
   "cell_type": "code",
   "execution_count": null,
   "id": "33f2826d",
   "metadata": {},
   "outputs": [],
   "source": [
    "RATE = 44_100\n",
    "LA = 440"
   ]
  },
  {
   "cell_type": "markdown",
   "id": "92116ece",
   "metadata": {},
   "source": [
    "## synthétiseur - fréquence"
   ]
  },
  {
   "cell_type": "markdown",
   "id": "3e99f626",
   "metadata": {},
   "source": [
    "reste à déterminer l'amplitude, pour l'instant on prend une amplitude de 1"
   ]
  },
  {
   "cell_type": "markdown",
   "id": "9759184a",
   "metadata": {},
   "source": [
    "imaginons que nous voulions produire un son correspondant à un LA à 440 Hz, sur une seconde:\n",
    "  1. nous devons donc calculer un tableau qui fait combien d'entrées ?\n",
    "  1. quelle est en fonction du temps, et donc sur l'intervalle $[0, 1]$,  \n",
    "     l'équation de la fonction qui nous intéresse ?\n",
    "  1. comment on peut s'y prendre pour calculer ce tableau ?"
   ]
  },
  {
   "cell_type": "code",
   "execution_count": null,
   "id": "0a027028",
   "metadata": {},
   "outputs": [],
   "source": [
    "# votre code\n",
    "la_1seconde = ..."
   ]
  },
  {
   "cell_type": "markdown",
   "id": "f47db0bf",
   "metadata": {},
   "source": [
    "***\n",
    "***"
   ]
  },
  {
   "cell_type": "code",
   "execution_count": null,
   "id": "574acfdc",
   "metadata": {},
   "outputs": [],
   "source": [
    "# pour écouter le résultat\n",
    "# remarquez qu'on a maintenant perdu la fréquence d'échantillonnage\n",
    "# il faut repasser cette information au lecteur de musique\n",
    "\n",
    "Audio(la_1seconde, rate=RATE)"
   ]
  },
  {
   "cell_type": "markdown",
   "id": "5c31a93d",
   "metadata": {},
   "source": [
    "**commodité**\n",
    "\n",
    "comme on ne va produire que des sons échantillonnés à 44.100 Hz, ce sera plus commode de ne pas avoir à le répéter à chaque fois"
   ]
  },
  {
   "cell_type": "code",
   "execution_count": null,
   "id": "58742e46",
   "metadata": {},
   "outputs": [],
   "source": [
    "def MyAudio(what, **kwds):\n",
    "    return Audio(what, rate=RATE, **kwds)"
   ]
  },
  {
   "cell_type": "code",
   "execution_count": null,
   "id": "1360a198",
   "metadata": {
    "cell_style": "split"
   },
   "outputs": [],
   "source": [
    "MyAudio(la_1seconde)"
   ]
  },
  {
   "cell_type": "code",
   "execution_count": null,
   "id": "5bb32911",
   "metadata": {
    "cell_style": "split"
   },
   "outputs": [],
   "source": [
    "MyAudio(la_1seconde, autoplay=True)"
   ]
  },
  {
   "cell_type": "markdown",
   "id": "1eeddad9",
   "metadata": {},
   "source": [
    "### on en fait une fonction"
   ]
  },
  {
   "cell_type": "markdown",
   "id": "8e2606d3",
   "metadata": {},
   "source": [
    "pour généraliser un petit peu, on va écrire une fonction  \n",
    "qui produit un son sinusoïdal, et qui prend en paramètres  \n",
    "la fréquence et la durée"
   ]
  },
  {
   "cell_type": "code",
   "execution_count": null,
   "id": "45fb6bd1",
   "metadata": {},
   "outputs": [],
   "source": [
    "# votre code\n",
    "\n",
    "def sine(freq, duration=1, amplitude=1.):\n",
    "    ..."
   ]
  },
  {
   "cell_type": "code",
   "execution_count": null,
   "id": "2b1a143b",
   "metadata": {},
   "outputs": [],
   "source": [
    "# pour écouter: plus court\n",
    "\n",
    "MyAudio(sine(LA, .5), autoplay=True)"
   ]
  },
  {
   "cell_type": "code",
   "execution_count": null,
   "id": "b01a9535",
   "metadata": {},
   "outputs": [],
   "source": [
    "# pour écouter: plus long\n",
    "\n",
    "MyAudio(sine(LA, 1.5), autoplay=True)"
   ]
  },
  {
   "cell_type": "markdown",
   "id": "30fc34c4",
   "metadata": {
    "tags": [
     "level_intermediate"
    ]
   },
   "source": [
    "### pour les rapides\n",
    "\n",
    "on veut obtenir un effet de 'note qui monte'\n",
    "\n",
    "améliorer un peu pour générer une courbe avec un fréquence qui croit (ou décroit) linéairement avec le temps\n",
    "\n",
    "écrire une fonction `sine_linear(freq1, freq2, duration)`"
   ]
  },
  {
   "cell_type": "code",
   "execution_count": null,
   "id": "16bfb3ca",
   "metadata": {
    "tags": [
     "level_intermediate"
    ]
   },
   "outputs": [],
   "source": [
    "# votre code"
   ]
  },
  {
   "cell_type": "code",
   "execution_count": null,
   "id": "54e30380",
   "metadata": {
    "tags": [
     "level_intermediate"
    ]
   },
   "outputs": [],
   "source": [
    "# pour écouter\n",
    "MyAudio(sine_linear(440, 660, 3))"
   ]
  },
  {
   "cell_type": "markdown",
   "id": "99df4118",
   "metadata": {},
   "source": [
    "## réglage du volume"
   ]
  },
  {
   "cell_type": "markdown",
   "id": "86ab6e35",
   "metadata": {},
   "source": [
    "### crescendo"
   ]
  },
  {
   "cell_type": "markdown",
   "id": "d19fba85",
   "metadata": {},
   "source": [
    "imaginons qu'on veuille produire un son de plus en plus fort  \n",
    "par exemple qui monte crescendo de manière linéaire  \n",
    "sur toute la durée du son\n",
    "\n",
    "1. comment on pourrait faire ça ?\n",
    "1. en faire une fonction\n",
    "\n",
    "   ```python\n",
    "   def crescendo_sine(freq, duration):\n",
    "        ...\n",
    "   ```\n",
    "1. ajouter un paramètre pour pouvoir décroître\n",
    "   ```python\n",
    "   def crescendo_sine(freq, duration, increase=True):\n",
    "        ...\n",
    "   ```\n",
    "1. avancés: \n",
    "   est-ce qu'on ne pourrait pas faire un choix un peu plus malin ?"
   ]
  },
  {
   "cell_type": "code",
   "execution_count": null,
   "id": "519053f6",
   "metadata": {},
   "outputs": [],
   "source": [
    "# votre code pour 1.\n",
    "\n",
    "crescendo_la_1seconde = ..."
   ]
  },
  {
   "cell_type": "code",
   "execution_count": null,
   "id": "603c4b2d",
   "metadata": {},
   "outputs": [],
   "source": [
    "# pour écouter\n",
    "MyAudio(crescendo_la_1seconde) #, autoplay=True)"
   ]
  },
  {
   "cell_type": "code",
   "execution_count": null,
   "id": "13914f76",
   "metadata": {},
   "outputs": [],
   "source": [
    "# votre code pour 2.\n",
    "def crescendo(freq, duration):\n",
    "    ..."
   ]
  },
  {
   "cell_type": "code",
   "execution_count": null,
   "id": "73dd2007",
   "metadata": {},
   "outputs": [],
   "source": [
    "# pour écouter\n",
    "MyAudio(crescendo(LA, 2)) #, autoplay=True)"
   ]
  },
  {
   "cell_type": "code",
   "execution_count": null,
   "id": "a2424ece",
   "metadata": {},
   "outputs": [],
   "source": [
    "# votre code pour 3.\n",
    "def crescendo(freq, duration, increase=True):\n",
    "    ..."
   ]
  },
  {
   "cell_type": "code",
   "execution_count": null,
   "id": "9fb7487b",
   "metadata": {},
   "outputs": [],
   "source": [
    "# pour écouter\n",
    "\n",
    "MyAudio(crescendo(LA, 2, increase=False)) #, autoplay=True)"
   ]
  },
  {
   "cell_type": "markdown",
   "id": "6ecb5109",
   "metadata": {},
   "source": [
    "## concaténation"
   ]
  },
  {
   "cell_type": "markdown",
   "id": "1587786d",
   "metadata": {},
   "source": [
    "on sait maintenant produire des notes élémentaires\n",
    "\n",
    "sachant que la note DO immédiatement au dessus du la-440 a une fréquence de l'ordre de 523 Hz, comment pourrait-on maintenant produire une succession de deux notes la et do ?"
   ]
  },
  {
   "cell_type": "code",
   "execution_count": null,
   "id": "472f620a",
   "metadata": {},
   "outputs": [],
   "source": [
    "# la fréquence du DO\n",
    "DO = 523.25"
   ]
  },
  {
   "cell_type": "code",
   "execution_count": null,
   "id": "d1a3dabc",
   "metadata": {},
   "outputs": [],
   "source": [
    "# votre code\n",
    "la_do = ..."
   ]
  },
  {
   "cell_type": "code",
   "execution_count": null,
   "id": "69bd7a21",
   "metadata": {},
   "outputs": [],
   "source": [
    "# pour écouter\n",
    "\n",
    "MyAudio(la_do, autoplay=True)"
   ]
  },
  {
   "cell_type": "markdown",
   "id": "3b131085",
   "metadata": {},
   "source": [
    "## amplitude et types"
   ]
  },
  {
   "cell_type": "markdown",
   "id": "14338283",
   "metadata": {},
   "source": [
    "jusqu'ici, chaque échantillon est représenté par un **nombre flottant** entre -1 et 1\n",
    "\n",
    "il se trouve que ça n'est pas forcément le plus pertinent comme approche, notamment lorsqu'il va s'agir de sauver notre son sur fichier\n",
    "\n",
    "aussi nous allons maintenant nous poser la question de changer d'échelle - et de type de données - pour utiliser plutôt des **entiers 16 bits** (que pour rappel on a à notre disposition avec `numpy.int16`)"
   ]
  },
  {
   "cell_type": "markdown",
   "id": "285fd9ba",
   "metadata": {},
   "source": [
    "### entiers signés ou non\n",
    "\n",
    "ce qui nous amène à une petite digression: profitons-en pour regarder un peu comment sont encodés les entiers; \n",
    "\n",
    "l'encodage des **entiers signés** fonctionne comme suit; on regarde ici les types `int8` et `uint8` car c'est plus simple, le principe est exactement le même pour des tailles plus grandes\n",
    "\n",
    "il y a deux types d'encodages pour les entiers, **signés** (`int8`) et **non signés** (`uint8`, le `u` signifie *unsigned*)\n",
    "\n",
    "les entiers **non signés** sont simples à encoder, avec 8 bits on peut aller de 0 à 255\n",
    "\n",
    "par contre pour les entiers **signés**, on va devoir utiliser **un bit comme bit de signe**, ce qui limite le spectre de ce qu'il est possible d'encoder; avec en tout 8 bits on peut encoder de -128 à 127 inclus."
   ]
  },
  {
   "cell_type": "markdown",
   "id": "5f545b7f",
   "metadata": {},
   "source": [
    "| entier |    int8    |     uint8    | \n",
    "|--------|------------|--------------|\n",
    "| -128   | `10000000` | n/a |\n",
    "| -127   | `10000001` | n/a |\n",
    "| -126   | `10000010` | n/a | \n",
    "| ...    | \n",
    "| -003   | `11111101` | n/a |\n",
    "| -002   | `11111110` | n/a |\n",
    "| -001   | `11111111` | n/a |\n",
    "| ------- |\n",
    "| 000    | `00000000` | `00000000` (idem) |\n",
    "| 001    | `00000001` | `00000001` (idem) |\n",
    "| 002    | `00000010` | `00000010` (idem) |\n",
    "| ...    | \n",
    "| 125    | `01111101` | `01111101` (idem) |\n",
    "| 126    | `01111110` | `01111110` (idem) |\n",
    "| 127    | `01111111` | `01111111` (idem) |\n",
    "| ------- |\n",
    "| 128    | n/a | `10000000` |\n",
    "| 129    | n/a | `10000001` |\n",
    "| 130    | n/a | `10000011` |\n",
    "| ...    |\n",
    "| 253    | n/a | `11111101` |\n",
    "| 254    | n/a | `11111110` |\n",
    "| 255    | n/a | `11111111` |"
   ]
  },
  {
   "cell_type": "markdown",
   "id": "f424df47",
   "metadata": {},
   "source": [
    "du coup avec le type `int16` on va pouvoir encoder l'intervalle [-32768, 32767]"
   ]
  },
  {
   "cell_type": "code",
   "execution_count": null,
   "id": "02a790b5",
   "metadata": {},
   "outputs": [],
   "source": [
    "2**15"
   ]
  },
  {
   "cell_type": "markdown",
   "id": "db40775c",
   "metadata": {},
   "source": [
    "ça veut dire que si on sort de cet intervalle on va avoir des surprises"
   ]
  },
  {
   "cell_type": "code",
   "execution_count": null,
   "id": "6f49e451",
   "metadata": {},
   "outputs": [],
   "source": [
    "# par exemple ici je crée un intervalle de 0 à 40.000\n",
    "# en fixant le type int16\n",
    "trash = np.array(range(40_000), dtype=np.int16)\n",
    "\n",
    "# mais du coup les valeurs trop hautes sont mal converties !!\n",
    "trash[32_764: 32_772]"
   ]
  },
  {
   "cell_type": "markdown",
   "id": "d1ace229",
   "metadata": {},
   "source": [
    "### mise à l'échelle"
   ]
  },
  {
   "cell_type": "markdown",
   "id": "aa08d2d8",
   "metadata": {},
   "source": [
    "**exercice**\n",
    "\n",
    "en vous souvenant qu'on a à notre disposition la méthode `array.astype()`  \n",
    "pour fabriquer une copie d'un tableau numpy convertie dans un autre type,\n",
    "\n",
    "écrivez une fonction qui transforme  \n",
    "notre tableau de flottants dans [-1, 1]. \n",
    "en un tableau d'**entiers signés 16bits**\n",
    "\n",
    "et pour préserver le niveau sonore, il faut que les entrés maximales  \n",
    "i.e. 1 ou -1 dans le 1er format  \n",
    "correspondent au maximum codable dans le second format\n",
    "\n",
    "le son produit doit être totalement identique - le volume notamment"
   ]
  },
  {
   "cell_type": "code",
   "execution_count": null,
   "id": "ca0ec8eb",
   "metadata": {},
   "outputs": [],
   "source": [
    "# votre code\n",
    "def float_to_int16(as_float):\n",
    "    ..."
   ]
  },
  {
   "cell_type": "code",
   "execution_count": null,
   "id": "f62ed404",
   "metadata": {
    "cell_style": "split"
   },
   "outputs": [],
   "source": [
    "# pour écouter \n",
    "MyAudio(float_to_int16(la_do), autoplay=True)"
   ]
  },
  {
   "cell_type": "code",
   "execution_count": null,
   "id": "df68fc58",
   "metadata": {
    "cell_style": "split"
   },
   "outputs": [],
   "source": [
    "# sans conversion \n",
    "MyAudio(la_do, autoplay=True)"
   ]
  },
  {
   "cell_type": "markdown",
   "id": "82cbdf84",
   "metadata": {},
   "source": [
    "## fréquences des notes de la gamme"
   ]
  },
  {
   "cell_type": "markdown",
   "id": "0fc5ba5c",
   "metadata": {},
   "source": [
    "dans cette partie, nous allons calculer les fréquences des notes\n",
    "\n",
    "pour les non-musiciens, sachez que, pour simplifier :"
   ]
  },
  {
   "cell_type": "markdown",
   "id": "2575b665",
   "metadata": {},
   "source": [
    "### gamme chromatique\n",
    "\n",
    "la gamme chromatique (toutes les notes du piano) contient 12 notes  \n",
    "$do$ ・ $do\\sharp$ ・ $ré$ ・ $ré\\sharp$ ・ $mi$ ・ $fa$ ・ $fa\\sharp$ ・ $sol$ ・ $sol\\sharp$ ・ $la$ ・ $la\\sharp$ ・ $si$  \n",
    "séparées de 1/2 ton  \n",
    "(le $la\\sharp$ s'appelle aussi $si\\flat$ mais c'est une autre histoire...)\n",
    "\n",
    "et si on rajoute la note suivante (qu'on appelle $do'$), cela fait 13 notes donc 12 intervalles"
   ]
  },
  {
   "cell_type": "markdown",
   "id": "1289445d",
   "metadata": {},
   "source": [
    "### intervalles\n",
    "\n",
    "notre oreille reconnait bien les **intervalles** entre deux notes  \n",
    "par exemple si vous jouez les deux extraits ci-dessous  \n",
    "vous allez reconnaitre dans les deux cas le pin-pon des pompiers"
   ]
  },
  {
   "cell_type": "code",
   "execution_count": null,
   "id": "3b842651",
   "metadata": {
    "cell_style": "split"
   },
   "outputs": [],
   "source": [
    "Audio(filename='media/pin-pon-la-si.wav')"
   ]
  },
  {
   "cell_type": "code",
   "execution_count": null,
   "id": "df37ab62",
   "metadata": {
    "cell_style": "split"
   },
   "outputs": [],
   "source": [
    "Audio(filename='media/pin-pon-fa-sol.wav')"
   ]
  },
  {
   "cell_type": "markdown",
   "id": "fa8eccb7",
   "metadata": {},
   "source": [
    "ici dans les deux cas, les deux notes utilisées (la - si, puis fa - sol)  \n",
    "sont dans les deux cas séparées de 2 crans dans la gamme chromatique  \n",
    "(on dit que les deux notes constituent un *intervalle* de 2 demi-tons, soit un ton)   \n",
    "et comme c'est le **même intervalle**, notre oreille entend dans les deux cas la même \"mélodie\""
   ]
  },
  {
   "cell_type": "markdown",
   "id": "a0b1384d",
   "metadata": {},
   "source": [
    "### un intervalle = un rapport entre fréquences\n",
    "\n",
    "enfin, il faut savoir que ce qui caractérise un intervalle, \n",
    "c'est le **rapport** entre les fréquences des deux notes\n",
    "\n",
    "ainsi par exemple, vous pouvez constater que si on multiplie une fréquence par 2"
   ]
  },
  {
   "cell_type": "code",
   "execution_count": null,
   "id": "9dfeca76",
   "metadata": {
    "cell_style": "center"
   },
   "outputs": [],
   "source": [
    "# une octave de LA\n",
    "MyAudio(\n",
    "    np.concatenate((sine(LA, 0.5), \n",
    "                    sine(2*LA, 0.5))),\n",
    "    autoplay=True)"
   ]
  },
  {
   "cell_type": "markdown",
   "id": "4fad804f",
   "metadata": {},
   "source": [
    "on entend une note qui ressemble beaucoup à la premiére  \n",
    "en fait le fait de multiplier la fréquence par 2  \n",
    "permet d'obtenir une note **une octave** au dessus  \n",
    "(c'est-à-dire de passer d'un DO au DO au dessus)"
   ]
  },
  {
   "cell_type": "code",
   "execution_count": null,
   "id": "51b4ace5",
   "metadata": {
    "cell_style": "center"
   },
   "outputs": [],
   "source": [
    "# même effet avec le DO naturellement\n",
    "MyAudio(\n",
    "    np.concatenate((sine(DO, 0.5), \n",
    "                    sine(2*DO, 0.5))),\n",
    "    autoplay=True)"
   ]
  },
  {
   "cell_type": "markdown",
   "id": "125c7b3e",
   "metadata": {},
   "source": [
    "### calculons les fréquences des notes"
   ]
  },
  {
   "cell_type": "markdown",
   "id": "d3aa8f67",
   "metadata": {},
   "source": [
    "on a toutes les informations à ce stade pour calculer  \n",
    "les fréquences des notes de la gamme (dite *bien tempérée*)\n",
    "\n",
    "en effet on sait que, puisque c'est toujours le même intervalle,  \n",
    "un demi-ton correspond à un rapport constant entre les (fréquences des) notes  \n",
    "qu'on va appeler $alpha$\n",
    "\n",
    "$$\n",
    "\\frac{do\\sharp}{do} = \n",
    "\\frac{ré}{do\\sharp} = \n",
    "\\ldots\n",
    "\\frac{si}{la\\sharp} = \n",
    "\\frac{do'}{si} = \\alpha\n",
    "$$"
   ]
  },
  {
   "cell_type": "markdown",
   "id": "c920c8cf",
   "metadata": {
    "cell_style": "center"
   },
   "source": [
    "et comme par ailleurs on sait qu'entre les deux *do* il y a une octave  \n",
    "donc $\n",
    "\\frac{do'}{do} = 2 \n",
    "$\n",
    "\n",
    "mais c'est aussi\n",
    "$\n",
    "\\frac{do'}{do} = \\frac{do'}{si}.\\frac{si}{la\\sharp}.\\frac{la\\sharp}{la}...\\frac{ré}{do\\sharp}.\\frac{do\\sharp}{do} = \\alpha^{12}\n",
    "$\n",
    "\n",
    "d'où il ressort que $\\alpha^{12} = 2$"
   ]
  },
  {
   "cell_type": "markdown",
   "id": "9f604b2b",
   "metadata": {
    "cell_style": "split"
   },
   "source": [
    "**exercices**\n",
    "\n",
    "1. calculer - sans boucle for - un tableau contenant  \n",
    "   les 13 - de *do* à *do'* inclus -  \n",
    "   rapports entre do et les notes de la gamme  \n",
    "   (`ratios[0]` devrait valoir 1, et `ratios[12]` devrait valoir 2)"
   ]
  },
  {
   "cell_type": "markdown",
   "id": "d5969ff4",
   "metadata": {
    "cell_style": "split"
   },
   "source": [
    "$\n",
    "\\begin{array}\n",
    "00 & 1 & 2^0 & do\\\\\n",
    "1 & \\sqrt[^{12}]{2} & 2^{1/12} & do\\sharp\\\\\n",
    "2 & (\\sqrt[^{12}]{2})^2 & 2^{2/12} & ré\\\\\n",
    "...\\\\\n",
    "11 & (\\sqrt[^{12}]{2})^{11} & 2^{11/12} & la\\sharp\\\\\n",
    "12 & 2 & 2^{12/12} & do'\\\\\n",
    "\\end{array}\n",
    "$"
   ]
  },
  {
   "cell_type": "markdown",
   "id": "bb765a05",
   "metadata": {},
   "source": [
    "2. on a besoin d'une fonction qui calcule la fréquence  \n",
    "   d'une note à partir de son nom  \n",
    "   on veut bien sûr que $la \\rightarrow 440$"
   ]
  },
  {
   "cell_type": "code",
   "execution_count": null,
   "id": "0f053bb5",
   "metadata": {},
   "outputs": [],
   "source": [
    "scale = ['do', 'do#', 'ré', 'ré#', 'mi', 'fa', 'fa#', 'sol', 'sol#', 'la', 'la#', 'si']"
   ]
  },
  {
   "cell_type": "code",
   "execution_count": null,
   "id": "1e35a06a",
   "metadata": {},
   "outputs": [],
   "source": [
    "# votre code\n",
    "def freq_from_name(name):\n",
    "    ..."
   ]
  },
  {
   "cell_type": "code",
   "execution_count": null,
   "id": "60782360",
   "metadata": {
    "cell_style": "center"
   },
   "outputs": [],
   "source": [
    "# pour vérifier: devrait retourner 440\n",
    "freq_from_name('la')"
   ]
  },
  {
   "cell_type": "code",
   "execution_count": null,
   "id": "264fb410",
   "metadata": {
    "cell_style": "split"
   },
   "outputs": [],
   "source": [
    "# attention à la précision \n",
    "freq_from_name('la') == 440"
   ]
  },
  {
   "cell_type": "code",
   "execution_count": null,
   "id": "d90435e1",
   "metadata": {
    "cell_style": "split"
   },
   "outputs": [],
   "source": [
    "# pensez à utiliser ceci\n",
    "np.isclose(freq_from_name('la'), 440)"
   ]
  },
  {
   "cell_type": "markdown",
   "id": "f1ae1101",
   "metadata": {},
   "source": [
    "## rationnels approchants"
   ]
  },
  {
   "cell_type": "markdown",
   "id": "360af916",
   "metadata": {},
   "source": [
    "pour comprendre les harmonies, ce qui intéressant  \n",
    "c'est que parmi les ratios qu'on a calculés plus haut,  \n",
    "certains sont **très proches** de rapports **rationnels simples**"
   ]
  },
  {
   "cell_type": "code",
   "execution_count": null,
   "id": "4bf66baf",
   "metadata": {
    "cell_style": "split"
   },
   "outputs": [],
   "source": [
    "# intervalle do-mi (tierce majeure) ~= 5/4\n",
    "ratios[4]"
   ]
  },
  {
   "cell_type": "code",
   "execution_count": null,
   "id": "30acc598",
   "metadata": {
    "cell_style": "split"
   },
   "outputs": [],
   "source": [
    "# intervalle do-sol (quinte) ~= 3/2\n",
    "ratios[7]"
   ]
  },
  {
   "cell_type": "markdown",
   "id": "5b66a0b8",
   "metadata": {},
   "source": [
    "### visuel (1)"
   ]
  },
  {
   "cell_type": "markdown",
   "id": "d4895946",
   "metadata": {
    "cell_style": "center"
   },
   "source": [
    "pour visualiser les ratios de la gamme\n",
    "\n",
    "(uniquement des exemples d'utilisation de matplotlib)"
   ]
  },
  {
   "cell_type": "code",
   "execution_count": null,
   "id": "2b651e6e",
   "metadata": {
    "cell_style": "center"
   },
   "outputs": [],
   "source": [
    "%matplotlib inline\n",
    "\n",
    "plt.figure(figsize=(2, 6))\n",
    "\n",
    "# on veut afficher 12 points de coordonnées\n",
    "# tous avec une coordonnée X=0 \n",
    "X = np.zeros(ratios.shape)\n",
    "\n",
    "# et pour marqueur un petit trait horizontal\n",
    "plt.scatter(X, ratios, marker=0, linewidth=0.5);"
   ]
  },
  {
   "cell_type": "markdown",
   "id": "a0582326",
   "metadata": {},
   "source": [
    "### visuel (2)"
   ]
  },
  {
   "cell_type": "markdown",
   "id": "4b525a5f",
   "metadata": {},
   "source": [
    "pareil, mais en superposant les rationnels $\\frac{3}{2}$, $\\frac{5}{4}$ et $\\frac{4}{3}$"
   ]
  },
  {
   "cell_type": "code",
   "execution_count": null,
   "id": "07271e9e",
   "metadata": {
    "scrolled": true
   },
   "outputs": [],
   "source": [
    "# on remarque quelques rapports proches\n",
    "specials = np.array([1, 5/4, 4/3, 3/2, 2])"
   ]
  },
  {
   "cell_type": "code",
   "execution_count": null,
   "id": "4be2891b",
   "metadata": {
    "cell_style": "split"
   },
   "outputs": [],
   "source": [
    "# pour dessiner des traits un peu plus beaux\n",
    "# où on contrôle la taille et l'épaisseur\n",
    "\n",
    "def strike(height, width, color, linewidth):\n",
    "    plt.plot([-width, width], [height, height],\n",
    "             color=color, linewidth=linewidth)\n",
    "\n",
    "def turn_off_xticks():\n",
    "    plt.tick_params(\n",
    "        axis='x',          # changes apply to the x-axis\n",
    "        which='both',      # both major and minor ticks are affected\n",
    "        bottom=False,      # ticks along the bottom edge are off\n",
    "        top=False,         # ticks along the top edge are off\n",
    "        labelbottom=False) # labels along the bottom edge are off"
   ]
  },
  {
   "cell_type": "code",
   "execution_count": null,
   "id": "bc3c0669",
   "metadata": {
    "cell_style": "split"
   },
   "outputs": [],
   "source": [
    "# on crée une figure\n",
    "plt.figure(figsize=(2, 6))\n",
    "# on enlève les marques sur l'axe des X\n",
    "turn_off_xticks()\n",
    "# on dessine les notes de la gamme en orange\n",
    "for ratio in ratios:\n",
    "    strike(ratio, 0.1, 'orange', 0.5)\n",
    "# et les quelques rapports qu'on a remarqués à l'oeil nu\n",
    "for special in specials:\n",
    "    strike(special, 0.2, 'blue', 0.2)"
   ]
  },
  {
   "cell_type": "markdown",
   "id": "50381dbe",
   "metadata": {},
   "source": [
    "## superposer deux sons"
   ]
  },
  {
   "cell_type": "markdown",
   "id": "853f6903",
   "metadata": {},
   "source": [
    "comment faire pour jouer plusieurs sons en même temps ?"
   ]
  },
  {
   "cell_type": "code",
   "execution_count": null,
   "id": "6a17fe31",
   "metadata": {},
   "outputs": [],
   "source": [
    "do = sine(freq_from_name('do'), 2)\n",
    "mi = sine(freq_from_name('mi'), 2)\n",
    "sol = sine(freq_from_name('sol'), 2)"
   ]
  },
  {
   "cell_type": "code",
   "execution_count": null,
   "id": "21fe6164",
   "metadata": {},
   "outputs": [],
   "source": [
    "# votre code\n",
    "accord_do_mi_sol = ..."
   ]
  },
  {
   "cell_type": "code",
   "execution_count": null,
   "id": "7cbe58da",
   "metadata": {},
   "outputs": [],
   "source": [
    "# pour écouter\n",
    "\n",
    "MyAudio(accord_do_mi_sol, autoplay=True)"
   ]
  },
  {
   "cell_type": "markdown",
   "id": "629decb0",
   "metadata": {},
   "source": [
    "## sauver un son dans un `.wav`"
   ]
  },
  {
   "cell_type": "markdown",
   "id": "6b2638e7",
   "metadata": {},
   "source": [
    "on peut facilement sauver nos sons  \n",
    "grâce à la librairie `scipy`  \n",
    "par contre il faut savoir que le **format le plus robuste**  \n",
    "est celui qui utilise les **entiers 16 bits** qu'on a vus plus haut"
   ]
  },
  {
   "cell_type": "code",
   "execution_count": null,
   "id": "203e2ceb",
   "metadata": {},
   "outputs": [],
   "source": [
    "from scipy.io import wavfile"
   ]
  },
  {
   "cell_type": "markdown",
   "id": "f25e60cd",
   "metadata": {},
   "source": [
    "**exercice**\n",
    "\n",
    "1. chercher dans la documentation comment sauver un son dans un fichier `.wav`\n",
    "1. sauver un de vos morceaux (par exemple `la_do`)\n",
    "1. relisez-le\n",
    "1. assurez-vous que le résultat est conforme au morceau de départ"
   ]
  },
  {
   "cell_type": "code",
   "execution_count": null,
   "id": "22819a79",
   "metadata": {
    "tags": [
     "raises-exception"
    ]
   },
   "outputs": [],
   "source": [
    "# votre code\n",
    "original = la_do # par exemple\n",
    "#\n",
    "# sauver le son 'before' dans un fichier 'sample.wav'\n",
    "# \n",
    "restored = ... # relisez le fichier 'sample.wav' dans une variable 'after'"
   ]
  },
  {
   "cell_type": "code",
   "execution_count": null,
   "id": "69223f88",
   "metadata": {
    "cell_style": "split",
    "tags": [
     "raises-exception"
    ]
   },
   "outputs": [],
   "source": [
    "# pour vérifier\n",
    "\n",
    "MyAudio(original)"
   ]
  },
  {
   "cell_type": "code",
   "execution_count": null,
   "id": "2b903de0",
   "metadata": {
    "cell_style": "split"
   },
   "outputs": [],
   "source": [
    "# pour vérifier\n",
    "\n",
    "MyAudio(restored)"
   ]
  },
  {
   "cell_type": "markdown",
   "id": "2bee3bcb",
   "metadata": {},
   "source": [
    "## un vrai son"
   ]
  },
  {
   "cell_type": "markdown",
   "id": "2febd51b",
   "metadata": {},
   "source": [
    "on part d'un petit fichier `sounds-cello.wav`"
   ]
  },
  {
   "cell_type": "markdown",
   "id": "a52de34b",
   "metadata": {},
   "source": [
    "<audio controls src=\"media/sounds-cello.wav\" style=\"width:100%\">"
   ]
  },
  {
   "cell_type": "markdown",
   "id": "808940c3",
   "metadata": {},
   "source": [
    "**exercice**\n",
    "\n",
    "1. lire le fichier (ranger le signal dans une variable `data`) \n",
    "1. afficher le samplerate utilisé dans le fichier\n",
    "1. afficher le nombre d'échantillons\n",
    "1. afficher la longueur du morceau en secondes"
   ]
  },
  {
   "cell_type": "code",
   "execution_count": null,
   "id": "a42f4713",
   "metadata": {},
   "outputs": [],
   "source": [
    "# votre code"
   ]
  },
  {
   "cell_type": "code",
   "execution_count": null,
   "id": "f51289bd",
   "metadata": {},
   "outputs": [],
   "source": [
    "# pour vérifier à l'oreille\n",
    "MyAudio(data)"
   ]
  },
  {
   "cell_type": "markdown",
   "id": "860edc1c",
   "metadata": {},
   "source": [
    "### à quoi ça ressemble"
   ]
  },
  {
   "cell_type": "markdown",
   "id": "f1fe506b",
   "metadata": {},
   "source": [
    "on va utiliser matplotlib pour afficher le signal\n",
    "\n",
    "voici à quoi ressemble notre morceau"
   ]
  },
  {
   "cell_type": "code",
   "execution_count": null,
   "id": "7ff434e5",
   "metadata": {},
   "outputs": [],
   "source": [
    "%matplotlib inline\n",
    "\n",
    "plt.figure(figsize=(16, 4))\n",
    "plt.plot(data, linewidth=0.05);"
   ]
  },
  {
   "cell_type": "markdown",
   "id": "1bbdf7a1",
   "metadata": {},
   "source": [
    "Grâce au mode de rendu dit *\"notebook\"*, on a plus de possibilités d''interaction avec la figure  \n",
    "pour zoomer (icône carrée), déplacer (les deux flêches croisées), revenir au point de vue de départ (la maison).."
   ]
  },
  {
   "cell_type": "code",
   "execution_count": null,
   "id": "2b4885b6",
   "metadata": {},
   "outputs": [],
   "source": [
    "%matplotlib notebook\n",
    "\n",
    "plt.figure(figsize=(10, 4))\n",
    "plt.plot(data, linewidth=0.05);"
   ]
  },
  {
   "cell_type": "markdown",
   "id": "73d0b00f",
   "metadata": {},
   "source": [
    "## effet d'echo"
   ]
  },
  {
   "cell_type": "markdown",
   "id": "5e5f6658",
   "metadata": {},
   "source": [
    "maintenant on veut ajouter un effet d'echo  \n",
    "  \n",
    "il nous faut pour cela\n",
    "\n",
    "* créer une version du son initial, mais décalée dans le temps  \n",
    "* et ajouter les deux\n",
    "\n",
    "sauf que si on s'y prend comme cela:\n",
    "* les deux signaux apparaissent avec le même niveau sonore  \n",
    "  or un effet d'echo sous-entend une atténuation du signal tardif\n",
    "* en plus avec le type `int16`, on risque de causer des erreurs de débordement  \n",
    "  en effet si au même instant les deux signaux contiennent tous deux  \n",
    "  une valeur >= 20_000, la somme va dépasser $2^{15}$ et donc provoquer  \n",
    "  une conversion et donc une erreur"
   ]
  },
  {
   "cell_type": "markdown",
   "id": "f26d7be3",
   "metadata": {
    "tags": [
     "level_advanced"
    ]
   },
   "source": [
    "![](media/sounds-offsets.png)\n",
    "\n",
    "c'est ce qu'on essaie d'illustrer ici\n",
    "* le signal de départ (en vert)\n",
    "* est décalé vers la droite de la valeur du retard\n",
    "* et on applique à chacun une pondération  \n",
    "  par exemple 70% pour le signal de départ,\n",
    "  et 30% pour le signal retardé\n",
    "* avant de les ajouter"
   ]
  },
  {
   "cell_type": "code",
   "execution_count": null,
   "id": "85ad13c6",
   "metadata": {},
   "outputs": [],
   "source": [
    "# en seconde\n",
    "delay = 2\n",
    "\n",
    "# les deux ratios\n",
    "main_ratio, delayed_ratio = 0.7, 0.3"
   ]
  },
  {
   "cell_type": "markdown",
   "id": "27bcb9bb",
   "metadata": {},
   "source": [
    "**exercice** v1\n",
    "\n",
    "1. traduire `delay` en nombre d'échantillons `offset`\n",
    "1. produire le son avec echo, \n",
    "   sur une durée correspondant au son de départ"
   ]
  },
  {
   "cell_type": "code",
   "execution_count": null,
   "id": "cc0a5d80",
   "metadata": {},
   "outputs": [],
   "source": [
    "# votre code pour produire \n",
    "# le son de 'data' avec echo\n",
    "data_echoed = ..."
   ]
  },
  {
   "cell_type": "code",
   "execution_count": null,
   "id": "567eb921",
   "metadata": {},
   "outputs": [],
   "source": [
    "# pour écouter\n",
    "\n",
    "MyAudio(data_echoed)"
   ]
  },
  {
   "cell_type": "code",
   "execution_count": null,
   "id": "f6aef7f8",
   "metadata": {
    "scrolled": true
   },
   "outputs": [],
   "source": [
    "# pour observer\n",
    "\n",
    "plt.figure(figsize=(10, 4))\n",
    "plt.plot(data_echoed, linewidth=0.05);"
   ]
  },
  {
   "cell_type": "markdown",
   "id": "ae7c84c2",
   "metadata": {},
   "source": [
    "**exercice** v2\n",
    "\n",
    "1. idem mais pour produire une durée correspondant à la somme\n",
    "  * de la durée du son de départ\n",
    "  * et du retard"
   ]
  },
  {
   "cell_type": "code",
   "execution_count": null,
   "id": "de4933ca",
   "metadata": {},
   "outputs": [],
   "source": [
    "# votre code\n",
    "\n",
    "data_echoed_v2 = ..."
   ]
  },
  {
   "cell_type": "code",
   "execution_count": null,
   "id": "08caf8f1",
   "metadata": {},
   "outputs": [],
   "source": [
    "# pour écouter\n",
    "MyAudio(data_echoed_v2)"
   ]
  },
  {
   "cell_type": "code",
   "execution_count": null,
   "id": "b8a52d19",
   "metadata": {
    "scrolled": true
   },
   "outputs": [],
   "source": [
    "# pour observer\n",
    "\n",
    "plt.figure(figsize=(10, 4))\n",
    "plt.plot(data_echoed_v2, linewidth=0.05);"
   ]
  },
  {
   "cell_type": "markdown",
   "id": "d5ab8d7e",
   "metadata": {},
   "source": [
    "## transposer"
   ]
  },
  {
   "cell_type": "markdown",
   "id": "8a6cb6d3",
   "metadata": {},
   "source": [
    "### transposer d'une octave"
   ]
  },
  {
   "cell_type": "markdown",
   "id": "1afc99cd",
   "metadata": {},
   "source": [
    "on a vu qu'une octave correspond à une fréquence deux fois plus élevée\n",
    "\n",
    "partant de par exemple `data`, comment produire un son une octave au dessus ?  \n",
    "(on s'astreint à ne pas modifier le samplerate)"
   ]
  },
  {
   "cell_type": "markdown",
   "id": "56bf64d3",
   "metadata": {},
   "source": [
    "***\n",
    "***\n",
    "***\n",
    "***\n",
    "***\n",
    "***\n",
    "je vous laisse y réfléchir un moment...\n",
    "***\n",
    "***\n",
    "***\n",
    "***\n",
    "***\n",
    "***"
   ]
  },
  {
   "cell_type": "markdown",
   "id": "29a3341e",
   "metadata": {},
   "source": [
    "pour élever d'une octave, il suffit d'ignorer un échantillon sur deux \n",
    "\n",
    "pourquoi ? de cette façon on va artificiellement \n",
    "\n",
    "* diminuer la durée par 2 (2 fois moins d'échantillons, toujours à la même fréquence d'échantillonage de 44.100 Hz)\n",
    "* et du coup multiplier par 2 la fréquence des sons perçus"
   ]
  },
  {
   "cell_type": "markdown",
   "id": "fa3e0ad8",
   "metadata": {
    "hide_input": false
   },
   "source": [
    "![](media/sounds-sample-2-1.png)"
   ]
  },
  {
   "cell_type": "markdown",
   "id": "cb973f98",
   "metadata": {},
   "source": [
    "**exercice**\n",
    "\n",
    "fabriquer un son qui soit similaire à celui dans `data`, mais une octave au dessus"
   ]
  },
  {
   "cell_type": "code",
   "execution_count": null,
   "id": "5f13247c",
   "metadata": {},
   "outputs": [],
   "source": [
    "# votre code ici\n",
    "\n",
    "data2 = ..."
   ]
  },
  {
   "cell_type": "code",
   "execution_count": null,
   "id": "093a68ad",
   "metadata": {
    "cell_style": "split"
   },
   "outputs": [],
   "source": [
    "# pour écouter\n",
    "\n",
    "MyAudio(data)"
   ]
  },
  {
   "cell_type": "code",
   "execution_count": null,
   "id": "bbe451ef",
   "metadata": {
    "cell_style": "split"
   },
   "outputs": [],
   "source": [
    "# pour écouter\n",
    "\n",
    "MyAudio(data2)"
   ]
  },
  {
   "cell_type": "markdown",
   "id": "9d617adc",
   "metadata": {},
   "source": [
    "naturellement le profil reste le même mais l'échelle des X est plus courte (deux fois moins d'échantillons)"
   ]
  },
  {
   "cell_type": "code",
   "execution_count": null,
   "id": "b464c6d9",
   "metadata": {},
   "outputs": [],
   "source": [
    "%matplotlib notebook\n",
    "\n",
    "plt.figure(figsize=(10, 4))\n",
    "plt.plot(data2, linewidth=0.05);"
   ]
  },
  {
   "cell_type": "markdown",
   "id": "7e4766c8",
   "metadata": {},
   "source": [
    "### transposer d'une quinte"
   ]
  },
  {
   "cell_type": "markdown",
   "id": "e9c3d781",
   "metadata": {},
   "source": [
    "pour transposer d'une quinte, il nous faut multiplier la fréquence par 3/2; on peut utiliser une approche voisine\n",
    "\n",
    "![](media/sounds-sample-3-2.png)"
   ]
  },
  {
   "cell_type": "markdown",
   "id": "455f8b88",
   "metadata": {},
   "source": [
    "sauf que cette fois, il faut un peu interpoler; on est donc amené à faire des moyennes comme ceci\n",
    "\n",
    "```\n",
    "data         data3  \n",
    "0    0       0\n",
    "1    1+2/2   1\n",
    "2    --\n",
    "3    3       2\n",
    "4    4+5/2   3\n",
    "5    --\n",
    "...\n",
    "```"
   ]
  },
  {
   "cell_type": "markdown",
   "id": "916fd6ac",
   "metadata": {},
   "source": [
    "**exercice** appliquez l'idée ci-dessus :\n",
    "\n",
    "1. créez un tableau `data3` dont la taille est 2/3 de celle de `data`\n",
    "1. remplir dans `data3` les données de rang pair  \n",
    "   qui correspondent aux multiples de 3 dans le tableau de départ\n",
    "1. remplir dans `data3` les données de rang impair  \n",
    "   en implémentant l'interpolation \n",
    "   \n",
    "**remarque**: nos data sont en `int16`, on va s'efforcer\n",
    "de continuer à travailler dans ce format"
   ]
  },
  {
   "cell_type": "code",
   "execution_count": null,
   "id": "26cfd571",
   "metadata": {},
   "outputs": [],
   "source": [
    "# votre code\n",
    "data3 = ..."
   ]
  },
  {
   "cell_type": "code",
   "execution_count": null,
   "id": "34f2ae19",
   "metadata": {},
   "outputs": [],
   "source": [
    "# vérification de visu\n",
    "# ces deux segments correspondent normalement \n",
    "# au même instant dans le morceau\n",
    "\n",
    "data[12000:12007], data3[8000:8005]"
   ]
  },
  {
   "cell_type": "code",
   "execution_count": null,
   "id": "b4aafc39",
   "metadata": {},
   "outputs": [],
   "source": [
    "# pour écouter\n",
    "MyAudio(data3)"
   ]
  },
  {
   "cell_type": "markdown",
   "id": "268217ab",
   "metadata": {
    "tags": [
     "level_intermediate"
    ]
   },
   "source": [
    "## la fraction la plus proche (avancés)"
   ]
  },
  {
   "cell_type": "markdown",
   "id": "5eab9269",
   "metadata": {
    "tags": [
     "level_intermediate"
    ]
   },
   "source": [
    "on peut s'amuser à calculer, pour chaque note, la fraction la plus proche - si on se restreint à des rationnels avec un dénominateur \"petit\""
   ]
  },
  {
   "cell_type": "markdown",
   "id": "97002580",
   "metadata": {
    "tags": [
     "level_intermediate"
    ]
   },
   "source": [
    "pour ça on se fixe par exemple N=7 et pour chaque note x, on veut minimiser abs(x-r) pour r étant dans l'espace \n",
    "$$r\\in\\{1 + p/q, q<=N, 0<=p<=q\\}$$"
   ]
  },
  {
   "cell_type": "markdown",
   "id": "9cae8a68",
   "metadata": {
    "tags": [
     "level_intermediate"
    ]
   },
   "source": [
    "si on voulait faire ça en Python pur, on pourrait écrire quelque chose comme"
   ]
  },
  {
   "cell_type": "code",
   "execution_count": null,
   "id": "ea440792",
   "metadata": {
    "tags": [
     "level_intermediate"
    ]
   },
   "outputs": [],
   "source": [
    "from fractions import Fraction"
   ]
  },
  {
   "cell_type": "code",
   "execution_count": null,
   "id": "765f1922",
   "metadata": {
    "tags": [
     "level_intermediate"
    ]
   },
   "outputs": [],
   "source": [
    "N = 7\n",
    "\n",
    "# tous les rationnels concernés dans [1, 2[\n",
    "rationals = {1 + Fraction(p, q) for q in range(1, N+1) for p in range(q+1)}\n",
    "rationals"
   ]
  },
  {
   "cell_type": "code",
   "execution_count": null,
   "id": "dd2993f9",
   "metadata": {
    "tags": [
     "level_intermediate"
    ]
   },
   "outputs": [],
   "source": [
    "# la version la plus rapide à écrire\n",
    "def closest1(note):\n",
    "    return min(abs((note-rational)/rational) for rational in rationals)"
   ]
  },
  {
   "cell_type": "code",
   "execution_count": null,
   "id": "bdbfbfe8",
   "metadata": {
    "tags": [
     "level_intermediate"
    ]
   },
   "outputs": [],
   "source": [
    "# mais le souci c'est qu'on a perdu de l'information\n",
    "tierce, quinte = ratios[4], ratios[7]\n",
    "closest1(quinte)"
   ]
  },
  {
   "cell_type": "code",
   "execution_count": null,
   "id": "3fe84844",
   "metadata": {
    "tags": [
     "level_intermediate"
    ]
   },
   "outputs": [],
   "source": [
    "# du coup ça se complique un peu\n",
    "\n",
    "import math    # pour math.inf = infinity\n",
    "\n",
    "def closest2(note):\n",
    "    minimum = math.inf\n",
    "    result = None\n",
    "    for rational in rationals:\n",
    "        if abs(note-rational) < minimum:\n",
    "            minimum = abs(note-rational)/note\n",
    "            result = rational\n",
    "    return result, minimum"
   ]
  },
  {
   "cell_type": "code",
   "execution_count": null,
   "id": "8ac8555f",
   "metadata": {
    "tags": [
     "level_intermediate"
    ]
   },
   "outputs": [],
   "source": [
    "closest2(quinte)"
   ]
  },
  {
   "cell_type": "code",
   "execution_count": null,
   "id": "adedf669",
   "metadata": {
    "tags": [
     "level_intermediate"
    ]
   },
   "outputs": [],
   "source": [
    "# encore une autre version\n",
    "\n",
    "def closest(note):\n",
    "    \"\"\"\n",
    "    on retourne le rationnel le plus proche\n",
    "    avec l'erreur relative que ça représente\n",
    "    \n",
    "    sous la forme d'un tuple \n",
    "    (rationnel, erreur relative)\n",
    "    \"\"\"\n",
    "    # on va trier une liste de tuples (rational, relative_error)\n",
    "    # c'est sous-optimal d'un point de vue algorithmique \n",
    "    # car on n'a pas vraiment besoin de trier toute la liste\n",
    "    # dans ces ordres de grandeur ça n'a pas bcp d'importance\n",
    "    # par contre ça donne un code un peu plus intéressant\n",
    "    candidates = [(rational, abs(note-rational)/note) for rational in rationals]\n",
    "    \n",
    "    return sorted(candidates, key=lambda couple: couple[1])[0]"
   ]
  },
  {
   "cell_type": "code",
   "execution_count": null,
   "id": "7b047221",
   "metadata": {
    "tags": [
     "level_intermediate"
    ]
   },
   "outputs": [],
   "source": [
    "closest(quinte)"
   ]
  },
  {
   "cell_type": "markdown",
   "id": "518db6b9",
   "metadata": {
    "tags": [
     "level_intermediate"
    ]
   },
   "source": [
    "### les accords harmonieux"
   ]
  },
  {
   "cell_type": "markdown",
   "id": "545e64a7",
   "metadata": {
    "lines_to_next_cell": 2,
    "tags": [
     "level_intermediate"
    ]
   },
   "source": [
    "si on ne garde que les notes qui sont très proches - avec une erreur relative de moins de 0.5%  \n",
    "on trouve les intervalles do-fa et do-sol  \n",
    "(c'est assez logique que"
   ]
  }
 ],
 "metadata": {
  "jupytext": {
   "cell_metadata_filter": "all,-hidden,-heading_collapsed,-run_control,-trusted",
   "encoding": "# -*- coding: utf-8 -*-",
   "notebook_metadata_filter": "all, -jupytext.text_representation.jupytext_version, -jupytext.text_representation.format_version, -language_info.version, -language_info.codemirror_mode.version, -language_info.codemirror_mode, -language_info.file_extension, -language_info.mimetype, -toc"
  },
  "kernelspec": {
   "display_name": "Python 3 (ipykernel)",
   "language": "python",
   "name": "python3"
  },
  "language_info": {
   "name": "python",
   "nbconvert_exporter": "python",
   "pygments_lexer": "ipython3"
  }
 },
 "nbformat": 4,
 "nbformat_minor": 5
}
