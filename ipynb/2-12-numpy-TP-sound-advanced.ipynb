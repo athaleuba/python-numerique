{
 "cells": [
  {
   "cell_type": "markdown",
   "id": "600cf71a",
   "metadata": {},
   "source": [
    "<div class=\"licence\">\n",
    "<span>Licence CC BY-NC-ND</span>\n",
    "<span>Thierry Parmentelat</span>\n",
    "<span><img src=\"media/inria-25-alpha.png\" /></span>\n",
    "</div>"
   ]
  },
  {
   "cell_type": "markdown",
   "id": "71f65a66",
   "metadata": {},
   "source": [
    "# TP - un peu de musique"
   ]
  },
  {
   "cell_type": "code",
   "execution_count": null,
   "id": "80a430d9",
   "metadata": {},
   "outputs": [],
   "source": [
    "from IPython.display import HTML\n",
    "HTML('<link rel=\"stylesheet\" href=\"slides-notebook.css\" />')"
   ]
  },
  {
   "cell_type": "markdown",
   "id": "928bfeee",
   "metadata": {},
   "source": [
    "## avertissement"
   ]
  },
  {
   "cell_type": "markdown",
   "id": "b509ecc5",
   "metadata": {},
   "source": [
    "pour le confort de chacun, veuillez vous assurer avant de commencer que le volume de votre haut parleur est réglé au minimum audible pour vous :)"
   ]
  },
  {
   "cell_type": "markdown",
   "id": "b0407572",
   "metadata": {},
   "source": [
    "## imports"
   ]
  },
  {
   "cell_type": "code",
   "execution_count": null,
   "id": "ec6ed163",
   "metadata": {},
   "outputs": [],
   "source": [
    "import numpy as np"
   ]
  },
  {
   "cell_type": "code",
   "execution_count": null,
   "id": "e59b71fb",
   "metadata": {},
   "outputs": [],
   "source": [
    "import matplotlib.pyplot as plt"
   ]
  },
  {
   "cell_type": "code",
   "execution_count": null,
   "id": "5c115313",
   "metadata": {},
   "outputs": [],
   "source": [
    "# pour jouer le son qu'on va produire\n",
    "from IPython.display import Audio"
   ]
  },
  {
   "cell_type": "markdown",
   "id": "ebf4c1ca",
   "metadata": {},
   "source": [
    "## nature du son"
   ]
  },
  {
   "cell_type": "markdown",
   "id": "09fada32",
   "metadata": {},
   "source": [
    "comme vous le savez sans doute, lorsqu'on enregistre un morceau de musique, on capture la position de la membrane du microphone au cours du temps\n",
    "\n",
    "puisqu'il s'agit de son, la membrane oscille autour de sa position d'équilibre, dans un mouvement pseudo-périodique, et la fréquence à un moment donné détermine la *hauteur* du son qu'on entend\n",
    "\n",
    "ainsi la fréquence de 440Hz a été définie comme étant la fréquence du LA (enfin pour être précis, d'*un* LA, on y reviendra)"
   ]
  },
  {
   "cell_type": "markdown",
   "id": "eb52ed1f",
   "metadata": {},
   "source": [
    "## comment on capture du son"
   ]
  },
  {
   "cell_type": "markdown",
   "id": "92cafa77",
   "metadata": {},
   "source": [
    "une technique pour enregistrer le son consiste à simplement capturer la position de la membrane **à intervalles réguliers** : on appelle cela l'**échantillonnage**, qui produit en sortie une collection de valeurs numériques\n",
    "\n",
    "les fréquences audibles sont comprises, disons, pour être très large, entre 20 Hz et 20 kHz  \n",
    "du coup pour ne pas perdre en précision, on échantillonne traditionnellement à une fréquence de 44.1 kHz (chiffre qui date de l'époque des CD)\n",
    "\n",
    "ce qui signifie que si on produit un tableau de 44100 valeurs qui représentent une sinusoïde parfaite, on pourra jouer cela comme un son de 1s et sur une note continue; ce sera notre premier exercice"
   ]
  },
  {
   "cell_type": "code",
   "execution_count": null,
   "id": "a0452ae8",
   "metadata": {},
   "outputs": [],
   "source": [
    "RATE = 44_100\n",
    "LA = 440"
   ]
  },
  {
   "cell_type": "markdown",
   "id": "f2a7dffb",
   "metadata": {},
   "source": [
    "## synthétiseur - fréquence"
   ]
  },
  {
   "cell_type": "markdown",
   "id": "a29e6481",
   "metadata": {},
   "source": [
    "reste à déterminer l'amplitude, pour l'instant on prend une amplitude de 1"
   ]
  },
  {
   "cell_type": "markdown",
   "id": "f30f7bd8",
   "metadata": {},
   "source": [
    "imaginons que nous voulions produire un son correspondant à un LA à 440 Hz, sur une seconde:\n",
    "  1. nous devons donc calculer un tableau qui fait combien d'entrées ?\n",
    "  1. quelle est en fonction du temps, et donc sur l'intervalle $[0, 1]$,  \n",
    "     l'équation de la fonction qui nous intéresse ?\n",
    "  1. comment on peut s'y prendre pour calculer ce tableau ?"
   ]
  },
  {
   "cell_type": "code",
   "execution_count": null,
   "id": "d636096a",
   "metadata": {},
   "outputs": [],
   "source": [
    "# votre code\n",
    "la_1seconde = ..."
   ]
  },
  {
   "cell_type": "markdown",
   "id": "5f076ed6",
   "metadata": {},
   "source": [
    "***\n",
    "***"
   ]
  },
  {
   "cell_type": "code",
   "execution_count": null,
   "id": "e4d7cdbf",
   "metadata": {},
   "outputs": [],
   "source": [
    "# pour écouter le résultat\n",
    "# remarquez qu'on a maintenant perdu la fréquence d'échantillonnage\n",
    "# il faut repasser cette information au lecteur de musique\n",
    "\n",
    "Audio(la_1seconde, rate=RATE)"
   ]
  },
  {
   "cell_type": "markdown",
   "id": "dcdf4f3d",
   "metadata": {},
   "source": [
    "**commodité**\n",
    "\n",
    "comme on ne va produire que des sons échantillonnés à 44.100 Hz, ce sera plus commode de ne pas avoir à le répéter à chaque fois"
   ]
  },
  {
   "cell_type": "code",
   "execution_count": null,
   "id": "53ca1e1a",
   "metadata": {},
   "outputs": [],
   "source": [
    "def MyAudio(what, **kwds):\n",
    "    return Audio(what, rate=RATE, **kwds)"
   ]
  },
  {
   "cell_type": "code",
   "execution_count": null,
   "id": "db56dcba",
   "metadata": {
    "cell_style": "split"
   },
   "outputs": [],
   "source": [
    "MyAudio(la_1seconde)"
   ]
  },
  {
   "cell_type": "code",
   "execution_count": null,
   "id": "b2d0a9be",
   "metadata": {
    "cell_style": "split"
   },
   "outputs": [],
   "source": [
    "MyAudio(la_1seconde, autoplay=True)"
   ]
  },
  {
   "cell_type": "markdown",
   "id": "b2cc3773",
   "metadata": {},
   "source": [
    "### on en fait une fonction"
   ]
  },
  {
   "cell_type": "markdown",
   "id": "bf24dd3c",
   "metadata": {},
   "source": [
    "pour généraliser un petit peu, on va écrire une fonction  \n",
    "qui produit un son sinusoïdal, et qui prend en paramètres  \n",
    "la fréquence et la durée"
   ]
  },
  {
   "cell_type": "code",
   "execution_count": null,
   "id": "a2c41955",
   "metadata": {},
   "outputs": [],
   "source": [
    "# votre code\n",
    "\n",
    "def sine(freq, duration=1, amplitude=1.):\n",
    "    ..."
   ]
  },
  {
   "cell_type": "code",
   "execution_count": null,
   "id": "3a471984",
   "metadata": {},
   "outputs": [],
   "source": [
    "# pour écouter: plus court\n",
    "\n",
    "MyAudio(sine(LA, .5), autoplay=True)"
   ]
  },
  {
   "cell_type": "code",
   "execution_count": null,
   "id": "dba20683",
   "metadata": {},
   "outputs": [],
   "source": [
    "# pour écouter: plus long\n",
    "\n",
    "MyAudio(sine(LA, 1.5), autoplay=True)"
   ]
  },
  {
   "cell_type": "markdown",
   "id": "32420d32",
   "metadata": {
    "tags": [
     "level_intermediate"
    ]
   },
   "source": [
    "### pour les rapides\n",
    "\n",
    "on veut obtenir un effet de 'note qui monte'\n",
    "\n",
    "améliorer un peu pour générer une courbe avec un fréquence qui croit (ou décroit) linéairement avec le temps\n",
    "\n",
    "écrire une fonction `sine_linear(freq1, freq2, duration)`"
   ]
  },
  {
   "cell_type": "code",
   "execution_count": null,
   "id": "b762517c",
   "metadata": {
    "tags": [
     "level_intermediate"
    ]
   },
   "outputs": [],
   "source": [
    "# votre code"
   ]
  },
  {
   "cell_type": "code",
   "execution_count": null,
   "id": "0b969eff",
   "metadata": {
    "tags": [
     "level_intermediate"
    ]
   },
   "outputs": [],
   "source": [
    "# pour écouter\n",
    "MyAudio(sine_linear(440, 660, 3))"
   ]
  },
  {
   "cell_type": "markdown",
   "id": "cfa8e69d",
   "metadata": {},
   "source": [
    "## réglage du volume"
   ]
  },
  {
   "cell_type": "markdown",
   "id": "4c782ab0",
   "metadata": {},
   "source": [
    "### crescendo"
   ]
  },
  {
   "cell_type": "markdown",
   "id": "b374e4c4",
   "metadata": {},
   "source": [
    "imaginons qu'on veuille produire un son de plus en plus fort  \n",
    "par exemple qui monte crescendo de manière linéaire  \n",
    "sur toute la durée du son\n",
    "\n",
    "1. comment on pourrait faire ça ?\n",
    "1. en faire une fonction\n",
    "\n",
    "   ```python\n",
    "   def crescendo_sine(freq, duration):\n",
    "        ...\n",
    "   ```\n",
    "1. ajouter un paramètre pour pouvoir décroître\n",
    "   ```python\n",
    "   def crescendo_sine(freq, duration, increase=True):\n",
    "        ...\n",
    "   ```\n",
    "1. avancés: \n",
    "   est-ce qu'on ne pourrait pas faire un choix un peu plus malin ?"
   ]
  },
  {
   "cell_type": "code",
   "execution_count": null,
   "id": "9c31e7d6",
   "metadata": {},
   "outputs": [],
   "source": [
    "# votre code pour 1.\n",
    "\n",
    "crescendo_la_1seconde = ..."
   ]
  },
  {
   "cell_type": "code",
   "execution_count": null,
   "id": "1b1b1bc1",
   "metadata": {},
   "outputs": [],
   "source": [
    "# pour écouter\n",
    "MyAudio(crescendo_la_1seconde) #, autoplay=True)"
   ]
  },
  {
   "cell_type": "code",
   "execution_count": null,
   "id": "2812b678",
   "metadata": {},
   "outputs": [],
   "source": [
    "# votre code pour 2.\n",
    "def crescendo(freq, duration):\n",
    "    ..."
   ]
  },
  {
   "cell_type": "code",
   "execution_count": null,
   "id": "e09dadf9",
   "metadata": {},
   "outputs": [],
   "source": [
    "# pour écouter\n",
    "MyAudio(crescendo(LA, 2)) #, autoplay=True)"
   ]
  },
  {
   "cell_type": "code",
   "execution_count": null,
   "id": "aaf9bdce",
   "metadata": {},
   "outputs": [],
   "source": [
    "# votre code pour 3.\n",
    "def crescendo(freq, duration, increase=True):\n",
    "    ..."
   ]
  },
  {
   "cell_type": "code",
   "execution_count": null,
   "id": "91867b0e",
   "metadata": {},
   "outputs": [],
   "source": [
    "# pour écouter\n",
    "\n",
    "MyAudio(crescendo(LA, 2, increase=False)) #, autoplay=True)"
   ]
  },
  {
   "cell_type": "markdown",
   "id": "4bf0011d",
   "metadata": {},
   "source": [
    "## concaténation"
   ]
  },
  {
   "cell_type": "markdown",
   "id": "441b8203",
   "metadata": {},
   "source": [
    "on sait maintenant produire des notes élémentaires\n",
    "\n",
    "sachant que la note DO immédiatement au dessus du la-440 a une fréquence de l'ordre de 523 Hz, comment pourrait-on maintenant produire une succession de deux notes la et do ?"
   ]
  },
  {
   "cell_type": "code",
   "execution_count": null,
   "id": "5dec0260",
   "metadata": {},
   "outputs": [],
   "source": [
    "# la fréquence du DO\n",
    "DO = 523.25"
   ]
  },
  {
   "cell_type": "code",
   "execution_count": null,
   "id": "4d65db92",
   "metadata": {},
   "outputs": [],
   "source": [
    "# votre code\n",
    "la_do = ..."
   ]
  },
  {
   "cell_type": "code",
   "execution_count": null,
   "id": "8e206ce3",
   "metadata": {},
   "outputs": [],
   "source": [
    "# pour écouter\n",
    "\n",
    "MyAudio(la_do, autoplay=True)"
   ]
  },
  {
   "cell_type": "markdown",
   "id": "9dab10a3",
   "metadata": {},
   "source": [
    "## amplitude et types"
   ]
  },
  {
   "cell_type": "markdown",
   "id": "0a02abbb",
   "metadata": {},
   "source": [
    "jusqu'ici, chaque échantillon est représenté par un **nombre flottant** entre -1 et 1\n",
    "\n",
    "il se trouve que ça n'est pas forcément le plus pertinent comme approche, notamment lorsqu'il va s'agir de sauver notre son sur fichier\n",
    "\n",
    "aussi nous allons maintenant nous poser la question de changer d'échelle - et de type de données - pour utiliser plutôt des **entiers 16 bits** (que pour rappel on a à notre disposition avec `numpy.int16`)"
   ]
  },
  {
   "cell_type": "markdown",
   "id": "cc10b597",
   "metadata": {},
   "source": [
    "### entiers signés ou non\n",
    "\n",
    "ce qui nous amène à une petite digression: profitons-en pour regarder un peu comment sont encodés les entiers; \n",
    "\n",
    "l'encodage des **entiers signés** fonctionne comme suit; on regarde ici les types `int8` et `uint8` car c'est plus simple, le principe est exactement le même pour des tailles plus grandes\n",
    "\n",
    "il y a deux types d'encodages pour les entiers, **signés** (`int8`) et **non signés** (`uint8`, le `u` signifie *unsigned*)\n",
    "\n",
    "les entiers **non signés** sont simples à encoder, avec 8 bits on peut aller de 0 à 255\n",
    "\n",
    "par contre pour les entiers **signés**, on va devoir utiliser **un bit comme bit de signe**, ce qui limite le spectre de ce qu'il est possible d'encoder; avec en tout 8 bits on peut encoder de -128 à 127 inclus."
   ]
  },
  {
   "cell_type": "markdown",
   "id": "9591b8bc",
   "metadata": {},
   "source": [
    "| entier |    int8    |     uint8    | \n",
    "|--------|------------|--------------|\n",
    "| -128   | `10000000` | n/a |\n",
    "| -127   | `10000001` | n/a |\n",
    "| -126   | `10000010` | n/a | \n",
    "| ...    | \n",
    "| -003   | `11111101` | n/a |\n",
    "| -002   | `11111110` | n/a |\n",
    "| -001   | `11111111` | n/a |\n",
    "| ------- |\n",
    "| 000    | `00000000` | `00000000` (idem) |\n",
    "| 001    | `00000001` | `00000001` (idem) |\n",
    "| 002    | `00000010` | `00000010` (idem) |\n",
    "| ...    | \n",
    "| 125    | `01111101` | `01111101` (idem) |\n",
    "| 126    | `01111110` | `01111110` (idem) |\n",
    "| 127    | `01111111` | `01111111` (idem) |\n",
    "| ------- |\n",
    "| 128    | n/a | `10000000` |\n",
    "| 129    | n/a | `10000001` |\n",
    "| 130    | n/a | `10000011` |\n",
    "| ...    |\n",
    "| 253    | n/a | `11111101` |\n",
    "| 254    | n/a | `11111110` |\n",
    "| 255    | n/a | `11111111` |"
   ]
  },
  {
   "cell_type": "markdown",
   "id": "a0ed5d8c",
   "metadata": {},
   "source": [
    "du coup avec le type `int16` on va pouvoir encoder l'intervalle [-32768, 32767]"
   ]
  },
  {
   "cell_type": "code",
   "execution_count": null,
   "id": "e1ace699",
   "metadata": {},
   "outputs": [],
   "source": [
    "2**15"
   ]
  },
  {
   "cell_type": "markdown",
   "id": "5ffeed91",
   "metadata": {},
   "source": [
    "ça veut dire que si on sort de cet intervalle on va avoir des surprises"
   ]
  },
  {
   "cell_type": "code",
   "execution_count": null,
   "id": "905c7de2",
   "metadata": {},
   "outputs": [],
   "source": [
    "# par exemple ici je crée un intervalle de 0 à 40.000\n",
    "# en fixant le type int16\n",
    "trash = np.array(range(40_000), dtype=np.int16)\n",
    "\n",
    "# mais du coup les valeurs trop hautes sont mal converties !!\n",
    "trash[32_764: 32_772]"
   ]
  },
  {
   "cell_type": "markdown",
   "id": "c5a45eb5",
   "metadata": {},
   "source": [
    "### mise à l'échelle"
   ]
  },
  {
   "cell_type": "markdown",
   "id": "965750c4",
   "metadata": {},
   "source": [
    "**exercice**\n",
    "\n",
    "en vous souvenant qu'on a à notre disposition la méthode `array.astype()`  \n",
    "pour fabriquer une copie d'un tableau numpy convertie dans un autre type,\n",
    "\n",
    "écrivez une fonction qui transforme  \n",
    "notre tableau de flottants dans [-1, 1]. \n",
    "en un tableau d'**entiers signés 16bits**\n",
    "\n",
    "et pour préserver le niveau sonore, il faut que les entrés maximales  \n",
    "i.e. 1 ou -1 dans le 1er format  \n",
    "correspondent au maximum codable dans le second format\n",
    "\n",
    "le son produit doit être totalement identique - le volume notamment"
   ]
  },
  {
   "cell_type": "code",
   "execution_count": null,
   "id": "03b0f89f",
   "metadata": {},
   "outputs": [],
   "source": [
    "# votre code\n",
    "def float_to_int16(as_float):\n",
    "    ..."
   ]
  },
  {
   "cell_type": "code",
   "execution_count": null,
   "id": "c06fbb4a",
   "metadata": {
    "cell_style": "split"
   },
   "outputs": [],
   "source": [
    "# pour écouter \n",
    "MyAudio(float_to_int16(la_do), autoplay=True)"
   ]
  },
  {
   "cell_type": "code",
   "execution_count": null,
   "id": "aa2ec09d",
   "metadata": {
    "cell_style": "split"
   },
   "outputs": [],
   "source": [
    "# sans conversion \n",
    "MyAudio(la_do, autoplay=True)"
   ]
  },
  {
   "cell_type": "markdown",
   "id": "3671708c",
   "metadata": {},
   "source": [
    "## fréquences des notes de la gamme"
   ]
  },
  {
   "cell_type": "markdown",
   "id": "33874236",
   "metadata": {},
   "source": [
    "dans cette partie, nous allons calculer les fréquences des notes\n",
    "\n",
    "pour les non-musiciens, sachez que, pour simplifier :"
   ]
  },
  {
   "cell_type": "markdown",
   "id": "f288efb0",
   "metadata": {},
   "source": [
    "### gamme chromatique\n",
    "\n",
    "la gamme chromatique (toutes les notes du piano) contient 12 notes  \n",
    "$do$ ・ $do\\sharp$ ・ $ré$ ・ $ré\\sharp$ ・ $mi$ ・ $fa$ ・ $fa\\sharp$ ・ $sol$ ・ $sol\\sharp$ ・ $la$ ・ $la\\sharp$ ・ $si$  \n",
    "séparées de 1/2 ton  \n",
    "(le $la\\sharp$ s'appelle aussi $si\\flat$ mais c'est une autre histoire...)\n",
    "\n",
    "et si on rajoute la note suivante (qu'on appelle $do'$), cela fait 13 notes donc 12 intervalles"
   ]
  },
  {
   "cell_type": "markdown",
   "id": "e3527a7c",
   "metadata": {},
   "source": [
    "### intervalles\n",
    "\n",
    "notre oreille reconnait bien les **intervalles** entre deux notes  \n",
    "par exemple si vous jouez les deux extraits ci-dessous  \n",
    "vous allez reconnaitre dans les deux cas le pin-pon des pompiers"
   ]
  },
  {
   "cell_type": "code",
   "execution_count": null,
   "id": "97da42fc",
   "metadata": {
    "cell_style": "split"
   },
   "outputs": [],
   "source": [
    "Audio(filename='media/pin-pon-la-si.wav')"
   ]
  },
  {
   "cell_type": "code",
   "execution_count": null,
   "id": "9f5e1a9e",
   "metadata": {
    "cell_style": "split"
   },
   "outputs": [],
   "source": [
    "Audio(filename='media/pin-pon-fa-sol.wav')"
   ]
  },
  {
   "cell_type": "markdown",
   "id": "f4ee460e",
   "metadata": {},
   "source": [
    "ici dans les deux cas, les deux notes utilisées (la - si, puis fa - sol)  \n",
    "sont dans les deux cas séparées de 2 crans dans la gamme chromatique  \n",
    "(on dit que les deux notes constituent un *intervalle* de 2 demi-tons, soit un ton)   \n",
    "et comme c'est le **même intervalle**, notre oreille entend dans les deux cas la même \"mélodie\""
   ]
  },
  {
   "cell_type": "markdown",
   "id": "d50e959a",
   "metadata": {},
   "source": [
    "### un intervalle = un rapport entre fréquences\n",
    "\n",
    "enfin, il faut savoir que ce qui caractérise un intervalle, \n",
    "c'est le **rapport** entre les fréquences des deux notes\n",
    "\n",
    "ainsi par exemple, vous pouvez constater que si on multiplie une fréquence par 2"
   ]
  },
  {
   "cell_type": "code",
   "execution_count": null,
   "id": "53acd2b3",
   "metadata": {
    "cell_style": "center"
   },
   "outputs": [],
   "source": [
    "# une octave de LA\n",
    "MyAudio(\n",
    "    np.concatenate((sine(LA, 0.5), \n",
    "                    sine(2*LA, 0.5))),\n",
    "    autoplay=True)"
   ]
  },
  {
   "cell_type": "markdown",
   "id": "c0315ac1",
   "metadata": {},
   "source": [
    "on entend une note qui ressemble beaucoup à la premiére  \n",
    "en fait le fait de multiplier la fréquence par 2  \n",
    "permet d'obtenir une note **une octave** au dessus  \n",
    "(c'est-à-dire de passer d'un DO au DO au dessus)"
   ]
  },
  {
   "cell_type": "code",
   "execution_count": null,
   "id": "77d9dcc3",
   "metadata": {
    "cell_style": "center"
   },
   "outputs": [],
   "source": [
    "# même effet avec le DO naturellement\n",
    "MyAudio(\n",
    "    np.concatenate((sine(DO, 0.5), \n",
    "                    sine(2*DO, 0.5))),\n",
    "    autoplay=True)"
   ]
  },
  {
   "cell_type": "markdown",
   "id": "cd6a43a6",
   "metadata": {},
   "source": [
    "### calculons les fréquences des notes"
   ]
  },
  {
   "cell_type": "markdown",
   "id": "192de836",
   "metadata": {},
   "source": [
    "on a toutes les informations à ce stade pour calculer  \n",
    "les fréquences des notes de la gamme (dite *bien tempérée*)\n",
    "\n",
    "en effet on sait que, puisque c'est toujours le même intervalle,  \n",
    "un demi-ton correspond à un rapport constant entre les (fréquences des) notes  \n",
    "qu'on va appeler $alpha$\n",
    "\n",
    "$$\n",
    "\\frac{do\\sharp}{do} = \n",
    "\\frac{ré}{do\\sharp} = \n",
    "\\ldots\n",
    "\\frac{si}{la\\sharp} = \n",
    "\\frac{do'}{si} = \\alpha\n",
    "$$"
   ]
  },
  {
   "cell_type": "markdown",
   "id": "a85bbf44",
   "metadata": {
    "cell_style": "center"
   },
   "source": [
    "et comme par ailleurs on sait qu'entre les deux *do* il y a une octave  \n",
    "donc $\n",
    "\\frac{do'}{do} = 2 \n",
    "$\n",
    "\n",
    "mais c'est aussi\n",
    "$\n",
    "\\frac{do'}{do} = \\frac{do'}{si}.\\frac{si}{la\\sharp}.\\frac{la\\sharp}{la}...\\frac{ré}{do\\sharp}.\\frac{do\\sharp}{do} = \\alpha^{12}\n",
    "$\n",
    "\n",
    "d'où il ressort que $\\alpha^{12} = 2$"
   ]
  },
  {
   "cell_type": "markdown",
   "id": "bf1a102b",
   "metadata": {
    "cell_style": "split"
   },
   "source": [
    "**exercices**\n",
    "\n",
    "1. calculer - sans boucle for - un tableau contenant  \n",
    "   les 13 - de *do* à *do'* inclus -  \n",
    "   rapports entre do et les notes de la gamme  \n",
    "   (`ratios[0]` devrait valoir 1, et `ratios[12]` devrait valoir 2)"
   ]
  },
  {
   "cell_type": "markdown",
   "id": "638c0166",
   "metadata": {
    "cell_style": "split"
   },
   "source": [
    "$\n",
    "\\begin{array}\n",
    "00 & 1 & 2^0 & do\\\\\n",
    "1 & \\sqrt[^{12}]{2} & 2^{1/12} & do\\sharp\\\\\n",
    "2 & (\\sqrt[^{12}]{2})^2 & 2^{2/12} & ré\\\\\n",
    "...\\\\\n",
    "11 & (\\sqrt[^{12}]{2})^{11} & 2^{11/12} & la\\sharp\\\\\n",
    "12 & 2 & 2^{12/12} & do'\\\\\n",
    "\\end{array}\n",
    "$"
   ]
  },
  {
   "cell_type": "markdown",
   "id": "94c181f9",
   "metadata": {},
   "source": [
    "2. on a besoin d'une fonction qui calcule la fréquence  \n",
    "   d'une note à partir de son nom  \n",
    "   on veut bien sûr que $la \\rightarrow 440$"
   ]
  },
  {
   "cell_type": "code",
   "execution_count": null,
   "id": "60500976",
   "metadata": {},
   "outputs": [],
   "source": [
    "scale = ['do', 'do#', 'ré', 'ré#', 'mi', 'fa', 'fa#', 'sol', 'sol#', 'la', 'la#', 'si']"
   ]
  },
  {
   "cell_type": "code",
   "execution_count": null,
   "id": "7db6d8b1",
   "metadata": {},
   "outputs": [],
   "source": [
    "# votre code\n",
    "def freq_from_name(name):\n",
    "    ..."
   ]
  },
  {
   "cell_type": "code",
   "execution_count": null,
   "id": "ea38c157",
   "metadata": {
    "cell_style": "center"
   },
   "outputs": [],
   "source": [
    "# pour vérifier: devrait retourner 440\n",
    "freq_from_name('la')"
   ]
  },
  {
   "cell_type": "code",
   "execution_count": null,
   "id": "21ffb8c7",
   "metadata": {
    "cell_style": "split"
   },
   "outputs": [],
   "source": [
    "# attention à la précision \n",
    "freq_from_name('la') == 440"
   ]
  },
  {
   "cell_type": "code",
   "execution_count": null,
   "id": "26a70789",
   "metadata": {
    "cell_style": "split"
   },
   "outputs": [],
   "source": [
    "# pensez à utiliser ceci\n",
    "np.isclose(freq_from_name('la'), 440)"
   ]
  },
  {
   "cell_type": "markdown",
   "id": "adf81eb7",
   "metadata": {},
   "source": [
    "## rationnels approchants"
   ]
  },
  {
   "cell_type": "markdown",
   "id": "20bcf51c",
   "metadata": {},
   "source": [
    "pour comprendre les harmonies, ce qui intéressant  \n",
    "c'est que parmi les ratios qu'on a calculés plus haut,  \n",
    "certains sont **très proches** de rapports **rationnels simples**"
   ]
  },
  {
   "cell_type": "code",
   "execution_count": null,
   "id": "65d8cac7",
   "metadata": {
    "cell_style": "split"
   },
   "outputs": [],
   "source": [
    "# intervalle do-mi (tierce majeure) ~= 5/4\n",
    "ratios[4]"
   ]
  },
  {
   "cell_type": "code",
   "execution_count": null,
   "id": "6f81dfde",
   "metadata": {
    "cell_style": "split"
   },
   "outputs": [],
   "source": [
    "# intervalle do-sol (quinte) ~= 3/2\n",
    "ratios[7]"
   ]
  },
  {
   "cell_type": "markdown",
   "id": "a6bbfc40",
   "metadata": {},
   "source": [
    "### visuel (1)"
   ]
  },
  {
   "cell_type": "markdown",
   "id": "e0b636cc",
   "metadata": {
    "cell_style": "center"
   },
   "source": [
    "pour visualiser les ratios de la gamme\n",
    "\n",
    "(uniquement des exemples d'utilisation de matplotlib)"
   ]
  },
  {
   "cell_type": "code",
   "execution_count": null,
   "id": "84846a7a",
   "metadata": {
    "cell_style": "center"
   },
   "outputs": [],
   "source": [
    "%matplotlib inline\n",
    "\n",
    "plt.figure(figsize=(2, 6))\n",
    "\n",
    "# on veut afficher 12 points de coordonnées\n",
    "# tous avec une coordonnée X=0 \n",
    "X = np.zeros(ratios.shape)\n",
    "\n",
    "# et pour marqueur un petit trait horizontal\n",
    "plt.scatter(X, ratios, marker=0, linewidth=0.5);"
   ]
  },
  {
   "cell_type": "markdown",
   "id": "f0c1d075",
   "metadata": {},
   "source": [
    "### visuel (2)"
   ]
  },
  {
   "cell_type": "markdown",
   "id": "0f2868fc",
   "metadata": {},
   "source": [
    "pareil, mais en superposant les rationnels $\\frac{3}{2}$, $\\frac{5}{4}$ et $\\frac{4}{3}$"
   ]
  },
  {
   "cell_type": "code",
   "execution_count": null,
   "id": "18bd1ca3",
   "metadata": {
    "scrolled": true
   },
   "outputs": [],
   "source": [
    "# on remarque quelques rapports proches\n",
    "specials = np.array([1, 5/4, 4/3, 3/2, 2])"
   ]
  },
  {
   "cell_type": "code",
   "execution_count": null,
   "id": "b844c3a2",
   "metadata": {
    "cell_style": "split"
   },
   "outputs": [],
   "source": [
    "# pour dessiner des traits un peu plus beaux\n",
    "# où on contrôle la taille et l'épaisseur\n",
    "\n",
    "def strike(height, width, color, linewidth):\n",
    "    plt.plot([-width, width], [height, height],\n",
    "             color=color, linewidth=linewidth)\n",
    "\n",
    "def turn_off_xticks():\n",
    "    plt.tick_params(\n",
    "        axis='x',          # changes apply to the x-axis\n",
    "        which='both',      # both major and minor ticks are affected\n",
    "        bottom=False,      # ticks along the bottom edge are off\n",
    "        top=False,         # ticks along the top edge are off\n",
    "        labelbottom=False) # labels along the bottom edge are off"
   ]
  },
  {
   "cell_type": "code",
   "execution_count": null,
   "id": "5274aff4",
   "metadata": {
    "cell_style": "split"
   },
   "outputs": [],
   "source": [
    "# on crée une figure\n",
    "plt.figure(figsize=(2, 6))\n",
    "# on enlève les marques sur l'axe des X\n",
    "turn_off_xticks()\n",
    "# on dessine les notes de la gamme en orange\n",
    "for ratio in ratios:\n",
    "    strike(ratio, 0.1, 'orange', 0.5)\n",
    "# et les quelques rapports qu'on a remarqués à l'oeil nu\n",
    "for special in specials:\n",
    "    strike(special, 0.2, 'blue', 0.2)"
   ]
  },
  {
   "cell_type": "markdown",
   "id": "467df708",
   "metadata": {},
   "source": [
    "## superposer deux sons"
   ]
  },
  {
   "cell_type": "markdown",
   "id": "e1056443",
   "metadata": {},
   "source": [
    "comment faire pour jouer plusieurs sons en même temps ?"
   ]
  },
  {
   "cell_type": "code",
   "execution_count": null,
   "id": "fa06d870",
   "metadata": {},
   "outputs": [],
   "source": [
    "do = sine(freq_from_name('do'), 2)\n",
    "mi = sine(freq_from_name('mi'), 2)\n",
    "sol = sine(freq_from_name('sol'), 2)"
   ]
  },
  {
   "cell_type": "code",
   "execution_count": null,
   "id": "9e6e8ef9",
   "metadata": {},
   "outputs": [],
   "source": [
    "# votre code\n",
    "accord_do_mi_sol = ..."
   ]
  },
  {
   "cell_type": "code",
   "execution_count": null,
   "id": "f8c0e005",
   "metadata": {},
   "outputs": [],
   "source": [
    "# pour écouter\n",
    "\n",
    "MyAudio(accord_do_mi_sol, autoplay=True)"
   ]
  },
  {
   "cell_type": "markdown",
   "id": "b1afe0ed",
   "metadata": {},
   "source": [
    "## sauver un son dans un `.wav`"
   ]
  },
  {
   "cell_type": "markdown",
   "id": "152016f5",
   "metadata": {},
   "source": [
    "on peut facilement sauver nos sons  \n",
    "grâce à la librairie `scipy`  \n",
    "par contre il faut savoir que le **format le plus robuste**  \n",
    "est celui qui utilise les **entiers 16 bits** qu'on a vus plus haut"
   ]
  },
  {
   "cell_type": "code",
   "execution_count": null,
   "id": "b5bbe6ba",
   "metadata": {},
   "outputs": [],
   "source": [
    "from scipy.io import wavfile"
   ]
  },
  {
   "cell_type": "markdown",
   "id": "ec34501f",
   "metadata": {},
   "source": [
    "**exercice**\n",
    "\n",
    "1. chercher dans la documentation comment sauver un son dans un fichier `.wav`\n",
    "1. sauver un de vos morceaux (par exemple `la_do`)\n",
    "1. relisez-le\n",
    "1. assurez-vous que le résultat est conforme au morceau de départ"
   ]
  },
  {
   "cell_type": "code",
   "execution_count": null,
   "id": "c9751ae4",
   "metadata": {
    "tags": [
     "raises-exception"
    ]
   },
   "outputs": [],
   "source": [
    "# votre code\n",
    "original = la_do # par exemple\n",
    "#\n",
    "# sauver le son 'before' dans un fichier 'sample.wav'\n",
    "# \n",
    "restored = ... # relisez le fichier 'sample.wav' dans une variable 'after'"
   ]
  },
  {
   "cell_type": "code",
   "execution_count": null,
   "id": "fa6c724d",
   "metadata": {
    "cell_style": "split",
    "tags": [
     "raises-exception"
    ]
   },
   "outputs": [],
   "source": [
    "# pour vérifier\n",
    "\n",
    "MyAudio(original)"
   ]
  },
  {
   "cell_type": "code",
   "execution_count": null,
   "id": "eef5d077",
   "metadata": {
    "cell_style": "split"
   },
   "outputs": [],
   "source": [
    "# pour vérifier\n",
    "\n",
    "MyAudio(restored)"
   ]
  },
  {
   "cell_type": "markdown",
   "id": "66cbaedb",
   "metadata": {},
   "source": [
    "## un vrai son"
   ]
  },
  {
   "cell_type": "markdown",
   "id": "0d699b81",
   "metadata": {},
   "source": [
    "on part d'un petit fichier `sounds-cello.wav`"
   ]
  },
  {
   "cell_type": "markdown",
   "id": "9c32f0c0",
   "metadata": {},
   "source": [
    "<audio controls src=\"media/sounds-cello.wav\" style=\"width:100%\">"
   ]
  },
  {
   "cell_type": "markdown",
   "id": "7319c86c",
   "metadata": {},
   "source": [
    "**exercice**\n",
    "\n",
    "1. lire le fichier (ranger le signal dans une variable `data`) \n",
    "1. afficher le samplerate utilisé dans le fichier\n",
    "1. afficher le nombre d'échantillons\n",
    "1. afficher la longueur du morceau en secondes"
   ]
  },
  {
   "cell_type": "code",
   "execution_count": null,
   "id": "315b4ad6",
   "metadata": {},
   "outputs": [],
   "source": [
    "# votre code"
   ]
  },
  {
   "cell_type": "code",
   "execution_count": null,
   "id": "be669271",
   "metadata": {},
   "outputs": [],
   "source": [
    "# pour vérifier à l'oreille\n",
    "MyAudio(data)"
   ]
  },
  {
   "cell_type": "markdown",
   "id": "cb0bbbd1",
   "metadata": {},
   "source": [
    "### à quoi ça ressemble"
   ]
  },
  {
   "cell_type": "markdown",
   "id": "fe5f1965",
   "metadata": {},
   "source": [
    "on va utiliser matplotlib pour afficher le signal\n",
    "\n",
    "voici à quoi ressemble notre morceau"
   ]
  },
  {
   "cell_type": "code",
   "execution_count": null,
   "id": "84a140cb",
   "metadata": {},
   "outputs": [],
   "source": [
    "%matplotlib inline\n",
    "\n",
    "plt.figure(figsize=(16, 4))\n",
    "plt.plot(data, linewidth=0.05);"
   ]
  },
  {
   "cell_type": "markdown",
   "id": "d2f19a45",
   "metadata": {},
   "source": [
    "Grâce au mode de rendu dit *\"notebook\"*, on a plus de possibilités d''interaction avec la figure  \n",
    "pour zoomer (icône carrée), déplacer (les deux flêches croisées), revenir au point de vue de départ (la maison).."
   ]
  },
  {
   "cell_type": "code",
   "execution_count": null,
   "id": "dcf4ff83",
   "metadata": {},
   "outputs": [],
   "source": [
    "%matplotlib notebook\n",
    "\n",
    "plt.figure(figsize=(10, 4))\n",
    "plt.plot(data, linewidth=0.05);"
   ]
  },
  {
   "cell_type": "markdown",
   "id": "7300a96b",
   "metadata": {},
   "source": [
    "## effet d'echo"
   ]
  },
  {
   "cell_type": "markdown",
   "id": "9688f185",
   "metadata": {},
   "source": [
    "maintenant on veut ajouter un effet d'echo  \n",
    "  \n",
    "il nous faut pour cela\n",
    "\n",
    "* créer une version du son initial, mais décalée dans le temps  \n",
    "* et ajouter les deux\n",
    "\n",
    "sauf que si on s'y prend comme cela:\n",
    "* les deux signaux apparaissent avec le même niveau sonore  \n",
    "  or un effet d'echo sous-entend une atténuation du signal tardif\n",
    "* en plus avec le type `int16`, on risque de causer des erreurs de débordement  \n",
    "  en effet si au même instant les deux signaux contiennent tous deux  \n",
    "  une valeur >= 20_000, la somme va dépasser $2^{15}$ et donc provoquer  \n",
    "  une conversion et donc une erreur"
   ]
  },
  {
   "cell_type": "markdown",
   "id": "ecb27911",
   "metadata": {
    "tags": [
     "level_advanced"
    ]
   },
   "source": [
    "![](media/sounds-offsets.png)\n",
    "\n",
    "c'est ce qu'on essaie d'illustrer ici\n",
    "* le signal de départ (en vert)\n",
    "* est décalé vers la droite de la valeur du retard\n",
    "* et on applique à chacun une pondération  \n",
    "  par exemple 70% pour le signal de départ,\n",
    "  et 30% pour le signal retardé\n",
    "* avant de les ajouter"
   ]
  },
  {
   "cell_type": "code",
   "execution_count": null,
   "id": "735d8621",
   "metadata": {},
   "outputs": [],
   "source": [
    "# en seconde\n",
    "delay = 2\n",
    "\n",
    "# les deux ratios\n",
    "main_ratio, delayed_ratio = 0.7, 0.3"
   ]
  },
  {
   "cell_type": "markdown",
   "id": "55bf41b3",
   "metadata": {},
   "source": [
    "**exercice** v1\n",
    "\n",
    "1. traduire `delay` en nombre d'échantillons `offset`\n",
    "1. produire le son avec echo, \n",
    "   sur une durée correspondant au son de départ"
   ]
  },
  {
   "cell_type": "code",
   "execution_count": null,
   "id": "85aaf056",
   "metadata": {},
   "outputs": [],
   "source": [
    "# votre code pour produire \n",
    "# le son de 'data' avec echo\n",
    "data_echoed = ..."
   ]
  },
  {
   "cell_type": "code",
   "execution_count": null,
   "id": "9352394c",
   "metadata": {},
   "outputs": [],
   "source": [
    "# pour écouter\n",
    "\n",
    "MyAudio(data_echoed)"
   ]
  },
  {
   "cell_type": "code",
   "execution_count": null,
   "id": "98d67ad0",
   "metadata": {
    "scrolled": true
   },
   "outputs": [],
   "source": [
    "# pour observer\n",
    "\n",
    "plt.figure(figsize=(10, 4))\n",
    "plt.plot(data_echoed, linewidth=0.05);"
   ]
  },
  {
   "cell_type": "markdown",
   "id": "9d9d6143",
   "metadata": {},
   "source": [
    "**exercice** v2\n",
    "\n",
    "1. idem mais pour produire une durée correspondant à la somme\n",
    "  * de la durée du son de départ\n",
    "  * et du retard"
   ]
  },
  {
   "cell_type": "code",
   "execution_count": null,
   "id": "853ce0a6",
   "metadata": {},
   "outputs": [],
   "source": [
    "# votre code\n",
    "\n",
    "data_echoed_v2 = ..."
   ]
  },
  {
   "cell_type": "code",
   "execution_count": null,
   "id": "0d909c88",
   "metadata": {},
   "outputs": [],
   "source": [
    "# pour écouter\n",
    "MyAudio(data_echoed_v2)"
   ]
  },
  {
   "cell_type": "code",
   "execution_count": null,
   "id": "c6be75be",
   "metadata": {
    "scrolled": true
   },
   "outputs": [],
   "source": [
    "# pour observer\n",
    "\n",
    "plt.figure(figsize=(10, 4))\n",
    "plt.plot(data_echoed_v2, linewidth=0.05);"
   ]
  },
  {
   "cell_type": "markdown",
   "id": "b3da70b6",
   "metadata": {},
   "source": [
    "## transposer"
   ]
  },
  {
   "cell_type": "markdown",
   "id": "a72dd06b",
   "metadata": {},
   "source": [
    "### transposer d'une octave"
   ]
  },
  {
   "cell_type": "markdown",
   "id": "38f1fe5b",
   "metadata": {},
   "source": [
    "on a vu qu'une octave correspond à une fréquence deux fois plus élevée\n",
    "\n",
    "partant de par exemple `data`, comment produire un son une octave au dessus ?  \n",
    "(on s'astreint à ne pas modifier le samplerate)"
   ]
  },
  {
   "cell_type": "markdown",
   "id": "7dda019d",
   "metadata": {},
   "source": [
    "***\n",
    "***\n",
    "***\n",
    "***\n",
    "***\n",
    "***\n",
    "je vous laisse y réfléchir un moment...\n",
    "***\n",
    "***\n",
    "***\n",
    "***\n",
    "***\n",
    "***"
   ]
  },
  {
   "cell_type": "markdown",
   "id": "a52f2954",
   "metadata": {},
   "source": [
    "pour élever d'une octave, il suffit d'ignorer un échantillon sur deux \n",
    "\n",
    "pourquoi ? de cette façon on va artificiellement \n",
    "\n",
    "* diminuer la durée par 2 (2 fois moins d'échantillons, toujours à la même fréquence d'échantillonage de 44.100 Hz)\n",
    "* et du coup multiplier par 2 la fréquence des sons perçus"
   ]
  },
  {
   "cell_type": "markdown",
   "id": "a53ab224",
   "metadata": {
    "hide_input": false
   },
   "source": [
    "![](media/sounds-sample-2-1.png)"
   ]
  },
  {
   "cell_type": "markdown",
   "id": "64fee2be",
   "metadata": {},
   "source": [
    "**exercice**\n",
    "\n",
    "fabriquer un son qui soit similaire à celui dans `data`, mais une octave au dessus"
   ]
  },
  {
   "cell_type": "code",
   "execution_count": null,
   "id": "79c56198",
   "metadata": {},
   "outputs": [],
   "source": [
    "# votre code ici\n",
    "\n",
    "data2 = ..."
   ]
  },
  {
   "cell_type": "code",
   "execution_count": null,
   "id": "cb55a037",
   "metadata": {
    "cell_style": "split"
   },
   "outputs": [],
   "source": [
    "# pour écouter\n",
    "\n",
    "MyAudio(data)"
   ]
  },
  {
   "cell_type": "code",
   "execution_count": null,
   "id": "b793e40c",
   "metadata": {
    "cell_style": "split"
   },
   "outputs": [],
   "source": [
    "# pour écouter\n",
    "\n",
    "MyAudio(data2)"
   ]
  },
  {
   "cell_type": "markdown",
   "id": "15d7d103",
   "metadata": {},
   "source": [
    "naturellement le profil reste le même mais l'échelle des X est plus courte (deux fois moins d'échantillons)"
   ]
  },
  {
   "cell_type": "code",
   "execution_count": null,
   "id": "8c3fc86e",
   "metadata": {},
   "outputs": [],
   "source": [
    "%matplotlib notebook\n",
    "\n",
    "plt.figure(figsize=(10, 4))\n",
    "plt.plot(data2, linewidth=0.05);"
   ]
  },
  {
   "cell_type": "markdown",
   "id": "db934014",
   "metadata": {},
   "source": [
    "### transposer d'une quinte"
   ]
  },
  {
   "cell_type": "markdown",
   "id": "970768b0",
   "metadata": {},
   "source": [
    "pour transposer d'une quinte, il nous faut multiplier la fréquence par 3/2; on peut utiliser une approche voisine\n",
    "\n",
    "![](media/sounds-sample-3-2.png)"
   ]
  },
  {
   "cell_type": "markdown",
   "id": "f7a37cc2",
   "metadata": {},
   "source": [
    "sauf que cette fois, il faut un peu interpoler; on est donc amené à faire des moyennes comme ceci\n",
    "\n",
    "```\n",
    "data         data3  \n",
    "0    0       0\n",
    "1    1+2/2   1\n",
    "2    --\n",
    "3    3       2\n",
    "4    4+5/2   3\n",
    "5    --\n",
    "...\n",
    "```"
   ]
  },
  {
   "cell_type": "markdown",
   "id": "f1dc9da6",
   "metadata": {},
   "source": [
    "**exercice** appliquez l'idée ci-dessus :\n",
    "\n",
    "1. créez un tableau `data3` dont la taille est 2/3 de celle de `data`\n",
    "1. remplir dans `data3` les données de rang pair  \n",
    "   qui correspondent aux multiples de 3 dans le tableau de départ\n",
    "1. remplir dans `data3` les données de rang impair  \n",
    "   en implémentant l'interpolation \n",
    "   \n",
    "**remarque**: nos data sont en `int16`, on va s'efforcer\n",
    "de continuer à travailler dans ce format"
   ]
  },
  {
   "cell_type": "code",
   "execution_count": null,
   "id": "35d357a1",
   "metadata": {},
   "outputs": [],
   "source": [
    "# votre code\n",
    "data3 = ..."
   ]
  },
  {
   "cell_type": "code",
   "execution_count": null,
   "id": "b446b96a",
   "metadata": {},
   "outputs": [],
   "source": [
    "# vérification de visu\n",
    "# ces deux segments correspondent normalement \n",
    "# au même instant dans le morceau\n",
    "\n",
    "data[12000:12007], data3[8000:8005]"
   ]
  },
  {
   "cell_type": "code",
   "execution_count": null,
   "id": "8c08d32e",
   "metadata": {},
   "outputs": [],
   "source": [
    "# pour écouter\n",
    "MyAudio(data3)"
   ]
  },
  {
   "cell_type": "markdown",
   "id": "4e8d0866",
   "metadata": {
    "tags": [
     "level_intermediate"
    ]
   },
   "source": [
    "## la fraction la plus proche (avancés - sans exercice)"
   ]
  },
  {
   "cell_type": "markdown",
   "id": "62fe3838",
   "metadata": {
    "tags": [
     "level_intermediate"
    ]
   },
   "source": [
    "on peut s'amuser à calculer, pour chaque note, la fraction la plus proche - si on se restreint à des rationnels avec un dénominateur \"petit\""
   ]
  },
  {
   "cell_type": "markdown",
   "id": "08ffe650",
   "metadata": {
    "tags": [
     "level_intermediate"
    ]
   },
   "source": [
    "pour ça on se fixe par exemple N=7 et pour chaque note x, on veut minimiser abs(x-r) pour r étant dans l'espace \n",
    "$$r\\in\\{1 + p/q, q<=N, 0<=p<=q\\}$$"
   ]
  },
  {
   "cell_type": "markdown",
   "id": "9bf62597",
   "metadata": {
    "tags": [
     "level_intermediate"
    ]
   },
   "source": [
    "si on voulait faire ça en Python pur, on pourrait écrire quelque chose comme"
   ]
  },
  {
   "cell_type": "code",
   "execution_count": null,
   "id": "c60037c3",
   "metadata": {
    "tags": [
     "level_intermediate"
    ]
   },
   "outputs": [],
   "source": [
    "from fractions import Fraction"
   ]
  },
  {
   "cell_type": "code",
   "execution_count": null,
   "id": "a1eb817e",
   "metadata": {
    "tags": [
     "level_intermediate"
    ]
   },
   "outputs": [],
   "source": [
    "N = 7\n",
    "\n",
    "# tous les rationnels concernés dans [1, 2[\n",
    "rationals = {1 + Fraction(p, q) for q in range(1, N+1) for p in range(q+1)}\n",
    "rationals"
   ]
  },
  {
   "cell_type": "code",
   "execution_count": null,
   "id": "6c47b174",
   "metadata": {
    "tags": [
     "level_intermediate"
    ]
   },
   "outputs": [],
   "source": [
    "# la version la plus rapide à écrire\n",
    "def closest1(note):\n",
    "    return min(abs((note-rational)/rational) for rational in rationals)"
   ]
  },
  {
   "cell_type": "code",
   "execution_count": null,
   "id": "be072291",
   "metadata": {
    "tags": [
     "level_intermediate"
    ]
   },
   "outputs": [],
   "source": [
    "# mais le souci c'est qu'on a perdu de l'information\n",
    "tierce, quinte = ratios[4], ratios[7]\n",
    "closest1(quinte)"
   ]
  },
  {
   "cell_type": "code",
   "execution_count": null,
   "id": "99d4eb73",
   "metadata": {
    "tags": [
     "level_intermediate"
    ]
   },
   "outputs": [],
   "source": [
    "# du coup ça se complique un peu\n",
    "\n",
    "def closest2(note):\n",
    "    minimum = np.inf\n",
    "    result = None\n",
    "    for rational in rationals:\n",
    "        if abs(note-rational) < minimum:\n",
    "            minimum = abs(note-rational)/note\n",
    "            result = rational\n",
    "    return result, minimum"
   ]
  },
  {
   "cell_type": "code",
   "execution_count": null,
   "id": "a7aed203",
   "metadata": {
    "tags": [
     "level_intermediate"
    ]
   },
   "outputs": [],
   "source": [
    "closest2(quinte)"
   ]
  },
  {
   "cell_type": "code",
   "execution_count": null,
   "id": "d40a2c54",
   "metadata": {
    "tags": [
     "level_intermediate"
    ]
   },
   "outputs": [],
   "source": [
    "# encore une autre version\n",
    "\n",
    "def closest(note):\n",
    "    \"\"\"\n",
    "    on retourne le rationnel le plus proche\n",
    "    avec l'erreur relative que ça représente\n",
    "    \n",
    "    sous la forme d'un tuple \n",
    "    (rationnel, erreur relative)\n",
    "    \"\"\"\n",
    "    # on va trier une liste de tuples (rational, relative_error)\n",
    "    # c'est sous-optimal d'un point de vue algorithmique \n",
    "    # car on n'a pas vraiment besoin de trier toute la liste\n",
    "    # dans ces ordres de grandeur ça n'a pas bcp d'importance\n",
    "    # par contre ça donne un code un peu plus intéressant\n",
    "    candidates = [(rational, abs(note-rational)/note) for rational in rationals]\n",
    "    \n",
    "    return sorted(candidates, key=lambda couple: couple[1])[0]"
   ]
  },
  {
   "cell_type": "code",
   "execution_count": null,
   "id": "e251e625",
   "metadata": {
    "tags": [
     "level_intermediate"
    ]
   },
   "outputs": [],
   "source": [
    "closest(quinte)"
   ]
  },
  {
   "cell_type": "markdown",
   "id": "8613f726",
   "metadata": {
    "tags": [
     "level_intermediate"
    ]
   },
   "source": [
    "### les accords harmonieux"
   ]
  },
  {
   "cell_type": "markdown",
   "id": "9a6c09ff",
   "metadata": {
    "lines_to_next_cell": 2,
    "tags": [
     "level_intermediate"
    ]
   },
   "source": [
    "si on ne garde que les notes qui sont très proches - avec une erreur relative de moins de 0.5%  \n",
    "on trouve les intervalles do-fa et do-sol"
   ]
  }
 ],
 "metadata": {
  "jupytext": {
   "cell_metadata_filter": "all,-hidden,-heading_collapsed,-run_control,-trusted",
   "encoding": "# -*- coding: utf-8 -*-",
   "notebook_metadata_filter": "all, -jupytext.text_representation.jupytext_version, -jupytext.text_representation.format_version, -language_info.version, -language_info.codemirror_mode.version, -language_info.codemirror_mode, -language_info.file_extension, -language_info.mimetype, -toc"
  },
  "kernelspec": {
   "display_name": "Python 3",
   "language": "python",
   "name": "python3"
  },
  "language_info": {
   "name": "python",
   "nbconvert_exporter": "python",
   "pygments_lexer": "ipython3"
  }
 },
 "nbformat": 4,
 "nbformat_minor": 5
}
