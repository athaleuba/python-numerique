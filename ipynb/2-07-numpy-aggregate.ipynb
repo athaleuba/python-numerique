{
 "cells": [
  {
   "cell_type": "markdown",
   "id": "25beb4d2",
   "metadata": {},
   "source": [
    "# python-numérique - fonctions d'agrégation"
   ]
  },
  {
   "cell_type": "code",
   "execution_count": null,
   "id": "23ab0ce4",
   "metadata": {},
   "outputs": [],
   "source": [
    "from IPython.display import HTML\n",
    "HTML('<link rel=\"stylesheet\" href=\"slides-notebook.css\" />')"
   ]
  },
  {
   "cell_type": "code",
   "execution_count": null,
   "id": "a93c1202",
   "metadata": {},
   "outputs": [],
   "source": [
    "import numpy as np"
   ]
  },
  {
   "cell_type": "markdown",
   "id": "99b99996",
   "metadata": {},
   "source": [
    "## contenu de ce notebook (sauter si déjà acquis)\n",
    "\n",
    "<br>\n",
    "\n",
    "ce notebook détaille les fonctions `numpy` qui combinent les éléments d'un tableau  \n",
    "comme `numpy.sum`, `numpy.var`...\n",
    "\n",
    "<br>\n",
    "\n",
    "comment on utilise leur paramètre `axis`"
   ]
  },
  {
   "cell_type": "markdown",
   "id": "35558a49",
   "metadata": {
    "tags": [
     "framed_cell"
    ]
   },
   "source": [
    "## introduction\n",
    "\n",
    "<br>\n",
    "\n",
    "nous avons vu des opérations `numpy` qui s'appliquent à un ou plusieurs tableaux  \n",
    "et retournent un tableau de la même dimension\n",
    "    \n",
    "```python\n",
    "tab1 = np.arange(10).reshape(2, 5)\n",
    "np.power(tab1, 2) + tab1\n",
    "-> array([[ 0,  2,  6, 12, 20],\n",
    "          [30, 42, 56, 72, 90]])\n",
    "```\n",
    "    \n",
    "<br>\n",
    "    \n",
    "les fonctions d'agrégation vont permettre de combiner les valeurs d'un même tableau  \n",
    "et retournent des sous-tableaux\n",
    "* somme des lignes\n",
    "* max d'une matrice\n",
    "*...\n",
    "    \n",
    "<br>\n",
    "    \n",
    "vous devrez spécifier la dimension `axis` dans laquelle vous désirez appliquer l'opération\n",
    "\n",
    "<br>\n",
    "    \n",
    "exemples de fonctions d'agrégation\n",
    "\n",
    "| fonction | comportement|\n",
    "|------|-----|\n",
    "| `np.sum` | somme les éléments sur un axe|\n",
    "| `np.min` | retourne le plus petit élément|\n",
    "| `np.max` | retourne le plus grand|\n",
    "| `np.argmin` | retourne l'indice du plus petit élément|\n",
    "| `np.argmax` | retourne l'indice du plus grand élément|\n",
    "| `np.mean`| calcule la moyenne des éléments|\n",
    "| `np.std`  | calcule l'écart type des éléments |\n",
    "| `np.var`  | calcule la variance des éléments |\n",
    "| `np.all`  | vrai si aucun élément n'est nul |\n",
    "| `np.any`  | vrai si au moins un élément n'est pas nul |\n",
    "| `np.where`  | une condition ternaire |\n",
    "| .../...| .../... |\n",
    "    \n",
    "chacune de ces fonctions est aussi une méthode des `numpy.ndarray`"
   ]
  },
  {
   "cell_type": "code",
   "execution_count": null,
   "id": "8ab20720",
   "metadata": {},
   "outputs": [],
   "source": [
    "# le code\n",
    "tab1 = np.arange(10).reshape(2, 5)\n",
    "np.power(tab1, 2) + tab1"
   ]
  },
  {
   "cell_type": "markdown",
   "id": "aaf1f13f",
   "metadata": {},
   "source": [
    "## agrégation en dimension 1"
   ]
  },
  {
   "cell_type": "markdown",
   "id": "1d407c36",
   "metadata": {
    "tags": [
     "framed_cell"
    ]
   },
   "source": [
    "### exemple avec des vecteurs d'entiers\n",
    "\n",
    "<br>\n",
    "    \n",
    "il n'y a qu'une dimension, qu'un `axe`  \n",
    "c'est l'axe d'indice `0`     \n",
    "il est donc optionnel\n",
    "    \n",
    "<br>\n",
    "\n",
    "il suffit d'appliquer la fonction d'agrégation désirée au tableau  \n",
    "elle s'applique à tous les éléments\n",
    "    \n",
    "<br>\n",
    "    \n",
    "fonction globale de `numpy`\n",
    "    \n",
    "```python\n",
    "vec = np.arange(10) # [0 1 2 3 4 5 6 7 8 9]\n",
    "np.min(vec, axis=0) # l'axis est optionnel\n",
    "np.min(vec)         \n",
    "np.max(vec) # 9\n",
    "np.sum(vec) # 45\n",
    "np.std(vec) # 2.87\n",
    "```\n",
    "<br>\n",
    "    \n",
    "méthode de `numpy.ndarray`    \n",
    "    \n",
    "```python\n",
    "vec = np.arange(10) # [0 1 2 3 4 5 6 7 8 9]\n",
    "vec.min() # 0\n",
    "vec.max() # 9\n",
    "vec.sum() # 45\n",
    "vec.std()  # 2.87   \n",
    "```\n",
    "  \n",
    "<br>\n",
    "\n",
    "le type de la valeur retournée, en général `int64` ou`float64`     \n",
    "peut ne pas coincider avec le type des éléments du tableau  \n",
    "\n",
    "\n",
    "là oui\n",
    "```python\n",
    "vec = np.array([0., 1]) # 0.\n",
    "type(np.sum(vec))\n",
    "-> numpy.float64\n",
    "```\n",
    "    \n",
    "là non\n",
    "```python\n",
    "vec = np.array([0, 1], dtype=np.int8)\n",
    "type(np.sum(vec))\n",
    "-> numpy.int64\n",
    "```\n",
    "    \n",
    "    \n",
    "là oui\n",
    "```python\n",
    "vec = np.array([0, 1], dtype=np.int8)\n",
    "type(np.min(vec))\n",
    "-> numpy.int8\n",
    "```"
   ]
  },
  {
   "cell_type": "code",
   "execution_count": null,
   "id": "44909887",
   "metadata": {},
   "outputs": [],
   "source": [
    "# le code\n",
    "vec = np.random.randint(1, 10, size=(10,))\n",
    "print(vec)\n",
    "print(np.min(vec, axis=0), np.max(vec), np.sum(vec), np.std(vec))\n",
    "print(vec.min(), vec.max(), vec.sum(), vec.std())"
   ]
  },
  {
   "cell_type": "code",
   "execution_count": null,
   "id": "7bc8af52",
   "metadata": {},
   "outputs": [],
   "source": [
    "# le code\n",
    "vec = np.array([0, 1], dtype=np.int8)\n",
    "type(np.min(vec))"
   ]
  },
  {
   "cell_type": "markdown",
   "id": "ce8f002d",
   "metadata": {
    "tags": [
     "framed_cell"
    ]
   },
   "source": [
    "### exemple avec un vecteur de booléens\n",
    "\n",
    "<br>\n",
    " \n",
    "Comment tester si tous les éléments de votre tableau sont vrais ?  \n",
    "Comment tester si l'un au moins des éléments de votre tableau est vrai ?\n",
    "\n",
    "<br>\n",
    "    \n",
    "**version pédestre** ... on fait la somme  \n",
    "(`True` devient `1` et `False` `0`)\n",
    "* si le résultat est la longueur du tableau... ils sont tous vrais\n",
    "* si le résultat est 0... ils sont tous faux\n",
    "    \n",
    "(le faire en exercice)\n",
    "    \n",
    "<br>\n",
    "    \n",
    "version `numpy` avec les fonction `np.all` et `np.any`  \n",
    "soit fonction globale soit méthode de `numpy.ndarray`\n",
    "\n",
    "<br>\n",
    "    \n",
    "pour générer des booléens, générer aléatoirement des entiers entre `0` et `2` non-compris  \n",
    "et demander un `dtype` `numpy.bool` ou `bool`\n",
    "    \n",
    "```python\n",
    "tab = np.random.randint(0, 2, size=(10), dtype=np.bool)\n",
    "```\n",
    "    \n",
    "```python\n",
    "np.all(tab)\n",
    "np.any(tab)\n",
    "tab.all()\n",
    "tab.any()\n",
    "tab.sum() == len(tab) # all\n",
    "tab.sum() != 0 # any\n",
    "```\n",
    "    \n",
    "<br>\n",
    "    \n",
    "`np.all`  et `np.any` s'appliquent sur des valeurs de types autres que booléen  \n",
    "les zéros des types seront `False` et le reste `True`"
   ]
  },
  {
   "cell_type": "code",
   "execution_count": null,
   "id": "e4c27d63",
   "metadata": {},
   "outputs": [],
   "source": [
    "# le code\n",
    "tab = np.random.randint(0, 2, size=(10), dtype=np.bool)\n",
    "print(np.all(tab), np.any(tab))\n",
    "print(tab.all(), tab.any())\n",
    "print(tab.sum() == len(tab), tab.sum() != 0)\n",
    "print(np.all(np.random.randint(1, 2, size=(10), dtype=np.bool))) # tous des 1"
   ]
  },
  {
   "cell_type": "markdown",
   "id": "4b27c67d",
   "metadata": {},
   "source": [
    "## agrégation en dimension > 1"
   ]
  },
  {
   "cell_type": "markdown",
   "id": "6d5967ef",
   "metadata": {
    "tags": [
     "framed_cell"
    ]
   },
   "source": [
    "### exemple de tableau en dim 4\n",
    "\n",
    "<br>\n",
    "    \n",
    "```python\n",
    "tab = np.arange(120).reshape(2, 3, 4, 5)\n",
    "tab ->[[[[  0,   1,   2,   3,   4],\n",
    "         [  5,   6,   7,   8,   9],\n",
    "         [ 10,  11,  12,  13,  14],\n",
    "         [ 15,  16,  17,  18,  19]],\n",
    "\n",
    "        [[ 20,  21,  22,  23,  24],\n",
    "         [ 25,  26,  27,  28,  29],\n",
    "         [ 30,  31,  32,  33,  34],\n",
    "         [ 35,  36,  37,  38,  39]],\n",
    "\n",
    "        [[ 40,  41,  42,  43,  44],\n",
    "         [ 45,  46,  47,  48,  49],\n",
    "         [ 50,  51,  52,  53,  54],\n",
    "         [ 55,  56,  57,  58,  59]]],\n",
    "\n",
    "\n",
    "       [[[ 60,  61,  62,  63,  64],\n",
    "         [ 65,  66,  67,  68,  69],\n",
    "         [ 70,  71,  72,  73,  74],\n",
    "         [ 75,  76,  77,  78,  79]],\n",
    "\n",
    "        [[ 80,  81,  82,  83,  84],\n",
    "         [ 85,  86,  87,  88,  89],\n",
    "         [ 90,  91,  92,  93,  94],\n",
    "         [ 95,  96,  97,  98,  99]],\n",
    "\n",
    "        [[100, 101, 102, 103, 104],\n",
    "         [105, 106, 107, 108, 109],\n",
    "         [110, 111, 112, 113, 114],\n",
    "         [115, 116, 117, 118, 119]]]]\n",
    "```"
   ]
  },
  {
   "cell_type": "markdown",
   "id": "a13d26e7",
   "metadata": {},
   "source": [
    "***"
   ]
  },
  {
   "cell_type": "markdown",
   "id": "1f25049b",
   "metadata": {
    "tags": [
     "framed_cell"
    ]
   },
   "source": [
    "### somme en dimension 4\n",
    "\n",
    "<br>\n",
    "\n",
    "par défaut `numpy` appliquera l'opération sur tous les éléments du tableau  \n",
    "et renverra une unique valeur\n",
    "\n",
    "```python\n",
    "tab = np.arange(120).reshape(2, 3, 4, 5)\n",
    "tab.sum()\n",
    "-> 7140\n",
    "```\n",
    "\n",
    "<br>\n",
    "    \n",
    "on peut préciser un axe avec `axis=i`\n",
    "* quand on va appliquer une opération suivant un axe  \n",
    "cette dimension va disparaître dans le résultat  \n",
    "<br>\n",
    "<br>\n",
    "    \n",
    "on considère `tab` formé de 2 groupes de 3 matrices de 4 lignes et 5 colonnes  \n",
    "donc de forme `(2, 3, 4, 5)`\n",
    "\n",
    "**sommons dans l'axe des groupes**\n",
    "    \n",
    "```python\n",
    "tab.sum(axis=0).shape # on rend la forme obtenue\n",
    "-> (3, 4, 5)\n",
    "```\n",
    "\n",
    "**sommons suivant l'axe des matrices**\n",
    "    \n",
    "```python\n",
    "tab.sum(axis=1).shape\n",
    "-> (2, 4, 5)\n",
    "```\n",
    "    \n",
    "**sommons suivant l'axe des lignes**\n",
    "    \n",
    "```python\n",
    "tab.sum(axis=2).shape\n",
    "-> (2, 3, 5)\n",
    "```\n",
    "    \n",
    "**sommons suivant l'axe des colonnes**\n",
    "    \n",
    "```python\n",
    "tab.sum(axis=3).shape\n",
    "-> (2, 3, 4)\n",
    "```"
   ]
  },
  {
   "cell_type": "code",
   "execution_count": null,
   "id": "0c6a8719",
   "metadata": {},
   "outputs": [],
   "source": [
    "tab = np.arange(120).reshape(2, 3, 4, 5)\n",
    "\n",
    "(tab.sum(axis=0).shape == (3, 4, 5), \n",
    " tab.sum(axis=1).shape == (2, 4, 5), \n",
    " tab.sum(axis=2).shape == (2, 3, 5),\n",
    " tab.sum(axis=3).shape == (2, 3, 4))"
   ]
  },
  {
   "cell_type": "code",
   "execution_count": null,
   "id": "9bf7690d",
   "metadata": {},
   "outputs": [],
   "source": [
    "tab.sum(axis=0)"
   ]
  },
  {
   "cell_type": "markdown",
   "id": "a15204cd",
   "metadata": {
    "tags": [
     "framed_cell"
    ]
   },
   "source": [
    "### min et max globaux en dimension 4\n",
    "\n",
    "<br>\n",
    "    \n",
    "\n",
    "on recherche l'indice (l'argument) du plus grand élément du tableau `argmax`\n",
    "    \n",
    "```python\n",
    "tab = np.arange(120).reshape(2, 3, 4, 5)\n",
    "tab.argmax()\n",
    "-> 119\n",
    "```\n",
    "<br>\n",
    "    \n",
    "**attention**  \n",
    "il nous donne l'indice dans le tableau *aplati*\n",
    "    \n",
    "<br>\n",
    "    \n",
    "la fonction `numpy.unravel_index`  \n",
    "re-calcule les coordonnées   \n",
    "à partir de l'indice absolu et de la forme du tableau  \n",
    "\n",
    "    \n",
    "```python\n",
    "tab = np.arange(120).reshape(2, 3, 4, 5)\n",
    "tab.argmax() # 119\n",
    "np.unravel_index(tab.argmax(), tab.shape) # (1, 2, 3, 4)\n",
    "```\n",
    "\n",
    "<br>\n",
    "  \n",
    "**exercice avancé**\n",
    "1. proposez le code de la fonction `np.unravel_index`"
   ]
  },
  {
   "cell_type": "code",
   "execution_count": null,
   "id": "b229b2a0",
   "metadata": {},
   "outputs": [],
   "source": [
    "# le code\n",
    "tab = np.arange(120).reshape(2, 3, 4, 5)\n",
    "print(    tab.argmax()    )\n",
    "\n",
    "print(    np.unravel_index(tab.argmax(), tab.shape)    )"
   ]
  },
  {
   "cell_type": "code",
   "execution_count": null,
   "id": "1e5bd182",
   "metadata": {
    "tags": [
     "level_advanced"
    ]
   },
   "outputs": [],
   "source": [
    "# votre code ici\n",
    "def unravel_index(argmax, shape):\n",
    "    pass"
   ]
  },
  {
   "cell_type": "code",
   "execution_count": null,
   "id": "e8b0e418",
   "metadata": {
    "lines_to_next_cell": 2
   },
   "outputs": [],
   "source": [
    "unravel_index(104, (2, 3, 4, 5))"
   ]
  }
 ],
 "metadata": {
  "jupytext": {
   "cell_metadata_filter": "all,-hidden,-heading_collapsed,-run_control,-trusted",
   "cell_metadata_json": true,
   "encoding": "# -*- coding: utf-8 -*-",
   "notebook_metadata_filter": "all, -jupytext.text_representation.jupytext_version, -jupytext.text_representation.format_version, -language_info.version, -language_info.codemirror_mode.version, -language_info.codemirror_mode, -language_info.file_extension, -language_info.mimetype, -toc"
  },
  "kernelspec": {
   "display_name": "Python 3 (ipykernel)",
   "language": "python",
   "name": "python3"
  },
  "language_info": {
   "name": "python",
   "nbconvert_exporter": "python",
   "pygments_lexer": "ipython3"
  },
  "notebookname": "agrégation selon les axes"
 },
 "nbformat": 4,
 "nbformat_minor": 5
}
