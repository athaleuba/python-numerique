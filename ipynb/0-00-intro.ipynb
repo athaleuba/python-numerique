{
 "cells": [
  {
   "cell_type": "markdown",
   "id": "5c6bf25f",
   "metadata": {},
   "source": [
    "# Python numérique: numpy, pandas et matplotlib"
   ]
  }
 ],
 "metadata": {
  "jupytext": {
   "cell_metadata_filter": "-all",
   "main_language": "python",
   "notebook_metadata_filter": "-all"
  }
 },
 "nbformat": 4,
 "nbformat_minor": 5
}
