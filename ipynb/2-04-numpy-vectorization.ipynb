{
 "cells": [
  {
   "cell_type": "code",
   "execution_count": null,
   "id": "02290db7",
   "metadata": {},
   "outputs": [],
   "source": [
    "from IPython.display import HTML\n",
    "HTML('<link rel=\"stylesheet\" href=\"slides-notebook.css\" />')"
   ]
  },
  {
   "cell_type": "markdown",
   "id": "6c86f75e",
   "metadata": {},
   "source": [
    "# python-numérique - vectorisation"
   ]
  },
  {
   "cell_type": "markdown",
   "id": "3b3f1c3f",
   "metadata": {},
   "source": [
    "## contenu de ce notebook (sauter si déjà acquis)\n",
    "\n",
    "la **vectorisation** (c'est-à-dire appliquer une fonction `numpy` à tout un tableau sans passer par un `for-python`)\n",
    "\n",
    "<br>\n",
    "\n",
    "les `ufunc`\n",
    "\n",
    "<br>\n",
    "\n",
    "`numpy.vectorize`\n",
    "\n",
    "<br>"
   ]
  },
  {
   "cell_type": "code",
   "execution_count": null,
   "id": "a16d85b6",
   "metadata": {},
   "outputs": [],
   "source": [
    "# on importe la librairie numpy\n",
    "import numpy as np\n",
    "from matplotlib import pyplot as plt"
   ]
  },
  {
   "cell_type": "markdown",
   "id": "f83cb553",
   "metadata": {
    "tags": [
     "framed_cell"
    ]
   },
   "source": [
    "## qu'est-ce que la vectorisation ?\n",
    "<br>\n",
    "  \n",
    "        \n",
    "**l'idée**  \n",
    "pour appliquer une fonction à tous les éléments d'un tableau `numpy`\n",
    "* de ne **jamais** utiliser une boucle `for-python`  \n",
    "(qui calcule une indirection à chaque accès à un élément)\n",
    "<br>    \n",
    "    \n",
    "* mais d'appliquer la fonction directement au tableau  \n",
    "de manière *vectorisée*  \n",
    "(`numpy` utilise alors un **décalage** pour passer d'un élément du tableau à un autre)\n",
    "<br>\n",
    "\n",
    "* c'est plus concis, vos codes sont plus rapides et plus lisibles !\n",
    "   \n",
    "<br>\n",
    "    \n",
    "**OUI**\n",
    "```python\n",
    "n = 10000000\n",
    "x = np.linspace(0, 2*np.pi, n)\n",
    "\n",
    "y = np.sin(x) # np.sin appliquée au tableau x\n",
    "```   \n",
    "    \n",
    " \n",
    "<br>    \n",
    "<br>\n",
    "    \n",
    "**NON**\n",
    "```python\n",
    "n = 10000000\n",
    "x = np.linspace(0, 2*np.pi, n)\n",
    "    \n",
    "y = []\n",
    "for e in x:   # NON MAL FAUX\n",
    "    y.append(np.sin(e))\n",
    "```\n",
    "<br>\n",
    "    \n",
    "la vectotrisation est **la seule manière** d'écrire du code en `numpy`  \n",
    "pour avoir des **temps d'exécution acceptables**\n",
    "    \n",
    "<br>\n",
    "    \n",
    "**conclusion**   \n",
    "sur des tableaux `numpy` utilisez **toujours** la **vectorisation**  \n",
    "**vectorisation** = le `for` est fait dans `numpy`\n",
    "\n",
    "    \n",
    "<br>\n",
    "    \n",
    "vérifiez en comparant les temps d'exécution des deux codes `%%timeit`  \n",
    "attention c'est très long..."
   ]
  },
  {
   "cell_type": "code",
   "execution_count": null,
   "id": "90458725",
   "metadata": {},
   "outputs": [],
   "source": [
    "%%timeit\n",
    "n = 1000000\n",
    "x = np.linspace(0, 2*np.pi, n)\n",
    "y = np.sin(x) # np.sin appliquée au tableau x"
   ]
  },
  {
   "cell_type": "code",
   "execution_count": null,
   "id": "f4894682",
   "metadata": {},
   "outputs": [],
   "source": [
    "%%timeit\n",
    "n = 1000000\n",
    "x = np.linspace(0, 2*np.pi, n)\n",
    "\n",
    "y = []\n",
    "for e in x:\n",
    "    y.append(np.sin(e))"
   ]
  },
  {
   "cell_type": "markdown",
   "id": "4a0b70d3",
   "metadata": {},
   "source": [
    "### dessiner un cercle de rayon `r`"
   ]
  },
  {
   "cell_type": "markdown",
   "id": "3022b2a8",
   "metadata": {},
   "source": [
    "**exercice**\n",
    "\n",
    "Dessinez un cercle de rayon $r$  \n",
    "\n",
    "indices\n",
    "\n",
    "1. $x = r\\, sin(\\theta)$  \n",
    "   $y = r\\, cos(\\theta)$  \n",
    "   avec $\\theta$ variant de $0$ à $2\\pi$\n",
    "1. si votre cercle apparaît elliptique, c'est que les échelles de vos axes diffèrent   \n",
    "   demandez à ce qu'elles soient égales avec `plt.axis('equal')`"
   ]
  },
  {
   "cell_type": "code",
   "execution_count": null,
   "id": "b1a543d3",
   "metadata": {},
   "outputs": [],
   "source": [
    "# votre code"
   ]
  },
  {
   "cell_type": "markdown",
   "id": "aa2d8871",
   "metadata": {},
   "source": [
    "### calculer une fonction polynomiale"
   ]
  },
  {
   "cell_type": "markdown",
   "id": "3ffd0963",
   "metadata": {},
   "source": [
    "**exercice**\n",
    "\n",
    "1. faites une fonction qui retourne le calcul d'un polynome  \n",
    "   par exemple $x^3 + 2x^2 -5x +1$  \n",
    "   (puissance: `**` ou `numpy.power`)\n",
    "<br>\n",
    "\n",
    "2. appliquez la à un `np.ndarray`\n",
    "<br>\n",
    "\n",
    "3. que se passe-t-il ? (1)\n",
    "<br>\n",
    "\n",
    "4. affichez la fonction\n",
    "<br>\n",
    "\n",
    "(1) tout se passe très bien"
   ]
  },
  {
   "cell_type": "code",
   "execution_count": null,
   "id": "d977106f",
   "metadata": {},
   "outputs": [],
   "source": [
    "# votre code ici\n",
    "def scalar_function(x):\n",
    "    pass"
   ]
  },
  {
   "cell_type": "markdown",
   "id": "3d846230",
   "metadata": {},
   "source": [
    "## les `ufunc`"
   ]
  },
  {
   "cell_type": "markdown",
   "id": "b96394f7",
   "metadata": {
    "tags": [
     "framed_cell"
    ]
   },
   "source": [
    "## qu'est-ce qu'une `ufunc`\n",
    "\n",
    "<br>\n",
    "\n",
    "Le mécanisme général qui applique une fonction à un tableau  \n",
    "est connu sous le terme de *Universal function*  \n",
    "ou `ufunc`\n",
    "    \n",
    "<br>\n",
    "    \n",
    "(ce terme `ufunc` est utile pour des recherches sur Internet)\n",
    "    \n",
    "<br>\n",
    "\n",
    "En conclusion, vous **devez** toujours utiliser les `ufunc` et plus jamais les `for-python`\n",
    "    \n",
    "* même si ça vous paraît plus difficile\n",
    "* même si vous utilisiez des `for-python` en prépa\n",
    "* par souci de la **performance en temps**, vous ne pouvez plus y échapper\n",
    "    \n",
    "    \n",
    "    \n",
    "* c'est juste une autre manière de penser le code  \n",
    "* vos codes seront compacts et lisibles (élégants)"
   ]
  },
  {
   "cell_type": "markdown",
   "id": "8cc97af6",
   "metadata": {},
   "source": [
    "***"
   ]
  },
  {
   "cell_type": "markdown",
   "id": "4062e851",
   "metadata": {
    "tags": [
     "framed_cell"
    ]
   },
   "source": [
    "### quelles sont les fonctions vectorisées ?\n",
    "\n",
    "<br>\n",
    "    \n",
    "**les opérateurs arithmétiques classiques**  \n",
    "et leur contre-partie `numpy` (*Ufuncs*)\n",
    "\n",
    "\n",
    "| opérateur | `numpy` fonction    |\n",
    "|----------|-------------------|\n",
    "|   $+$    | `np.add` |\n",
    "|   $-$    | `np.substract`|\n",
    "|   $*$    | `np.multiply` |\n",
    "|   $/$    | `np.divide` |\n",
    "|   $//$   | `np.floor_divide` |\n",
    "|   $\\%$   | `np.mod` |\n",
    "|   $**$   | `np.power` |\n",
    "\n",
    "<br>\n",
    "    \n",
    "**les fonctions de comparaison, trigonométriques...**\n",
    "\n",
    "| fonction         | `numpy` fonction    |\n",
    "|------------------|-------------------|\n",
    "| comparaison       | `np.greater`, `np.less`, `np.equal`, ...|\n",
    "|   valeur absolue       | `np.absolute` or `np.abs` |\n",
    "|   trigonometrie   | `np.sin`, `np.cos`, ... |\n",
    "|   exponentielle | `np.exp`, `np.exp2`, .. |\n",
    "|   logarithme      | `np.log`, `np.log2`, `np.log10` |\n",
    "\n",
    "<br>\n",
    "\n",
    "vous allez les utiliser sans même vous en rendre compte !\n",
    "    \n",
    "\n",
    "</div>"
   ]
  },
  {
   "cell_type": "markdown",
   "id": "6657270e",
   "metadata": {},
   "source": [
    "***"
   ]
  },
  {
   "cell_type": "markdown",
   "id": "f03cd2b7",
   "metadata": {
    "tags": [
     "framed_cell"
    ]
   },
   "source": [
    "### savoir si une fonction est une `ufunc`\n",
    "\n",
    "<br>\n",
    "    \n",
    " demandez-le lui\n",
    "\n",
    "```python\n",
    "np.add\n",
    "<ufunc 'add'>\n",
    "```\n",
    "    \n",
    "`numpy.add` en est !"
   ]
  },
  {
   "cell_type": "code",
   "execution_count": null,
   "id": "093b104b",
   "metadata": {},
   "outputs": [],
   "source": [
    "# essayez !\n",
    "np.power"
   ]
  },
  {
   "cell_type": "markdown",
   "id": "7b71736d",
   "metadata": {},
   "source": [
    "## pour vectoriser une fonction"
   ]
  },
  {
   "cell_type": "markdown",
   "id": "b87c2901",
   "metadata": {},
   "source": [
    "**exercice**\n",
    "\n",
    "1. sans utiliser ni `numpy` ni `abs` de Python  \n",
    "   écrivez la fonction qui calcule la valeur absolue d'un scalaire x  \n",
    "   `absolute(x)`\n",
    "   \n",
    "   \n",
    "   \n",
    "2. testez votre fonction sur des scalaires\n",
    "\n",
    "\n",
    "\n",
    "3. créez un `np.ndarray` de scalaires et appliquez-lui la fonction\n",
    "\n",
    "\n",
    "4. que se passe-t-il ?(2)\n",
    "\n",
    "(2) une `ValueError`"
   ]
  },
  {
   "cell_type": "code",
   "execution_count": null,
   "id": "e35ea1d4",
   "metadata": {},
   "outputs": [],
   "source": [
    "# votre code ici"
   ]
  },
  {
   "cell_type": "markdown",
   "id": "7e3e2a87",
   "metadata": {
    "tags": [
     "framed_cell"
    ]
   },
   "source": [
    "### problème de la fonction `absolute`\n",
    "\n",
    "<br>\n",
    "<br>\n",
    "   \n",
    "```python    \n",
    "----> if x >= 0:\n",
    "ValueError: The truth value of an array with more than one element is ambiguous. Use a.any() or a.all()\n",
    "```\n",
    "    \n",
    "<br>\n",
    "    \n",
    "supposons que votre code soit:\n",
    "    \n",
    "```python\n",
    "def absolute (x):\n",
    "    if x >= 0:\n",
    "        return x\n",
    "    return -x\n",
    "    \n",
    "tab = np.array([10, -30, 56.5])\n",
    "absolute(tab)\n",
    "```\n",
    "    \n",
    "<br>\n",
    "    \n",
    "l'expression `x >= 0` appliquée à `tab` rend le tableau `array([False, True, False])`\n",
    "\n",
    "<br>\n",
    "\n",
    "`if` appliqué au tableau de booléens `[False, True, False]` ne sait pas quoi faire   \n",
    "alors il propose des solutions\n",
    "* `if` est-il vrai quand tous les éléments sont vrais ? `np.all(x)`\n",
    "* `if` est-il vrai quand au moins un élément du tableau est vrai ? `np.any(x)`\n",
    "   \n",
    "<br>\n",
    "    \n",
    "... mais vous ne voulez rien de tout cela  \n",
    "* vous voulez que `numpy` applique le `if` à-chaque-élément\n",
    "* i.e. que la fonction s'exécute de manière vectorisée\n",
    "\n",
    "<br>\n",
    "    \n",
    "la **solution**\n",
    "* demander à  `numpy` de **vectoriser** la fonction avec `np.vectorize`\n",
    "* il considérera l'argument comme un tableau\n",
    "* sur lequel les fonctions seront appelées de manière vectorisée\n",
    "\n",
    "<br>\n",
    "    \n",
    "```python\n",
    "absolute_vect = np.vectorize(absolute)\n",
    "absolute_vect(tab)\n",
    "-> array([10. , 30. , 56.5])    \n",
    "```\n",
    "</div>"
   ]
  },
  {
   "cell_type": "code",
   "execution_count": null,
   "id": "a06c5831",
   "metadata": {},
   "outputs": [],
   "source": [
    "# le code\n",
    "absolute_vect = np.vectorize(absolute)"
   ]
  },
  {
   "cell_type": "code",
   "execution_count": null,
   "id": "0e81dcb9",
   "metadata": {},
   "outputs": [],
   "source": [
    "# le code\n",
    "absolute_vect(tab)"
   ]
  },
  {
   "cell_type": "markdown",
   "id": "3518708e",
   "metadata": {},
   "source": [
    "elle fonctionne aussi sur une `list` `python`"
   ]
  },
  {
   "cell_type": "code",
   "execution_count": null,
   "id": "ee07fae1",
   "metadata": {},
   "outputs": [],
   "source": [
    "absolute_vect([-10, -20, 30])"
   ]
  },
  {
   "cell_type": "markdown",
   "id": "6fc0746d",
   "metadata": {},
   "source": [
    "**exercice**\n",
    "\n",
    "1. la fonction `numpy.abs` est-elle une `ufunc` ?\n",
    "\n",
    "2. la fonction `abs` de Python est-elle une `ufunc` ?"
   ]
  },
  {
   "cell_type": "markdown",
   "id": "f5b2d40e",
   "metadata": {
    "tags": [
     "level_intermediate"
    ]
   },
   "source": [
    "## pour les avancés ou les rapides"
   ]
  },
  {
   "cell_type": "markdown",
   "id": "012a338c",
   "metadata": {
    "tags": [
     "framed_cell"
    ]
   },
   "source": [
    "### résultats intermédiaires lors de calculs\n",
    "\n",
    "<br>\n",
    "    \n",
    "nous appliquons des opérations vectorisées les unes à la suite des autres à des tableaux...\n",
    "    \n",
    "<br>\n",
    "    \n",
    "des **espaces mémoire intermédiaires** sont créés pour recevoir les résultats des calculs   \n",
    "par exemple la fonction trigonométrique $4(e^{cos(x)})^2$\n",
    "    \n",
    "```python\n",
    "def trigo (x):\n",
    "    return 4*np.exp(np.cos(x))**2\n",
    "```\n",
    "<br>\n",
    "\n",
    "de combien de tableaux intermédiaires avons-nous besoin dans ce calcul ?  \n",
    "(un par calcul unitaire)\n",
    "    \n",
    "<br>\n",
    "    \n",
    "on développe le code pour montrer les tableaux intermédiaires\n",
    "    \n",
    "```python\n",
    "def trigo_function_developpee (x):\n",
    "    int_1 = np.cos(x)\n",
    "    int_2 = np.exp(int_1)\n",
    "    int_3 = np.power(int_2, 2)   # idem **\n",
    "    return np.multiply(4, int_3) # idem *\n",
    "```\n",
    "\n",
    "<br>\n",
    "    \n",
    "ici trois tableaux intermédiaires créés (`3 * x.nbytes` octets) perdus\n",
    "    \n",
    "<br>\n",
    "    \n",
    "le calcul vectoriel crée de nombreux tableaux intermédiaires  \n",
    "qui peuvent coûter très **cher en mémoire**"
   ]
  },
  {
   "cell_type": "markdown",
   "id": "5f1f0bf7",
   "metadata": {},
   "source": [
    "***"
   ]
  },
  {
   "cell_type": "markdown",
   "id": "e99e6873",
   "metadata": {
    "tags": [
     "framed_cell"
    ]
   },
   "source": [
    "### une solution aux tableaux intermédiaires\n",
    "\n",
    "<br>\n",
    "<br>\n",
    "    \n",
    "```python\n",
    "def trigo (x):\n",
    "    return 4*np.exp(np.cos(x))**2\n",
    "```\n",
    "    \n",
    "<br>\n",
    "    \n",
    "code montrant les tableaux intermédiaires\n",
    "    \n",
    "```python\n",
    "def trigo_function_developpee (x):\n",
    "    int_1 = np.cos(x)\n",
    "    int_2 = np.exp(int_1)\n",
    "    int_3 = np.power(int_2, 2)\n",
    "    return np.multiply(4, int_3)\n",
    "```\n",
    "\n",
    "<br>\n",
    "     \n",
    "la **solution** ?   \n",
    "\n",
    "* utiliser le paramètre optionnel `out=` des opérateurs `numpy`  \n",
    "avec `out` on spécifie le tableau où ranger le résultat\n",
    "    \n",
    "<br>\n",
    "    \n",
    "```python\n",
    "def trigo_function_developpee_out (x):\n",
    "    result = np.cos(x)        # un pour le résultat\n",
    "    np.exp(result, out=result)\n",
    "    np.power(result, 2, out=result)\n",
    "    np.multiply(4, result, out=result)\n",
    "    return result\n",
    "```\n",
    " \n",
    "<br>\n",
    "    \n",
    "**mais** ce code est\n",
    "* beaucoup plus compliqué à écrire que dans sa version compacte, simple et *directe*\n",
    "* il sera donc plus propice à des erreurs\n",
    "* il est franchement très difficile à lire !\n",
    "\n",
    "<br>\n",
    "\n",
    "**en conclusion** ne faites surtout pas cela systématiquement\n",
    "* vous savez que ça existe\n",
    "* vous y penserez le jour où la création de tableaux intermédiaires prendra une place bien trop importante\n",
    "    \n",
    "</div>"
   ]
  },
  {
   "cell_type": "markdown",
   "id": "d6d8cbb4",
   "metadata": {},
   "source": [
    "le code ci-dessous"
   ]
  },
  {
   "cell_type": "code",
   "execution_count": null,
   "id": "230af49f",
   "metadata": {},
   "outputs": [],
   "source": [
    "def trigo_function_compact (x):\n",
    "    return 4*np.exp(np.cos(x))**2"
   ]
  },
  {
   "cell_type": "code",
   "execution_count": null,
   "id": "f74e2c88",
   "metadata": {},
   "outputs": [],
   "source": [
    "plt.plot(trigo_function_compact(np.linspace(0, 2*np.pi, 1000)));"
   ]
  },
  {
   "cell_type": "code",
   "execution_count": null,
   "id": "c912d2a3",
   "metadata": {},
   "outputs": [],
   "source": [
    "def trigo_function_developpee (x):\n",
    "    int_1 = np.cos(x)\n",
    "    int_2 = np.exp(int_1)\n",
    "    int_3 = np.power(int_2, 2)\n",
    "    result = 4*int_3\n",
    "    return result"
   ]
  },
  {
   "cell_type": "code",
   "execution_count": null,
   "id": "f58ea8e5",
   "metadata": {},
   "outputs": [],
   "source": [
    "def trigo_function_developpee_out (x):\n",
    "    result = np.cos(x)      # il m'en faut bien un pour le résultat !\n",
    "    np.exp(result, out=result)\n",
    "    np.power(result, 2, out=result)\n",
    "    np.multiply(4, result, out=result)\n",
    "    return result"
   ]
  },
  {
   "cell_type": "code",
   "execution_count": null,
   "id": "59d54545",
   "metadata": {},
   "outputs": [],
   "source": [
    "plt.plot(trigo_function_developpee_out(np.linspace(0, 2*np.pi, 1000)));"
   ]
  },
  {
   "cell_type": "markdown",
   "id": "c3e50a2f",
   "metadata": {},
   "source": [
    "### temps d'exécution de l'élévation d'un tableau au carré - avancé ou rapide"
   ]
  },
  {
   "cell_type": "markdown",
   "id": "e1fb8d59",
   "metadata": {
    "lines_to_next_cell": 2
   },
   "source": [
    "**exercice**\n",
    "\n",
    "1. créez un tableau `numpy` des 10000 premiers entiers  \n",
    "avec `numpy.arange`\n",
    "\n",
    "\n",
    "2. calculez le temps d'exécution de l'élévation au carré des éléments  \n",
    "`%timeit 1+1`\n",
    "\n",
    "* avec un for-python\n",
    "\n",
    "* avec une compréhension Python\n",
    "   \n",
    "* de manière vectorisée avec `**2`\n",
    "\n",
    "* de manière vectorisée avec `np.power`\n",
    "\n",
    "* de manière vectorisée avec `np.square`\n",
    "   \n",
    "   \n",
    "3. quelles sont les manières de faire les plus rapides ?"
   ]
  }
 ],
 "metadata": {
  "jupytext": {
   "cell_metadata_filter": "all,-hidden,-heading_collapsed,-run_control,-trusted",
   "encoding": "# -*- coding: utf-8 -*-",
   "notebook_metadata_filter": "all, -jupytext.text_representation.jupytext_version, -jupytext.text_representation.format_version, -language_info.version, -language_info.codemirror_mode.version, -language_info.codemirror_mode, -language_info.file_extension, -language_info.mimetype, -toc"
  },
  "kernelspec": {
   "display_name": "Python 3",
   "language": "python",
   "name": "python3"
  },
  "language_info": {
   "name": "python",
   "nbconvert_exporter": "python",
   "pygments_lexer": "ipython3"
  },
  "notebookname": "programmation vectorielle"
 },
 "nbformat": 4,
 "nbformat_minor": 5
}
