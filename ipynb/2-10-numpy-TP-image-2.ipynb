{
 "cells": [
  {
   "cell_type": "markdown",
   "id": "5a3ede01",
   "metadata": {},
   "source": [
    "<div class=\"licence\">\n",
    "<span>Licence CC BY-NC-ND</span>\n",
    "<span>UE12</span>\n",
    "<span><img src=\"media/ensmp-25-alpha.png\" /></span>\n",
    "</div>"
   ]
  },
  {
   "cell_type": "code",
   "execution_count": null,
   "id": "1be4ed2c",
   "metadata": {},
   "outputs": [],
   "source": [
    "from IPython.display import HTML\n",
    "HTML('<link rel=\"stylesheet\" href=\"slides-notebook.css\" />')"
   ]
  },
  {
   "cell_type": "markdown",
   "id": "239853db",
   "metadata": {},
   "source": [
    "# python-numérique - suite du TP simple avec des images\n",
    "\n",
    "merci à Wikipedia et à stackoverflow\n",
    "\n",
    "**le but de ce TP n'est pas d'apprendre le traitement d'image  \n",
    "on se sert d'images pour égayer des exercices avec `numpy`  \n",
    "(et parce que quand on se trompe ça se voit)**"
   ]
  },
  {
   "cell_type": "code",
   "execution_count": null,
   "id": "4af99e20",
   "metadata": {},
   "outputs": [],
   "source": [
    "import numpy as np\n",
    "from matplotlib import pyplot as plt"
   ]
  },
  {
   "cell_type": "markdown",
   "id": "a65fc2af",
   "metadata": {},
   "source": [
    "**notions intervenant dans ce TP**\n",
    "\n",
    "sur les tableaux `numpy.ndarray`\n",
    "* `reshape()`, tests, masques booléens, *ufunc*, agrégation, opérations linéaires sur les `numpy.ndarray`\n",
    "* les autres notions utilisées sont rappelées (très succinctement)\n",
    "\n",
    "pour la lecture, l'écriture et l'affichage d'images\n",
    "* utilisez `plt.imread`, `plt.imshow`\n",
    "* utilisez `plt.show()` entre deux `plt.imshow()` dans la même cellule\n",
    "\n",
    "**note**\n",
    "\n",
    "* nous utilisons les fonctions de base sur les images de `pyplot` par souci de simplicité\n",
    "* nous ne signifions pas là du tout que ce sont les meilleures  \n",
    "par exemple `matplotlib.pyplot.imsave` ne vous permet pas de donner la qualité de la compression  \n",
    "alors que la fonction `save` de `PIL` le permet\n",
    "* vous êtes libres d'utiliser une autre librairie comme `opencv`  \n",
    "  si vous la connaissez assez pour vous débrouiller (et l'installer), les images ne sont qu'un prétexte\n",
    "\n",
    "**n'oubliez pas d'utiliser le help en cas de problème.**"
   ]
  },
  {
   "cell_type": "markdown",
   "id": "5bd6bede",
   "metadata": {},
   "source": [
    "## Lecture des codes RGB de couleurs d'un fichier"
   ]
  },
  {
   "cell_type": "markdown",
   "id": "09558cbe",
   "metadata": {},
   "source": [
    "1. Le fichier `rgb-codes.txt` contient une table de couleurs:\n",
    "```\n",
    "AliceBlue 240 248 255\n",
    "AntiqueWhite 250 235 215\n",
    "Aqua 0 255 255\n",
    ".../...\n",
    "YellowGreen 154 205 50\n",
    "```\n",
    "Le nom de la couleur est suivi des 3 valeurs de ses codes `R`, `G` et `B`  \n",
    "Lisez cette table en `Python` et rangez-la dans la structure qui vous semble adéquate.\n",
    "<br>\n",
    "\n",
    "1. Affichez, à partir de votre structure, les valeurs rgb entières des couleurs suivantes  \n",
    "`'Red'`, `'Lime'`, `'Blue'`\n",
    "<br>\n",
    "\n",
    "1. Faites une fonction `patchwork` qui  \n",
    "   * prend une liste de couleurs et la structure donnant le code des couleurs RGB\n",
    "   * et retourne un tableau `numpy` avec un patchwork de ces couleurs  \n",
    "   * (pas trop petits les patchs - on doit voir clairement les taches de couleurs  \n",
    "   si besoin de compléter l'image mettez du noir rayé de blanc)\n",
    "<br>\n",
    "<br>   \n",
    "1. Tirez aléatoirement une liste de couleurs et appliquez votre fonction à ces couleurs.\n",
    "<br>\n",
    "\n",
    "1. Sélectionnez toutes les couleurs à base de blanc et affichez leur patchwork  \n",
    "même chose pour des jaunes  \n",
    "<br>\n",
    "\n",
    "1. Appliquez la fonction à toutes les couleurs du fichier  \n",
    "et sauver ce patchwork dans le fichier `patchwork.jpg` avec `plt.imsave`\n",
    "<br>\n",
    "\n",
    "1. Relisez et Affichez votre fichier  \n",
    "   attention si votre image vous semble floue c'est juste que l'affichage grossit vos pixels"
   ]
  },
  {
   "cell_type": "code",
   "execution_count": null,
   "id": "9c952046",
   "metadata": {},
   "outputs": [],
   "source": [
    "# votre code"
   ]
  },
  {
   "cell_type": "markdown",
   "id": "f91123b8",
   "metadata": {},
   "source": [
    "## Somme des valeurs RGB d'une image"
   ]
  },
  {
   "cell_type": "markdown",
   "id": "f9c688df",
   "metadata": {},
   "source": [
    "0. Lisez l'image `les-mines.jpg`\n",
    "\n",
    "1. Créez un nouveau tableau `numpy.ndarray` en sommant avec l'opérateur `+` les valeurs RGB des pixels de votre image  \n",
    "\n",
    "2. Affichez l'image (pas terrible), son maximum et son type\n",
    "\n",
    "3. Créez un nouveau tableau `numpy.ndarray` en sommant avec la fonction d'agrégation `np.sum` les valeurs RGB des pixels de votre image\n",
    "\n",
    "4. Affichez l'image\n",
    "\n",
    "5. Pourquoi cette différence ? Utilisez le help `np.sum?`\n",
    "\n",
    "6. Passez l'image en niveaux de gris de type en entiers non-signés 8 bits  \n",
    "(de la manière que vous préférez)\n",
    "\n",
    "7. Affichez l'image en niveaux de gris avec une table des couleurs comme Purples\n",
    "\n",
    "8. Remplacez dans l'image en niveaux de gris,   \n",
    "les valeurs >= à 127 par 255 et celles inférieures par 0  \n",
    "Affichez l'image avec une carte des couleurs des niveaux de gris  \n",
    "vous pouvez utilisez la fonction `numpy.where`\n",
    "\n",
    "9. avec la fonction `numpy.unique`  \n",
    "regardez les valeurs différentes que vous avez dans votre image en noir et blanc"
   ]
  },
  {
   "cell_type": "code",
   "execution_count": null,
   "id": "68a295ba",
   "metadata": {},
   "outputs": [],
   "source": [
    "# votre code"
   ]
  },
  {
   "cell_type": "markdown",
   "id": "2bcbfb14",
   "metadata": {},
   "source": [
    "## Image en sépia"
   ]
  },
  {
   "cell_type": "markdown",
   "id": "e0a3d53e",
   "metadata": {},
   "source": [
    "Pour passer en sépia les valeurs R, G et B d'un pixel (dont encodées sur un entier non-signé 8 bits)  \n",
    "\n",
    "1. on convertit ces valeurs par cette transformation  \n",
    "$x_R = 0.393\\, R + 0.769\\, G + 0.189\\, B$  \n",
    "$x_G = 0.349\\, R + 0.686\\, G + 0.168\\, B$  \n",
    "$x_B = 0.272\\, R + 0.534\\, G + 0.131\\, B$  \n",
    "avec des $x_R$, $x_G$ et $x_B$ de type flottants  \n",
    "1. on convertit les valeurs $x_R$, $x_G$ et $x_B$ en `int`  \n",
    "pas `uint8` pour ne pas avoir d'overflow (genre de 256 devenant 0)  \n",
    "1. puis on seuille les valeurs qui sont plus grandes que `255` à `255` "
   ]
  },
  {
   "cell_type": "markdown",
   "id": "7603e155",
   "metadata": {},
   "source": [
    "**Exercice**\n",
    "\n",
    "En utilisant la fonction `numpy.dot` et autres fonctions `numpy` de base sans aucune boucle  `for`\n",
    "1. Faites une fonction qui prend en argument une image RGB et rend une image RGB sépia  \n",
    "(vous pouvez généralisez votre fonction à toute transformation linéaire de RGB)  \n",
    "1. Passez votre patchwork de couleurs en sépia  \n",
    "Lisez le fichier `patchwork-all.jpg` si vous n'avez pas de fichier perso\n",
    "2. Passez l'image `les-mines.jpg` en sépia\n",
    "4. en option - Faites en sorte que votre fonction sepia puisse prendre un RGB-A  \n",
    "   (la transformation en sépia doit simplement conserver la même transparence)"
   ]
  },
  {
   "cell_type": "code",
   "execution_count": null,
   "id": "9707e14f",
   "metadata": {},
   "outputs": [],
   "source": [
    "# votre code"
   ]
  },
  {
   "cell_type": "markdown",
   "id": "e6d89ffc",
   "metadata": {},
   "source": [
    "## Exemple de qualité de compression"
   ]
  },
  {
   "cell_type": "markdown",
   "id": "e08fe0c2",
   "metadata": {},
   "source": [
    "1. Importez la librairie `Image`de `PIL` (pillow) \n",
    "(vous devez peut être installer PIL (pillow) dans votre environnement)\n",
    "\n",
    "2. Lisez le fichier 'les-mines.jpg' avec `Image.open` et avec `plt.imread`  \n",
    "\n",
    "3. Vérifiez que les valeurs contenues dans les deux objets sont proches\n",
    "\n",
    "4. Sauvez (toujours avec de nouveaux noms de fichiers)  \n",
    "l'image lue par `imread` avec `plt.imsave` et celle lue par `Image.open` avec `save`  \n",
    "(`save` s'applique à l'objet créé par `Image.open`)\n",
    "\n",
    "5. Quelles sont les tailles de ces deux fichiers sur votre disque ?  \n",
    "Que constatez-vous ?\n",
    "\n",
    "6. Relisez les deux fichiers créés et affichez avec `plt.imshow` leur différence  "
   ]
  },
  {
   "cell_type": "code",
   "execution_count": null,
   "id": "ae825f29",
   "metadata": {
    "lines_to_next_cell": 2
   },
   "outputs": [],
   "source": [
    "# votre code"
   ]
  }
 ],
 "metadata": {
  "jupytext": {
   "cell_metadata_filter": "all,-hidden,-heading_collapsed,-run_control,-trusted",
   "cell_metadata_json": true,
   "encoding": "# -*- coding: utf-8 -*-",
   "notebook_metadata_filter": "all, -jupytext.text_representation.jupytext_version, -jupytext.text_representation.format_version, -language_info.version, -language_info.codemirror_mode.version, -language_info.codemirror_mode, -language_info.file_extension, -language_info.mimetype, -toc"
  },
  "kernelspec": {
   "display_name": "Python 3",
   "language": "python",
   "name": "python3"
  },
  "language_info": {
   "name": "python",
   "nbconvert_exporter": "python",
   "pygments_lexer": "ipython3"
  },
  "notebookname": "indexation & slicing"
 },
 "nbformat": 4,
 "nbformat_minor": 5
}
