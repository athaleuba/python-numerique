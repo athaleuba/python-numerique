{
 "cells": [
  {
   "cell_type": "markdown",
   "id": "f737a1b0",
   "metadata": {},
   "source": [
    "<div class=\"licence\">\n",
    "<span>Licence CC BY-NC-ND</span>\n",
    "<span>UE12</span>\n",
    "<span><img src=\"media/ensmp-25-alpha.png\" /></span>\n",
    "</div>"
   ]
  },
  {
   "cell_type": "code",
   "execution_count": null,
   "id": "19d69106",
   "metadata": {},
   "outputs": [],
   "source": [
    "from IPython.display import HTML\n",
    "HTML('<link rel=\"stylesheet\" href=\"slides-notebook.css\" />')"
   ]
  },
  {
   "cell_type": "code",
   "execution_count": null,
   "id": "9120a10c",
   "metadata": {},
   "outputs": [],
   "source": [
    "import numpy as np"
   ]
  },
  {
   "cell_type": "markdown",
   "id": "72dd5fc7",
   "metadata": {},
   "source": [
    "# python-numérique - algèbre linéaire"
   ]
  },
  {
   "cell_type": "markdown",
   "id": "7e324db9",
   "metadata": {},
   "source": [
    "## contenu de ce notebook (notebook à sauter)\n",
    "\n",
    "<br>\n",
    "\n",
    "**IMPORTANT**  \n",
    "ce notebook est utile aux enseignements de mathématiques  \n",
    "**sachez qu'il existe** pour vous y référer  \n",
    "**sans l'étudier** en cours d'informatique\n",
    "\n",
    "<br>\n",
    "\n",
    "**liste des fonctions présentées** (succinctement)\n",
    "\n",
    "    \n",
    "| fonctions           |   comportement |\n",
    "|-----------------|--------|\n",
    "| `np.dot` | produit de matrice |\n",
    "| `np.linalg.norm` | normes de matrice |\n",
    "| `np.transpose` | transposition de matrice |\n",
    "| `np.linalg.det` | déterminant |\n",
    "| `np.linalg.inv` | inversion |\n",
    "| `np.linalg.eig` | valeurs propres |\n",
    "| `np.linalg.solve` | résolution de système linéaire |\n",
    "| `np.eye`       |matrice identité  |\n",
    "| `np.diag`      | matrice diagonale|\n",
    "    \n",
    "</div>"
   ]
  },
  {
   "cell_type": "markdown",
   "id": "5103c570",
   "metadata": {
    "tags": [
     "framed_cell"
    ]
   },
   "source": [
    "##  introduction et contexte\n",
    "<br>\n",
    "\n",
    "les fonctions d'algèbre linéaire `numpy.linalg` sont très efficaces, parce que\n",
    "1. fondées sur des algorithmes efficaces \n",
    "1. codées dans des langages *bas niveau* très proches de la mémoire donc rapides\n",
    "1. implémentations qui tirent parti du *multithreading*  \n",
    "(découpage d'un programme en sous-programmes s'exécutant *en même temps*)\n",
    "    \n",
    "<br>\n",
    "    \n",
    "\n",
    "pour les différences entre les fonctions de `numpy` et de `scipy`  \n",
    "lire les documentations  https://docs.scipy.org/doc/numpy/reference/routines.linalg.html\n",
    "    \n",
    "<br>\n",
    "     \n",
    "nous avons vu précédemment des opérations élément-par-élément comme `numpy.mult`(`*`)  \n",
    "nous allons voir rapidement, les fonctions dédiées à l'algèbre linéaire\n",
    "\n",
    "<br>\n",
    "   \n",
    "la librarie `numpy` est utilisée dans vos cours de mathématiques  \n",
    "pour les manipulations de vecteurs et de matrices \n",
    "    \n",
    "<br>    \n",
    "\n",
    "aussi nous ne regardons que quelques fonctions de base en dimension < à 3\n",
    "                                                                       \n",
    "pour plus d'information, regardez la documentation\n",
    "\n",
    "https://numpy.org/doc/stable/reference/routines.linalg.html"
   ]
  },
  {
   "cell_type": "markdown",
   "id": "dc50f224",
   "metadata": {},
   "source": [
    "***"
   ]
  },
  {
   "cell_type": "markdown",
   "id": "ee9441dd",
   "metadata": {
    "tags": [
     "framed_cell"
    ]
   },
   "source": [
    "## terminologie\n",
    "\n",
    "<br>\n",
    "    \n",
    "on va se mettre d'accord sur les terminologies `matrice`, `vecteur` et `produit`\n",
    "\n",
    "<br>\n",
    "    \n",
    "attention au type des éléments\n",
    "* les `matrices` et les `vecteurs` seront des `numpy.ndarray`\n",
    "* les affectations peuvent entraîner des modifications de valeurs\n",
    "\n",
    "<br>\n",
    "    \n",
    "```python    \n",
    "A = np.array([[2, 3, -7], [6, -4, 5]])\n",
    "A.dtype # int64\n",
    "A[0] = np.pi\n",
    "A ->[[ 3,  3,  3], # A[0] vaudra 3 pas np.pi\n",
    "     [ 6, -4,  5]]\n",
    "```"
   ]
  },
  {
   "cell_type": "code",
   "execution_count": null,
   "id": "f74de7a8",
   "metadata": {},
   "outputs": [],
   "source": [
    "A = np.array([[2, 3, -7], [6, -4, 5]])\n",
    "print(A.dtype)\n",
    "A[0] = np.pi\n",
    "A"
   ]
  },
  {
   "cell_type": "markdown",
   "id": "a4c44133",
   "metadata": {
    "tags": [
     "framed_cell"
    ]
   },
   "source": [
    "## les matrices et vecteurs\n",
    "\n",
    "<br>\n",
    "    \n",
    "une **matrice** de $m$ lignes et $n$ colonnes\n",
    "* est un tableau `numpy.ndarray`\n",
    "* de dimension `2`  \n",
    "* de forme `(m, n)`\n",
    "    \n",
    "exemple\n",
    "    \n",
    "```python\n",
    "m, n = 4, 3\n",
    "A = np.arange(12).reshape(m, n)\n",
    "print(A)    \n",
    "print(A.ndim)   # 2\n",
    "print(A.shape)  # (4, 3)\n",
    "```    \n",
    "les objets de forme `(1, n)` et `(m, 1)` sont des matrices \n",
    "    \n",
    "<br>\n",
    " \n",
    "----------------------------------\n",
    "    \n",
    "un **vecteur** de taille $n$\n",
    "* est un `np.ndarray`\n",
    "* de dimension `1`\n",
    "* de forme `(n,)`\n",
    "\n",
    "exemple\n",
    "\n",
    "```python\n",
    "V = np.array([1, -3, 8])\n",
    "print(V)\n",
    "print(V.ndim)\n",
    "print(V.shape)\n",
    "```"
   ]
  },
  {
   "cell_type": "code",
   "execution_count": null,
   "id": "7a29c7bb",
   "metadata": {},
   "outputs": [],
   "source": [
    "# le code\n",
    "m, n = 4, 3\n",
    "A = np.arange(12).reshape(m, n)\n",
    "print(A)    \n",
    "print(A.ndim)\n",
    "print(A.shape)"
   ]
  },
  {
   "cell_type": "code",
   "execution_count": null,
   "id": "eb7f3691",
   "metadata": {
    "scrolled": true
   },
   "outputs": [],
   "source": [
    "# le code\n",
    "V = np.array([1, -3, 8])\n",
    "print(V)\n",
    "print(V.ndim)\n",
    "print(V.shape)"
   ]
  },
  {
   "cell_type": "markdown",
   "id": "398dbf0f",
   "metadata": {
    "tags": [
     "framed_cell"
    ]
   },
   "source": [
    "## le produit d'une matrice et d'un vecteur `numpy.dot`\n",
    "\n",
    "<br>\n",
    "    \n",
    "$A\\cdot V$\n",
    "* `np.dot(A, V)`\n",
    "* ou aussi `A.dot(V)`\n",
    "    \n",
    "    \n",
    "<br>\n",
    "    \n",
    "matrice    \n",
    "```python\n",
    "m, m = 4, 3    \n",
    "A = np.arange(12).reshape(m, n)\n",
    "A -> [[ 0  1  2]\n",
    "      [ 3  4  5]\n",
    "      [ 6  7  8]\n",
    "      [ 9 10 11]]\n",
    "```\n",
    "   \n",
    "vecteur    \n",
    "```python\n",
    "V = np.arange(3).reshape(n)\n",
    "V -> [0 1 2]\n",
    "```\n",
    "    \n",
    "produit\n",
    "```python\n",
    "np.dot(A, V)\n",
    "-> [ 5 14 23 32]\n",
    "```\n",
    "\n",
    "ou encore\n",
    "```python\n",
    "A.dot(V)\n",
    "-> [ 5 14 23 32]    \n",
    "```"
   ]
  },
  {
   "cell_type": "code",
   "execution_count": null,
   "id": "b0c3b652",
   "metadata": {},
   "outputs": [],
   "source": [
    "m, n = 4, 3\n",
    "A = np.arange(12).reshape(m, n)\n",
    "print(A)\n",
    "V = np.arange(3).reshape(n)\n",
    "print(V)\n",
    "print(np.dot(A, V))\n",
    "print(A.dot(V))"
   ]
  },
  {
   "cell_type": "markdown",
   "id": "45578a9d",
   "metadata": {
    "tags": [
     "framed_cell"
    ]
   },
   "source": [
    "## le produit de deux matrices `numpy.dot`\n",
    "\n",
    "<br>\n",
    "    \n",
    "$A\\cdot B$\n",
    "* `np.dot(A, B)`\n",
    "* ou aussi `A.dot(B)`\n",
    "    \n",
    "    \n",
    "<br>\n",
    "    \n",
    "matrices `A` et `B`   \n",
    "```python\n",
    "A = np.arange(12).reshape(m, n)\n",
    "A -> [[ 0  1  2]\n",
    "      [ 3  4  5]\n",
    "      [ 6  7  8]\n",
    "      [ 9 10 11]]\n",
    "\n",
    "B = np.arange(10, 22).reshape(n, m)\n",
    "B -> [[10 11 12]\n",
    "      [13 14 15]\n",
    "      [16 17 18]\n",
    "      [19 20 21]]\n",
    "```\n",
    "   \n",
    "produit\n",
    "```python\n",
    "np.dot(A, B)\n",
    "-> [[102 108 114]\n",
    "    [334 356 378]\n",
    "    [566 604 642]\n",
    "```\n",
    "\n",
    "ou encore\n",
    "```python\n",
    "A.dot(B)\n",
    "-> [[102, 108, 114]\n",
    "    [334, 356, 378]\n",
    "    [566, 604, 642]]\n",
    "```\n",
    "    \n",
    "\n",
    "</div>"
   ]
  },
  {
   "cell_type": "code",
   "execution_count": null,
   "id": "d55f2915",
   "metadata": {},
   "outputs": [],
   "source": [
    "# le code\n",
    "m, n = 3, 4\n",
    "A = np.arange(12).reshape(m, n)\n",
    "print(A)\n",
    "B = np.arange(10, 22).reshape(n, m)\n",
    "print(B)\n",
    "np.dot(A, B)\n",
    "A.dot(B)"
   ]
  },
  {
   "cell_type": "markdown",
   "id": "6494aeb1",
   "metadata": {
    "tags": [
     "framed_cell"
    ]
   },
   "source": [
    "##  produit matriciel avec `@` et `numpy.matmul`\n",
    "\n",
    "<br>\n",
    " \n",
    "il existe une fonction `numpy.matmul`  \n",
    "qui s'écrit aussi sous la forme `@`\n",
    "    \n",
    "<br>\n",
    "    \n",
    "```python\n",
    "np.matmul(A, B)\n",
    "```\n",
    "    \n",
    "  \n",
    "```python\n",
    "A@B\n",
    "```\n",
    "<br>\n",
    "    \n",
    "`numpy.matmul` et `np.dot`\n",
    "* se ressemblent en dimension 2\n",
    "* la multiplication par un scalaire n'est  pas possible avec `numpy.matmul`\n",
    "* en dimensions supérieure à 2, leur comportement diffère complètement\n",
    "\n",
    "**préférer utiliser `numpy.dot`**"
   ]
  },
  {
   "cell_type": "code",
   "execution_count": null,
   "id": "a44961f5",
   "metadata": {},
   "outputs": [],
   "source": [
    "# le code\n",
    "np.matmul(A, B)\n",
    "A @ B"
   ]
  },
  {
   "cell_type": "markdown",
   "id": "4021ae0a",
   "metadata": {
    "tags": [
     "framed_cell"
    ]
   },
   "source": [
    "## le produit scalaire\n",
    "\n",
    "<br>\n",
    "\n",
    "`numpy.dot` appliquée à deux vecteurs donne leur  produit scalaire\n",
    "    \n",
    "```python\n",
    "V1 = np.array([1, -3, 8])\n",
    "V1.shape # (3,)\n",
    "V1 -> [ 1, -3,  8]\n",
    "```\n",
    "<br>\n",
    "     \n",
    "```python\n",
    "V2 = np.array([-6, 4, -7])\n",
    "V2.shape # (3,)\n",
    "V2 -> [-6 4 -7]\n",
    "```\n",
    "\n",
    "<br>\n",
    "\n",
    "```python\n",
    "np.dot(V1, V2)\n",
    "-> -74\n",
    "```\n",
    "\n",
    "     \n",
    "```python\n",
    "V1.dot(V2)\n",
    "```"
   ]
  },
  {
   "cell_type": "code",
   "execution_count": null,
   "id": "8126d528",
   "metadata": {},
   "outputs": [],
   "source": [
    "#le code\n",
    "V1 = np.array([1, -3, 8])\n",
    "V1.shape # (3,)\n",
    "V1"
   ]
  },
  {
   "cell_type": "code",
   "execution_count": null,
   "id": "946e663d",
   "metadata": {},
   "outputs": [],
   "source": [
    "#le code\n",
    "V2 = np.array([-6, 4, -7])\n",
    "V2.shape # (3,)\n",
    "V2"
   ]
  },
  {
   "cell_type": "code",
   "execution_count": null,
   "id": "dcdce33b",
   "metadata": {},
   "outputs": [],
   "source": [
    "#le code\n",
    "np.dot(V1, V2)"
   ]
  },
  {
   "cell_type": "markdown",
   "id": "5806f06a",
   "metadata": {
    "tags": [
     "framed_cell"
    ]
   },
   "source": [
    "## la norme de vecteur\n",
    "\n",
    "<br>\n",
    " prenons un vecteur $V =[v_1, ..., v_n]$ \n",
    "    \n",
    "la norme `np.linalg.norm(V)`  \n",
    "est la racine carré du produit scalaire du vecteur par lui-même  \n",
    "    \n",
    " $\\displaystyle \\left\\|{ {V}}\\right\\|_{2}={\\sqrt {v_{1}^{2}+\\cdots +v_{n}^{2}}}$\n",
    "    \n",
    "\n",
    "<br>\n",
    "\n",
    "un vecteur    \n",
    "```python\n",
    "V = np.array([1, -3, 8])\n",
    "```\n",
    "\n",
    "<br>\n",
    "\n",
    "la fonction idoine\n",
    "```python\n",
    "np.linalg.norm(V)\n",
    "-> 8.602325267042627\n",
    "```\n",
    "\n",
    "<br>\n",
    "    \n",
    "autre calcul\n",
    "```python\n",
    "np.sqrt(np.dot(V, V))\n",
    "-> 8.602325267042627\n",
    "```\n",
    "    \n",
    "<br>\n",
    "    \n",
    " \n",
    "autre calcul\n",
    "```python\n",
    "np.sqrt(np.sum(V*V))\n",
    "-> 8.602325267042627\n",
    "```   \n",
    "    \n",
    "<br>\n",
    "    \n",
    "pour les autres normes, regardez la documentation\n",
    "    \n",
    "https://numpy.org/doc/stable/reference/routines.linalg.html"
   ]
  },
  {
   "cell_type": "code",
   "execution_count": null,
   "id": "79ed3293",
   "metadata": {},
   "outputs": [],
   "source": [
    "# le code\n",
    "V = np.array([1, -3, 8])\n",
    "np.linalg.norm(V)\n",
    "np.sqrt(np.dot(V, V))\n",
    "np.sqrt(np.sum(V*V))"
   ]
  },
  {
   "cell_type": "markdown",
   "id": "f66fa774",
   "metadata": {
    "tags": [
     "framed_cell"
    ]
   },
   "source": [
    "## la transposée d'une matrice\n",
    "\n",
    "<br>\n",
    "\n",
    "fonction `numpy.transpose`  \n",
    "ou `.T` pour écrire des codes plus lisibles\n",
    "    \n",
    "<br>\n",
    "\n",
    "une matrice\n",
    "    \n",
    "```python\n",
    "A = np.arange(1, 13).reshape(4, 3)\n",
    "A -> [[ 1  2  3]\n",
    "      [ 4  5  6]\n",
    "      [ 7  8  9]\n",
    "      [10 11 12]]\n",
    "```\n",
    "\n",
    "<br>\n",
    "\n",
    "sa transposée\n",
    "    \n",
    "```python\n",
    "np.transpose(A)\n",
    "-> [[ 1,  4,  7, 10],\n",
    "    [ 2,  5,  8, 11],\n",
    "    [ 3,  6,  9, 12]])\n",
    "```\n",
    "<br>\n",
    "\n",
    "ou encore\n",
    "    \n",
    "```python\n",
    "A.T\n",
    "```"
   ]
  },
  {
   "cell_type": "code",
   "execution_count": null,
   "id": "2c2a351c",
   "metadata": {},
   "outputs": [],
   "source": [
    "# le code\n",
    "A = np.arange(1, 13).reshape(4, 3)\n",
    "print(A)\n",
    "print(np.transpose(A))\n",
    "print(A.T)"
   ]
  },
  {
   "cell_type": "markdown",
   "id": "827fb127",
   "metadata": {
    "tags": [
     "framed_cell"
    ]
   },
   "source": [
    "## les matrices identité\n",
    "\n",
    "<br>\n",
    "\n",
    "se construisent avec la fonction `numpy.eye`  \n",
    "(*eye* et *I* se prononcent pareil en anglais)\n",
    "    \n",
    "<br>\n",
    "    \n",
    "la fonction renvoie des matrices de type flottant\n",
    "    \n",
    "<br>\n",
    "\n",
    "```python\n",
    "I = np.eye(5)\n",
    "I.shape # (5, 5)\n",
    "I.dtype # 'float64'\n",
    "I ->  [[1., 0., 0., 0., 0.],\n",
    "       [0., 1., 0., 0., 0.],\n",
    "       [0., 0., 1., 0., 0.],\n",
    "       [0., 0., 0., 1., 0.],\n",
    "       [0., 0., 0., 0., 1.]]\n",
    "```"
   ]
  },
  {
   "cell_type": "code",
   "execution_count": null,
   "id": "83ef99f8",
   "metadata": {},
   "outputs": [],
   "source": [
    "# le code\n",
    "I = np.eye(5)\n",
    "print(I.shape)\n",
    "print(I.dtype)"
   ]
  },
  {
   "cell_type": "markdown",
   "id": "20098630",
   "metadata": {},
   "source": [
    "***"
   ]
  },
  {
   "cell_type": "markdown",
   "id": "9b04e32d",
   "metadata": {
    "tags": [
     "framed_cell"
    ]
   },
   "source": [
    "## le déterminant d'une matrice\n",
    "\n",
    "<br>\n",
    "    \n",
    "la fonction `numpy.linalg.det`  \n",
    "déclenche l'exception `np.linalg.LinAlgError` si la matrice n'est pas carrée\n",
    "<br>\n",
    "    \n",
    "une matrice carrée\n",
    "    \n",
    "```python\n",
    "A = 2*np.eye(3)\n",
    "A -> [[2., 0., 0.],\n",
    "      [0., 2., 0.],\n",
    "      [0., 0., 2.]]\n",
    "```\n",
    "<br>\n",
    "    \n",
    "son déterminant\n",
    "    \n",
    "```python\n",
    "np.linalg.det(A)\n",
    "->  7.999999999999998   \n",
    "```\n",
    "\n",
    "<br>\n",
    "    \n",
    "tentative de calcul du déterminant sur une matrice non-carrée\n",
    "```python\n",
    "B = np.array([[2, 3, 4], [5, 6, 7]])\n",
    "try:\n",
    "    np.linalg.det(B)\n",
    "except np.linalg.LinAlgError as e:\n",
    "    print(e)\n",
    "-> Last 2 dimensions of the array must be square\n",
    "```"
   ]
  },
  {
   "cell_type": "code",
   "execution_count": null,
   "id": "ccb0c77a",
   "metadata": {},
   "outputs": [],
   "source": [
    "# le code\n",
    "A = 2*np.eye(3)\n",
    "np.linalg.det(A)"
   ]
  },
  {
   "cell_type": "code",
   "execution_count": null,
   "id": "cac94474",
   "metadata": {},
   "outputs": [],
   "source": [
    "#le code\n",
    "B = np.array([[2, 3, 4], [5, 6, 7]])\n",
    "try:\n",
    "    np.linalg.det(B)\n",
    "except np.linalg.LinAlgError as e:\n",
    "    print(e)"
   ]
  },
  {
   "cell_type": "markdown",
   "id": "ac6d2cd6",
   "metadata": {
    "tags": [
     "framed_cell"
    ]
   },
   "source": [
    "## les matrices diagonales\n",
    "\n",
    "On peut créer une matrice diagonale à partir de la liste des éléments de sa diagonale\n",
    "\n",
    "<br>\n",
    " \n",
    "`numpy.diag`\n",
    "* sur une matrice, extrait le tableau des éléments de sa diagonale\n",
    "* sur une liste d'éléments, construit la matrice diagonale\n",
    "\n",
    "<br>    \n",
    "la matrice\n",
    "    \n",
    "```python\n",
    "A = np.random.randint(-100, 100, size=(3, 4))\n",
    "A ->  [[-11 -76  91 -97]\n",
    "       [ 65  68 -40  55]\n",
    "       [ 30  81 -45  28]]\n",
    "```\n",
    "sa diagonale\n",
    "    \n",
    "```python\n",
    "np.diag(A)\n",
    "-> [-11  68 -45]\n",
    "```\n",
    "\n",
    "<br>\n",
    "    \n",
    "un vecteur  \n",
    "possible avec une liste Python\n",
    "    \n",
    "```python\n",
    "l = np.array([9, -45, 6])\n",
    "```    \n",
    "<br>\n",
    "    \n",
    "la matrice diagonale\n",
    "    \n",
    "```python\n",
    "np.diag(l)\n",
    "-> [[  9,   0,   0],\n",
    "    [  0, -45,   0],\n",
    "    [  0,   0,   6]]\n",
    "```"
   ]
  },
  {
   "cell_type": "code",
   "execution_count": null,
   "id": "a299ebcf",
   "metadata": {},
   "outputs": [],
   "source": [
    "# le code\n",
    "A = np.random.randint(-100, 100, size=(3, 4))\n",
    "print(A)\n",
    "np.diag(A) "
   ]
  },
  {
   "cell_type": "code",
   "execution_count": null,
   "id": "7bb1690b",
   "metadata": {},
   "outputs": [],
   "source": [
    "# le code\n",
    "l = np.array([9, -45, 6])\n",
    "np.diag(l)"
   ]
  },
  {
   "cell_type": "markdown",
   "id": "c7570dd2",
   "metadata": {
    "tags": [
     "framed_cell"
    ]
   },
   "source": [
    "## la trace d'une matrice\n",
    "\n",
    "<br>\n",
    "\n",
    "`numpy.trace` fait la somme des éléments de la diagonale de la matrice\n",
    "\n",
    "<br>\n",
    "    \n",
    "la matrice `A`\n",
    "    \n",
    "```python\n",
    "A = np.arange(9).reshape(3, 3)\n",
    "A -> [[0, 1, 2],\n",
    "      [3, 4, 5],\n",
    "      [6, 7, 8]]\n",
    "```\n",
    "\n",
    "<br>\n",
    "    \n",
    "la trace de `A`\n",
    "    \n",
    "```python    \n",
    "np.trace(A)\n",
    "-> 12\n",
    "```\n",
    "    \n",
    "<br>\n",
    "    \n",
    "la trace de `A`\n",
    "    \n",
    "```python    \n",
    "np.sum(np.diag(A))\n",
    "-> 12\n",
    "```\n",
    "    \n",
    "</div>"
   ]
  },
  {
   "cell_type": "code",
   "execution_count": null,
   "id": "a431dbd2",
   "metadata": {},
   "outputs": [],
   "source": [
    "# le code\n",
    "A = np.arange(9).reshape(3, 3)\n",
    "print(A)\n",
    "print(np.trace(A))\n",
    "print(np.sum(np.diag(A)))"
   ]
  },
  {
   "cell_type": "markdown",
   "id": "f99c73d8",
   "metadata": {
    "tags": [
     "framed_cell"
    ]
   },
   "source": [
    "## l'inversion d'une matrice\n",
    "\n",
    "<br>\n",
    "\n",
    "`numpy.linalg.inv(A)` est le calcul de $A^{-1}$\n",
    "    \n",
    "<br>\n",
    "une matrice\n",
    "    \n",
    "```python\n",
    "R = np.array([[0, 1, 0], [0, 0, 1], [1, 0, 0]], dtype=np.float)\n",
    "R -> [[0., 1., 0.],\n",
    "      [0., 0., 1.],\n",
    "      [1., 0., 0.]]\n",
    "```\n",
    "    \n",
    "<br>\n",
    "    \n",
    "son inverse   \n",
    "```python\n",
    "np.linalg.inv(R)\n",
    "-> [[0., 0., 1.],\n",
    "    [1., 0., 0.],\n",
    "    [0., 1., 0.]]   \n",
    "```\n",
    "\n",
    "<br>\n",
    "\n",
    "testons si cela fonctionne comme attendu $A^{-1}A = I$\n",
    "   \n",
    "```python\n",
    "np.all(np.dot(R, IR) == np.eye(3))\n",
    "-> True\n",
    "```\n",
    "\n",
    "    \n",
    "<br>\n",
    "    \n",
    "cet exemple est correct mais ce n'est pas toujours le cas  \n",
    "puisque les calculs informatiques sont approchés   \n",
    "(un exemple dans la slide suivante)"
   ]
  },
  {
   "cell_type": "code",
   "execution_count": null,
   "id": "5373bb04",
   "metadata": {
    "cell_style": "center"
   },
   "outputs": [],
   "source": [
    "# le code\n",
    "R = np.array([[0, 1, 0], [0, 0, 1], [1, 0, 0]], dtype=np.float)\n",
    "print(R)\n",
    "IR = np.linalg.inv(R)\n",
    "print(IR)\n",
    "print(np.all(np.dot(R, IR) == np.eye(3)))"
   ]
  },
  {
   "cell_type": "markdown",
   "id": "27f02c91",
   "metadata": {
    "tags": [
     "framed_cell"
    ]
   },
   "source": [
    "## calculs approchés (avec tolérance)\n",
    "\n",
    "<br>\n",
    "    \n",
    "    \n",
    "testons $A^{-1}A = I$ sur une matrice quelconque de floats  \n",
    "générés aléatoirement\n",
    "    \n",
    "   \n",
    "```python\n",
    "A = np.random.random(size=(3, 3))\n",
    "I = np.eye(len(A))      # matrice identité\n",
    "A_1 = np.linalg.inv(A)\n",
    "np.all(I == np.dot(A_1, A))\n",
    "-> False\n",
    "```    \n",
    "\n",
    "<br>\n",
    "    \n",
    "dans ce cas  $A^{-1}A \\neq I$\n",
    "    \n",
    "<br>\n",
    "    \n",
    "regardons le produit $A^{-1}A$\n",
    "    \n",
    "```python\n",
    "np.dot(A_1, A)\n",
    "-> [[ 1.00000000e+00  9.47934554e-18  3.24735868e-17]\n",
    "    [-2.69206416e-17  1.00000000e+00 -4.22197093e-18]\n",
    "    [ 6.52983031e-18  1.58976614e-17  1.00000000e+00]]\n",
    "```      \n",
    "    \n",
    "<br>\n",
    "    \n",
    "    \n",
    "il est très proche de $I = \\begin{bmatrix} 1 & 0 & 0 \\\\ 0 & 1 & 0 \\\\ 0 & 0 & 1 \\\\ \\end{bmatrix}$ mais pas exactement égal  \n",
    "    \n",
    "en effet si en mathématiques on écrit $A^{-1}A = I$, en informatique c'est plutôt $A^{-1}A \\approx I$  \n",
    "(*égal* à une tolérance près)  \n",
    "\n",
    "<br>\n",
    "    \n",
    "d'ou l'intérêt de la fonction de comparaison `numpy.isclose`  \n",
    "qui effectue une comparaison de deux tableaux à une tolérance près\n",
    "    \n",
    "<br>\n",
    "    \n",
    "```python\n",
    "np.all(np.isclose(np.dot(A_1, A), I))\n",
    "-> True\n",
    "```    \n",
    "<br>\n",
    "    \n",
    "ça fonctionne bien comme attendu"
   ]
  },
  {
   "cell_type": "code",
   "execution_count": null,
   "id": "0abf0388",
   "metadata": {},
   "outputs": [],
   "source": [
    "A = np.random.random(size=(3, 3))\n",
    "I = np.eye(len(A))\n",
    "A_1 = np.linalg.inv(A)\n",
    "np.all(I == np.dot(A_1, A))\n",
    "print(np.dot(A_1, A))\n",
    "np.all(np.isclose(np.dot(A_1, A), I))"
   ]
  },
  {
   "cell_type": "markdown",
   "id": "03b27903",
   "metadata": {
    "tags": [
     "framed_cell"
    ]
   },
   "source": [
    "## les valeurs propres d'une matrice (*eigen values*)\n",
    "\n",
    "<br>\n",
    "\n",
    "on va calculer les $v$ tels que:\n",
    "   - $f(v) = \\lambda v$ \n",
    "   - $M \\cdot v = \\lambda v$\n",
    " `\n",
    "\n",
    "\n",
    "avec la fonction `numpy.linalg.eig` qui retourne\n",
    "* la liste des valeurs propres *eigen-values*\n",
    "* et la liste des vecteurs propres *eigen-vectors*\n",
    "\n",
    "<br>\n",
    "    \n",
    "prenons une matrice `M`    \n",
    "   \n",
    "```python\n",
    "M = np.random.random(size=(3, 3))\n",
    "```\n",
    "    \n",
    "<br>\n",
    "    \n",
    "calculons ses valeurs et vecteurs propres `M`    \n",
    "   \n",
    "```python\n",
    "alpha, v  = np.linalg.eig(M)\n",
    "alpha.shape # (3,)\n",
    "v.shape # (3, 3)  \n",
    "```\n",
    "* les 3 valeurs propres sont dans un vecteur\n",
    "* les 3 vecteurs propres forment les colonnes d'une matrice\n",
    "    \n",
    "<br>\n",
    "    \n",
    "prenons le premier vecteur propre et sa valeur propre\n",
    "    \n",
    "```python\n",
    "v0 = v[:, 0] # premier vecteur propre (première colonne)\n",
    "alpha0 = alpha[0] # première valeur propre\n",
    "```\n",
    "\n",
    "<br>\n",
    "    \n",
    "vérifions si $M \\cdot v_0 = \\lambda_0 v_0$  \n",
    "i.e. si `np.dot(M, v0) ==  alpha0*v0))`\n",
    "    \n",
    "<br>\n",
    "\n",
    "naturellement les calculs sont approchés  \n",
    "il faut utiliser l'égalité à une tolérance près\n",
    "    \n",
    "<br>\n",
    "    \n",
    "```python\n",
    "np.all(np.isclose(np.dot(M, v0),  alpha0*v0))\n",
    "-> True\n",
    "```\n",
    "   \n",
    "c'est bien ça\n",
    "    \n",
    "<br>\n",
    "    \n",
    "exercice:  \n",
    "    parcourez les vecteurs propres et les valeurs propres  \n",
    "et vérifiez, pour chaque couple si $M \\cdot v_i \\approx \\lambda_i v_i$"
   ]
  },
  {
   "cell_type": "code",
   "execution_count": null,
   "id": "94597415",
   "metadata": {
    "cell_style": "center"
   },
   "outputs": [],
   "source": [
    "# le code\n",
    "M = np.random.random(size=(3, 3))\n",
    "alpha, v  = np.linalg.eig(M)\n",
    "alpha.shape, v.shape\n",
    "\n",
    "\n",
    "v0 = v[:, 0] # le premier vecteur propre\n",
    "alpha0 = alpha[0] # la première valeur propre\n",
    "\n",
    "np.all(np.isclose(np.dot(M, v0),  alpha0*v0))"
   ]
  },
  {
   "cell_type": "code",
   "execution_count": null,
   "id": "73be90de",
   "metadata": {},
   "outputs": [],
   "source": [
    "# votre code ici"
   ]
  },
  {
   "cell_type": "markdown",
   "id": "8234d41c",
   "metadata": {
    "tags": [
     "framed_cell"
    ]
   },
   "source": [
    "## résolution d'un système linéaire\n",
    "\n",
    "<br>\n",
    "\n",
    "on va calculer avec la fonction `numpy.linalg.solve`  \n",
    "les racines du système linéaire $A \\cdot x = b$\n",
    "    \n",
    "<br>\n",
    "\n",
    "prenons une matrice\n",
    "    \n",
    "```python\n",
    "A = np.random.random(size=(3, 3))\n",
    "```\n",
    "<br>\n",
    "    \n",
    "prenons un vecteur\n",
    "    \n",
    "```python\n",
    "b = np.array([1, 2, 3])\n",
    "```\n",
    "    \n",
    "<br>\n",
    "\n",
    "calculons la racine de l'équation $A \\cdot x = b$\n",
    "    \n",
    "    \n",
    "```python\n",
    "x = np.linalg.solve(A, b)\n",
    "```\n",
    "\n",
    "<br>\n",
    "\n",
    "vérifions si $A \\cdot x \\approx b$\n",
    "    \n",
    "   \n",
    "```python\n",
    "np.all(np.isclose(np.dot(A, x), b))\n",
    "-> True\n",
    "```\n",
    "    \n",
    "<br>\n",
    "\n",
    "une erreur `numpy.linalg.LinAlgError` sera levée\n",
    "* si elle n'est pas carrée\n",
    "* si la matrice n'est pas inversible"
   ]
  },
  {
   "cell_type": "code",
   "execution_count": null,
   "id": "0a27ac96",
   "metadata": {
    "lines_to_next_cell": 2
   },
   "outputs": [],
   "source": [
    "# le code\n",
    "A = np.random.random(size=(3, 3))\n",
    "b = np.array([1, 2, 3])\n",
    "x = np.linalg.solve(A, b)\n",
    "np.all(np.isclose(np.dot(A, x), b))"
   ]
  }
 ],
 "metadata": {
  "jupytext": {
   "cell_metadata_filter": "all,-hidden,-heading_collapsed,-run_control,-trusted",
   "cell_metadata_json": true,
   "encoding": "# -*- coding: utf-8 -*-",
   "notebook_metadata_filter": "all, -jupytext.text_representation.jupytext_version, -jupytext.text_representation.format_version, -language_info.version, -language_info.codemirror_mode.version, -language_info.codemirror_mode, -language_info.file_extension, -language_info.mimetype, -toc"
  },
  "kernelspec": {
   "display_name": "Python 3 (ipykernel)",
   "language": "python",
   "name": "python3"
  },
  "language_info": {
   "name": "python",
   "nbconvert_exporter": "python",
   "pygments_lexer": "ipython3"
  },
  "notebookname": "algèbre linéaire"
 },
 "nbformat": 4,
 "nbformat_minor": 5
}
