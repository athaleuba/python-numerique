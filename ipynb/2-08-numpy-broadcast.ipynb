{
 "cells": [
  {
   "cell_type": "markdown",
   "id": "895602e6",
   "metadata": {},
   "source": [
    "<div class=\"licence\">\n",
    "<span>Licence CC BY-NC-ND</span>\n",
    "<span>UE 12</span>\n",
    "<span><img src=\"media/ensmp-25-alpha.png\" /></span>\n",
    "</div>"
   ]
  },
  {
   "cell_type": "code",
   "execution_count": null,
   "id": "1f54ebc6",
   "metadata": {},
   "outputs": [],
   "source": [
    "from IPython.display import HTML\n",
    "HTML('<link rel=\"stylesheet\" href=\"slides-notebook.css\" />')"
   ]
  },
  {
   "cell_type": "markdown",
   "id": "2811f0e4",
   "metadata": {},
   "source": [
    "# python-numérique - broadcasting"
   ]
  },
  {
   "cell_type": "code",
   "execution_count": null,
   "id": "f89df375",
   "metadata": {},
   "outputs": [],
   "source": [
    "import numpy as np"
   ]
  },
  {
   "cell_type": "markdown",
   "id": "0351de37",
   "metadata": {},
   "source": [
    "## contenu de ce notebook (sauter si déjà acquis)\n",
    "\n",
    "<br>\n",
    "\n",
    "comment `numpy` traite intelligemment les tableaux de formes différentes lors des opérations\n",
    "\n",
    "<br>\n",
    "\n",
    "les règles de broadcasting"
   ]
  },
  {
   "cell_type": "markdown",
   "id": "15fb2b76",
   "metadata": {},
   "source": [
    "## opération sur des tableaux de même forme"
   ]
  },
  {
   "cell_type": "markdown",
   "id": "9b952f00",
   "metadata": {},
   "source": [
    "**Exercices**\n",
    "\n",
    "1. créez un premier tableau des 120 premiers entiers  \n",
    "avec la forme de 2 groupes et 3 matrices de 4 lignes, et nombre de colonnes adéquat\n",
    "<br>\n",
    "\n",
    "1. créez un second tableau de 120 flottants équidistants entre 0 et 1  \n",
    "donnez lui la même forme que le premier tableau\n",
    "<br>\n",
    "\n",
    "1. utilisez `numpy.round` pour arrondir les flottants à 2 décimales  \n",
    "sans création d'un nouveau tableau (pensez à `out=`)\n",
    "<br>\n",
    "\n",
    "1. utilisez `np.add` pour ajouter les deux tableaux  \n",
    "  a. en créant un troisième tableau pour ranger le résultat  \n",
    "  b. en rangeant le résultat dans le premier tableau (avec le paramètre `out`) ?\n",
    "<br>\n",
    "\n",
    "1. renversez le premier tableau  \n",
    "  selon tous les axes"
   ]
  },
  {
   "cell_type": "code",
   "execution_count": null,
   "id": "6ef5f562",
   "metadata": {},
   "outputs": [],
   "source": [
    "# votre code"
   ]
  },
  {
   "cell_type": "markdown",
   "id": "eff8b874",
   "metadata": {
    "tags": [
     "framed_cell"
    ]
   },
   "source": [
    "## tableaux de formes différentes: broadcasting\n",
    "<br>\n",
    "    \n",
    "vous voulez incrémenter de 1 tous les éléments d'une matrice d'entiers de forme `(100, 100)`\n",
    "```python\n",
    "tab = np.arange(0, 10000).reshape(100, 100)\n",
    "```\n",
    "    \n",
    "<br>\n",
    "    \n",
    "créer une matrice de `ones` de la même forme et les ajouter... vous convient-il ?\n",
    "    \n",
    "```python\n",
    "inc = np.ones(shape=(100, 100), dtype=np.int8)\n",
    "tab+inc\n",
    "```\n",
    "    \n",
    "<br>\n",
    "    \n",
    "c'est clairement sous-optimal: place-mémoire créer inutilement, perte de temps et de lisibilité\n",
    "    \n",
    "<br>\n",
    "    \n",
    "`numpy` propose une manière abrégée d'écrire ce genre d'opération grâce au `broadcasting`\n",
    "    \n",
    "  \n",
    "```python\n",
    "tab+1\n",
    "```\n",
    "      \n",
    "ou encore (moins joli)    \n",
    "    \n",
    "  \n",
    "```python\n",
    "tab+[1]\n",
    "```\n",
    "      \n",
    "<br>\n",
    "    \n",
    "simple, élégant et non ambigu\n",
    "    \n",
    "<br>\n",
    "\n",
    "mais attention : ne **fonctionne pas** du tout pareil sur les **listes `Python`**\n",
    "    \n",
    "```python\n",
    "[1, 2, 3, 4, 5, 6] + [10, 20 ] # + est append\n",
    "-> [1, 2, 3, 4, 5, 6, 10, 20]\n",
    "```"
   ]
  },
  {
   "cell_type": "code",
   "execution_count": null,
   "id": "7bdfc6c1",
   "metadata": {},
   "outputs": [],
   "source": [
    "# le code\n",
    "tab = np.arange(0, 10000).reshape(100, 100)\n",
    "inc = np.ones(shape=(100, 100), dtype=np.int8)\n",
    "tab+inc\n",
    "tab+1\n",
    "tab+[1]"
   ]
  },
  {
   "cell_type": "code",
   "execution_count": null,
   "id": "a2da8984",
   "metadata": {},
   "outputs": [],
   "source": [
    "# code\n",
    "print([1, 2, 3, 4, 5, 6] + [10, 20])"
   ]
  },
  {
   "cell_type": "markdown",
   "id": "66d17344",
   "metadata": {},
   "source": [
    "## broadcasting : comment ça marche ?"
   ]
  },
  {
   "cell_type": "markdown",
   "id": "c94c2755",
   "metadata": {
    "tags": [
     "framed_cell"
    ]
   },
   "source": [
    "### le broadcasting, c'est quoi ?\n",
    "<br>\n",
    "    \n",
    "c'est la manière dont `numpy` traite les tableaux de formes différentes lors d'opérations\n",
    "    \n",
    "<br>\n",
    "    \n",
    "le *plus petit tableau*, **quand c'est possible**, est considéré comme *élargi* à la taille du plus grand  \n",
    "afin qu'ils aient des formes compatibles\n",
    "    \n",
    "<br>\n",
    "    \n",
    "cela se fait **implicitement**"
   ]
  },
  {
   "cell_type": "markdown",
   "id": "db0ee6e1",
   "metadata": {},
   "source": [
    "***"
   ]
  },
  {
   "cell_type": "markdown",
   "id": "467e0d83",
   "metadata": {
    "tags": [
     "framed_cell"
    ]
   },
   "source": [
    "### opération entre un scalaire et un tableau par broadcasting\n",
    "\n",
    "<br>\n",
    "    \n",
    "l'opération entre un scalaire est un tableau est toujours possible  \n",
    "il est possible de considérer un scalaire comme un tableau de n'importe quelle forme\n",
    "\n",
    "--------------------------------\n",
    "prenons une matrice et l'opération d'addition élément à élément\n",
    "    \n",
    "```python\n",
    "mat = np.arange(15).reshape(3, 5)\n",
    "mat\n",
    "-> [[ 0,  1,  2,  3,  4],\n",
    "    [ 5,  6,  7,  8,  9],\n",
    "    [10, 11, 12, 13, 14]]\n",
    "``` \n",
    "    \n",
    "<br>\n",
    "\n",
    "        \n",
    "```python\n",
    "mat + 1\n",
    "-> [[ 1,  2,  3,  4,  5],\n",
    "    [ 6,  7,  8,  9, 10],\n",
    "    [11, 12, 13, 14, 15]]\n",
    "``` \n",
    "\n",
    "   \n",
    "------------------\n",
    "\n",
    "c'est **comme si** le scalaire `1` devenait la matrice $\\begin{pmatrix} 1 & 1 & 1 & 1 &1 \\\\ 1 & 1 & 1 & 1 &1 \\\\ 1 & 1 & 1 & 1 &1 \\\\ \\end{pmatrix}$\n",
    "    \n",
    "-----------------------\n",
    "    \n",
    "naturellement `numpy` ne va **jamais** construire un tel objet  \n",
    "il va juste s'arranger pour incrémenter les éléments des lignes et des colonnes de la matrice par `1`"
   ]
  },
  {
   "cell_type": "code",
   "execution_count": null,
   "id": "9c1c942f",
   "metadata": {
    "cell_style": "split"
   },
   "outputs": [],
   "source": [
    "mat = np.arange(15).reshape(3, 5)\n",
    "mat + 1"
   ]
  },
  {
   "cell_type": "code",
   "execution_count": null,
   "id": "d8afb6e0",
   "metadata": {
    "cell_style": "split"
   },
   "outputs": [],
   "source": [
    "# c'est donc comme si on avait\n",
    "# ajouté à mat ceci\n",
    "(mat+1) - mat"
   ]
  },
  {
   "cell_type": "markdown",
   "id": "0be6eaef",
   "metadata": {
    "tags": [
     "framed_cell"
    ]
   },
   "source": [
    "### opération entre une ligne et un tableau par broadcasting\n",
    "\n",
    "<br>\n",
    " \n",
    "la ligne et le tableau doivent obéir à des conditions de forme (plutôt évidentes)\n",
    "\n",
    "--------------------------------\n",
    "    \n",
    "prenons une matrice et l'opération d'addition\n",
    "    \n",
    "```python\n",
    "mat = np.arange(15).reshape(3, 5)\n",
    "mat\n",
    "-> [[ 0,  1,  2,  3,  4],\n",
    "    [ 5,  6,  7,  8,  9],\n",
    "    [10, 11, 12, 13, 14]]\n",
    "``` \n",
    "\n",
    "    \n",
    "-------------------------------------------\n",
    "pour ajouter une **ligne** à toutes les lignes d'une matrice  \n",
    "il faut naturellement que la forme des lignes corresponde\n",
    "    \n",
    "**non**    \n",
    "```python\n",
    "mat + [10, 20, 30]\n",
    "-> ValueError: operands could not be broadcast together with shapes (3,5) (3,) \n",
    "```   \n",
    "\n",
    "  \n",
    "**oui**\n",
    "    \n",
    "```python\n",
    "mat + [10, 20, 30, 40, 50]\n",
    "# oui\n",
    "    [[10, 21, 32, 43, 54],\n",
    "     [15, 26, 37, 48, 59],\n",
    "     [20, 31, 42, 53, 64]]\n",
    "```   \n",
    "\n",
    "**oui aussi**\n",
    "```python\n",
    "mat + np.arange(10, 60, 10)\n",
    "# ou\n",
    "mat + np.arange(10, 60, 10).reshape(1, 5)\n",
    "```\n",
    "\n",
    "-------------------------------\n",
    "\n",
    "c'est comme si on ajoutait la matrice $\\begin{pmatrix} 10 & 20 & 30 & 40 & 50 \\\\ 10 & 20 & 30 & 40 & 50 \\\\ 10 & 20 & 30 & 40 & 50 \\\\ \\end{pmatrix}$\n",
    "    \n",
    "    \n",
    "là encore, `numpy` ne va **jamais** générer une telle matrice  \n",
    "il va procéder par des boucles sur les lignes de la matrice"
   ]
  },
  {
   "cell_type": "code",
   "execution_count": null,
   "id": "9adc6e4d",
   "metadata": {},
   "outputs": [],
   "source": [
    "# le code\n",
    "mat = np.arange(15).reshape(3, 5)\n",
    "\n",
    "try:\n",
    "    mat + [10, 20, 30]\n",
    "except ValueError as e:\n",
    "    print(e)\n",
    "    \n",
    "mat + [10, 20, 30, 40, 50]\n",
    "mat + np.arange(10, 60, 10)\n",
    "mat + np.arange(10, 60, 10).reshape(1, 5)"
   ]
  },
  {
   "cell_type": "markdown",
   "id": "ae17a996",
   "metadata": {
    "tags": [
     "framed_cell"
    ]
   },
   "source": [
    "### opération entre une ligne et plusieurs matrices et groupes de matrices\n",
    "\n",
    "<br>\n",
    "    \n",
    "de même, on peut ajouter une ligne à tout un groupe de matrices... si la forme des lignes coincide\n",
    "    \n",
    "    \n",
    "<br>\n",
    "    \n",
    "```python\n",
    "tab = np.arange(30).reshape(2, 3, 5)\n",
    "tab\n",
    "-> [[[ 0  1  2  3  4]\n",
    "     [ 5  6  7  8  9]\n",
    "     [10 11 12 13 14]]\n",
    "    \n",
    "    [[15 16 17 18 19]\n",
    "     [20 21 22 23 24]\n",
    "     [25 26 27 28 29]]]\n",
    "``` \n",
    "    \n",
    "<br>\n",
    "    \n",
    "```python\n",
    "tab + [1000, 2000, 3000, 4000, 5000]    \n",
    "tab\n",
    "-> [[[1000, 2001, 3002, 4003, 5004],\n",
    "    [1005, 2006, 3007, 4008, 5009],\n",
    "    [1010, 2011, 3012, 4013, 5014]],\n",
    "\n",
    "   [[1015, 2016, 3017, 4018, 5019],\n",
    "    [1020, 2021, 3022, 4023, 5024],\n",
    "    [1025, 2026, 3027, 4028, 5029]]]\n",
    "```\n",
    "\n",
    "<br>\n",
    "    \n",
    "de même pour les groupes de groupes de groupes de ... de matrices, etc."
   ]
  },
  {
   "cell_type": "code",
   "execution_count": null,
   "id": "bfb40aed",
   "metadata": {},
   "outputs": [],
   "source": [
    "# le code\n",
    "mat = np.arange(30).reshape(2, 3, 5)\n",
    "print(mat)\n",
    "mat + [1000, 2000, 3000, 4000, 5000]   "
   ]
  },
  {
   "cell_type": "code",
   "execution_count": null,
   "id": "f8c1e7c8",
   "metadata": {},
   "outputs": [],
   "source": [
    "mat = np.arange(400).reshape(2, 4, 2, 5, 5)\n",
    "print(mat)\n",
    "mat + [1000, 2000, 3000, 4000, 5000]   "
   ]
  },
  {
   "cell_type": "markdown",
   "id": "efa88d5e",
   "metadata": {
    "tags": [
     "framed_cell"
    ]
   },
   "source": [
    "### opération entre une colonne et une ou plusieurs  matrices\n",
    "<br>\n",
    " \n",
    "c'est pareil...\n",
    "    \n",
    "```python    \n",
    "mat = np.arange(15).reshape(3, 5)\n",
    "mat\n",
    "-> [[ 0,  1,  2,  3,  4],\n",
    "    [ 5,  6,  7,  8,  9],\n",
    "    [10, 11, 12, 13, 14]]\n",
    "```    \n",
    "<br>\n",
    "    \n",
    "il faut naturellement que la forme des colonnes corresponde\n",
    "    \n",
    "```python    \n",
    "col = np.array([100, 200, 300]).reshape(3, 1)\n",
    "col\n",
    "->    \n",
    "  [[100],\n",
    "   [200],\n",
    "   [300]]\n",
    "    \n",
    "```\n",
    "    \n",
    "remarquez la forme de la colonne `col`\n",
    "    \n",
    "<br>\n",
    "\n",
    "on ajoute\n",
    "\n",
    "```python    \n",
    "mat + col\n",
    "->\n",
    "    [[100, 101, 102, 103, 104],\n",
    "     [205, 206, 207, 208, 209],\n",
    "     [310, 311, 312, 313, 314]]\n",
    "``` \n",
    "    \n",
    "<br>\n",
    "et ainsi de suite"
   ]
  },
  {
   "cell_type": "code",
   "execution_count": null,
   "id": "2613af06",
   "metadata": {
    "lines_to_next_cell": 2
   },
   "outputs": [],
   "source": [
    "# le code\n",
    "mat = np.arange(15).reshape(3, 5)\n",
    "col = np.array([100, 200, 300]).reshape(3, 1)\n",
    "print(col)\n",
    "mat+col"
   ]
  },
  {
   "cell_type": "markdown",
   "id": "0eac9e57",
   "metadata": {
    "tags": [
     "framed_cell"
    ]
   },
   "source": [
    "### opération entre une ligne et une colonne\n",
    "\n",
    "<br>\n",
    "    \n",
    "cela va faire ce à quoi vous vous attendez: une matrice !\n",
    "    \n",
    "<br>\n",
    "    \n",
    "**exercice**\n",
    "1. créer une ligne\n",
    "1. créer une colonne\n",
    "1. ajouter les deux\n",
    "    \n",
    "<br>\n",
    "    \n",
    "il faut faire attention à la forme de la colonne `(n, 1)`"
   ]
  },
  {
   "cell_type": "markdown",
   "id": "48612347",
   "metadata": {
    "tags": [
     "level_intermediate",
     "framed_cell"
    ]
   },
   "source": [
    "## règles de broadcasting - avancés\n",
    "\n",
    "<br>\n",
    "    \n",
    "Les dimensions des deux tableaux, sur lesquels une opération élément-par-élément est appliquée\n",
    "\n",
    "* sont comparées de droite à gauche (par paire)\n",
    "    \n",
    "\n",
    "* le broadcasting sera possible:\n",
    "    1. si les deux dimensions sont identiques\n",
    "    1. si l'une des 2 dimensions vaut 1  \n",
    "     auquel cas elle est élargie à la dimension requise  \n",
    "     et le broadcast continue\n",
    "    \n",
    "    \n",
    "<br>\n",
    "    \n",
    "* quand les formes ne sont pas consistantes, le broadcasting est impossible  \n",
    "`numpy` rejette l'opération en déclenchant une erreur de type `ValueError`\n",
    "    \n",
    "```python\n",
    "m1 = np.arange(6).reshape(2, 3)\n",
    "m2 = np.arange(8).reshape(2, 4)\n",
    "m1 * m2\n",
    "-> ValueError: operands could not be broadcast together with shapes (2,3) (2,4)\n",
    "```"
   ]
  },
  {
   "cell_type": "code",
   "execution_count": null,
   "id": "b640cd53",
   "metadata": {},
   "outputs": [],
   "source": [
    "# le code d'un exemple\n",
    "m1 = np.arange(27).reshape(3, 3, 3)\n",
    "m2 = np.arange(9).reshape(3, 3)\n",
    "print(\"m1\", m1, \"\\nm2\", m2, \"\\nprod\", m1 * m2)"
   ]
  },
  {
   "cell_type": "code",
   "execution_count": null,
   "id": "a57e6f41",
   "metadata": {
    "cell_style": "center",
    "hide_input": false,
    "tags": [
     "raises-exception",
     "level_intermediate"
    ]
   },
   "outputs": [],
   "source": [
    "# le code du contre-exemple\n",
    "m1 = np.arange(6).reshape(2, 3)\n",
    "m2 = np.arange(8).reshape(2, 4)\n",
    "try:\n",
    "    m1 * m2\n",
    "except ValueError as e:    \n",
    "    print(f'{m1}\\n+\\n{m2}\\n {e}')"
   ]
  },
  {
   "cell_type": "markdown",
   "id": "1dbcbc45",
   "metadata": {
    "tags": [
     "level_intermediate",
     "framed_cell"
    ]
   },
   "source": [
    "### exemple de broadcasting - avancés\n",
    "\n",
    "<br>\n",
    "\n",
    "* une matrice `A`$=\\begin{pmatrix} a_{11} & a_{12} & a_{13} \\\\ a_{21} & a_{22} & a_{23} \\\\  \\end{pmatrix}$ de forme $(2_A, 3_A)$\n",
    "    \n",
    "    \n",
    "* un tableau `b` réduit à  un scalaire $\\begin{pmatrix}b_1 \\\\ \\end{pmatrix}$ de forme $(1_b,)$  \n",
    "    \n",
    "\n",
    "* calculons `A + b`\n",
    "    \n",
    "<br>\n",
    "    \n",
    "la forme de `A` est $(2_A, 3_A)$ la forme de `b` est ($1_b$,)\n",
    "1. on compare les dimensions de droite: $3_A$ et $1_b$\n",
    "1. $b$ est élargi à $\\begin{pmatrix} b_1 & b_1 & b_1 \\end{pmatrix}$ de forme $(1_b, 3_b)$\n",
    "\n",
    "<br>\n",
    "    \n",
    "on ajoute maintenant un tableau de forme $(2_A, 3_A)$ à une ligne de forme $(1_b, 3_b)$  \n",
    "$\\begin{pmatrix} a_{11} & a_{12} & a_{13} \\\\ a_{21} & a_{22} & a_{23} \\\\  \\end{pmatrix} + \\begin{pmatrix} b_1 & b_1 & b_1  \\end{pmatrix}$   \n",
    "   \n",
    "<br>\n",
    "    \n",
    "1. on compare les dimensions précédentes: $2_a$ et $1_b$\n",
    "1. `b` est élargi à la dimension $(2_b, 3_b)$\n",
    " \n",
    "<br>\n",
    "    \n",
    "on ajoute maintenant un tableau de forme $(2_A, 3_A)$ à un tableau de forme  $(2_b, 3_b)$  \n",
    "    \n",
    "  $\\begin{pmatrix} a_{11} & a_{12} & a_{13} \\\\ a_{21} & a_{22} & a_{23} \\\\  \\end{pmatrix} + \\begin{pmatrix} b & b & b \\\\ b & b & b \\end{pmatrix} = \\begin{pmatrix} a_{11} + b & a_{12} + b & a_{13} + b \\\\ a_{21} + b & a_{22} + b & a_{23} + b \\\\  \\end{pmatrix}$   \n",
    "\n",
    "<br>\n",
    "    \n",
    "les formes sont désormais compatibles, les deux tableaux peuvent être ajoutés\n",
    "    \n",
    "</div>"
   ]
  },
  {
   "cell_type": "markdown",
   "id": "2e9ccb7d",
   "metadata": {},
   "source": [
    "***"
   ]
  },
  {
   "cell_type": "markdown",
   "id": "d55d7502",
   "metadata": {
    "tags": [
     "level_intermediate",
     "framed_cell"
    ]
   },
   "source": [
    "### exemple de broadcasting - ajout ligne et colonne\n",
    "\n",
    "<br>\n",
    "\n",
    "on veut faire l'opération $\\begin{pmatrix} a_{1} & a_{2} & a_{3} \\end{pmatrix} + \\begin{pmatrix} b_1 \\\\ b_2 \\\\ b_3 \\\\ b_4 \\end{pmatrix}$\n",
    "\n",
    "<br>\n",
    "    \n",
    "la forme de la matrice-ligne `a` est $(1_a, 3_a)$, la forme de la matrice-colonne `b` est $(4_b, 1_b)$\n",
    "\n",
    "<br>\n",
    "    \n",
    "\n",
    "`numpy` compare $3_a$ à $1_b$ et élargit *b* à $\\begin{pmatrix} b_1 & b_1 & b_1 \\\\ b_2 & b_2 & b_2 \\\\ b_3 & b_3 & b_3 \\\\ b_4 & b_a & b_4 \\end{pmatrix}$\n",
    "\n",
    "<br>\n",
    "    \n",
    "\n",
    "on ajoute maintenant un tableau $(1_a, 3_a)$ à une matrice $(4_b, 3_b)$\n",
    "\n",
    "<br>\n",
    "    \n",
    "\n",
    "$\\begin{pmatrix} a_{1} & a_{2} & a_{3} \\end{pmatrix} + \\begin{pmatrix} b_1 & b_1 & b_1 \\\\ b_2 & b_2 & b_2 \\\\ b_3 & b_3 & b_3 \\\\ b_4 & b_a & b_4 \\end{pmatrix}$\n",
    "\n",
    "<br>\n",
    "    \n",
    " \n",
    "   \n",
    "`numpy` compare les dimensions $1_a$ et $4_b$ et élargit $a$ à $\\begin{pmatrix} a_{1} & a_{2} & a_{3} \\\\ a_{1} & a_{2} & a_{3} \\\\ a_{1} & a_{2} & a_{3} \\\\ a_{1} & a_{2} & a_{3} \\end{pmatrix}$\n",
    "\n",
    "<br>\n",
    "    \n",
    "   \n",
    " \n",
    "$\\begin{pmatrix} a_{1} & a_{2} & a_{3} \\\\ a_{1} & a_{2} & a_{3} \\\\ a_{1} & a_{2} & a_{3} \\\\ a_{1} & a_{2} & a_{3} \\end{pmatrix} + \\begin{pmatrix} b_1 & b_1 & b_1 \\\\ b_2 & b_2 & b_2 \\\\ b_3 & b_3 & b_3 \\\\ b_4 & b_a & b_4 \\end{pmatrix} = \\begin{pmatrix} a_{1} + b_1 & a_{2} + b_1 & a_{3} + b_1 \\\\ a_{1} + b_2 & a_{2} + b_2 & a_{3} + b_2 \\\\ a_{1} + b_3 & a_{2} + b_3 & a_{3}  + b_3\\\\ a_{1} + b_4 & a_{2} + b_4 & a_{3} + b_4 \\end{pmatrix}$\n",
    " \n",
    "\n",
    "<br>\n",
    "\n",
    "les formes sont désormais compatibles, les deux tableaux ont pu être ajoutés"
   ]
  },
  {
   "cell_type": "markdown",
   "id": "04754107",
   "metadata": {
    "tags": [
     "framed_cell"
    ]
   },
   "source": [
    "### exemple de broadcasting en dimension > 2\n",
    "\n",
    "<br>\n",
    "deux groupes de 3 matrices\n",
    "    \n",
    "```python\n",
    "grp = np.arange(1, 37).reshape(2, 3, 2, 3)\n",
    "grp -> [[[[ 1,  2,  3],\n",
    "          [ 4,  5,  6]],\n",
    "\n",
    "         [[ 7,  8,  9],\n",
    "          [10, 11, 12]],\n",
    "\n",
    "         [[13, 14, 15],\n",
    "          [16, 17, 18]]],\n",
    "\n",
    "\n",
    "        [[[19, 20, 21],\n",
    "          [22, 23, 24]],\n",
    "\n",
    "         [[25, 26, 27],\n",
    "          [28, 29, 30]],\n",
    "\n",
    "         [[31, 32, 33],\n",
    "          [34, 35, 36]]]]\n",
    "```\n",
    "\n",
    "  \n",
    "une matrice\n",
    "    \n",
    "```python\n",
    "mat = np.array([[100, 200, 300], [400, 500, 600]])\n",
    "mat -> [[100, 200, 300],\n",
    "        [400, 500, 600]]\n",
    "```\n",
    "    \n",
    "<br>\n",
    "l'opération entre les deux tableaux\n",
    "    \n",
    "```python\n",
    "grp+mat\n",
    "    \n",
    "-> ([[[[101, 202, 303],\n",
    "       [404, 505, 606]],\n",
    "\n",
    "      [[107, 208, 309],\n",
    "       [410, 511, 612]],\n",
    "\n",
    "      [[113, 214, 315],\n",
    "       [416, 517, 618]]],\n",
    "\n",
    "\n",
    "     [[[119, 220, 321],\n",
    "       [422, 523, 624]],\n",
    "\n",
    "      [[125, 226, 327],\n",
    "       [428, 529, 630]],\n",
    "\n",
    "      [[131, 232, 333],\n",
    "       [434, 535, 636]]]])\n",
    "```"
   ]
  },
  {
   "cell_type": "code",
   "execution_count": null,
   "id": "a11121e0",
   "metadata": {},
   "outputs": [],
   "source": [
    "# le code\n",
    "grp = np.arange(1, 37).reshape(2, 3, 2, 3)\n",
    "mat = np.array([[100, 200, 300], [400, 500, 600]])\n",
    "grp+mat"
   ]
  },
  {
   "cell_type": "markdown",
   "id": "87db9b61",
   "metadata": {},
   "source": [
    "## exercice (avancés)"
   ]
  },
  {
   "cell_type": "markdown",
   "id": "aa45b152",
   "metadata": {
    "tags": [
     "level_advanced"
    ]
   },
   "source": [
    "* implémentez en Python la fonction qui détermine si deux formes (données par des tuples) sont compatibles pour le broadcasting  \n",
    "renvoie `True` si compatible et `False` sinon\n",
    "```python\n",
    "def are_broadcast_compatible(shape1, shape2):\n",
    "    ...\n",
    "```\n",
    "* faites une fonction de test qui crée deux tableaux en `numpy`, les ajoute et renvoie `True` si l'addition fonctionne et `False` sinon\n",
    "```python\n",
    "def test_compatibility(shape1, shape2):\n",
    "    ...\n",
    "```\n",
    "\n",
    "exemples\n",
    "\n",
    "```python\n",
    "s1 = (1, 2)\n",
    "s2 = (3, 1)\n",
    "print(test_compatibility(s1, s2))\n",
    "print(are_broadcast_compatible(s1, s2))\n",
    "-> True\n",
    "   True\n",
    "```\n",
    "\n",
    "```python\n",
    "s1 = ()\n",
    "s2 = ()\n",
    "print(test_compatibility(s1, s2))\n",
    "print(are_broadcast_compatible(s1, s2))\n",
    "-> True\n",
    "   True\n",
    "```\n",
    "\n",
    "```python\n",
    "s1 = (2, 2, 1, 2)\n",
    "s2 = (2, 1, 3, 1)\n",
    "print(test_compatibility(s1, s2))\n",
    "print(are_broadcast_compatible(s1, s2))\n",
    "-> True\n",
    "   True\n",
    "```\n",
    "\n",
    "\n",
    "```python\n",
    "s1 = (2, 2, 1)\n",
    "s2 = (2, 1, 3, 1)\n",
    "print(test_compatibility(s1, s2))\n",
    "print(are_broadcast_compatible(s1, s2))\n",
    "-> False\n",
    "   False\n",
    "```"
   ]
  },
  {
   "cell_type": "code",
   "execution_count": null,
   "id": "821cf345",
   "metadata": {
    "lines_to_next_cell": 2,
    "scrolled": true
   },
   "outputs": [],
   "source": [
    "# pour corriger votre code\n",
    "\n",
    "s1 = (1, 2)\n",
    "s2 = (3, 1)\n",
    "print(test_compatibility(s1, s2))\n",
    "print(are_broadcast_compatible(s1, s2))\n",
    "\n",
    "s1 = ()\n",
    "s2 = ()\n",
    "print(test_compatibility(s1, s2))\n",
    "print(are_broadcast_compatible(s1, s2))\n",
    "\n",
    "s1 = (2, 2, 1, 2)\n",
    "s2 = (2, 1, 3, 1)\n",
    "print(test_compatibility(s1, s2))\n",
    "print(are_broadcast_compatible(s1, s2))\n",
    "\n",
    "s1 = (2, 2, 1)\n",
    "s2 = (2, 1, 3, 1)\n",
    "print(test_compatibility(s1, s2))\n",
    "print(are_broadcast_compatible(s1, s2))"
   ]
  }
 ],
 "metadata": {
  "jupytext": {
   "cell_metadata_filter": "all,-hidden,-heading_collapsed,-run_control,-trusted",
   "cell_metadata_json": true,
   "encoding": "# -*- coding: utf-8 -*-",
   "notebook_metadata_filter": "all, -jupytext.text_representation.jupytext_version, -jupytext.text_representation.format_version, -language_info.version, -language_info.codemirror_mode.version, -language_info.codemirror_mode, -language_info.file_extension, -language_info.mimetype, -toc"
  },
  "kernelspec": {
   "display_name": "Python 3 (ipykernel)",
   "language": "python",
   "name": "python3"
  },
  "language_info": {
   "name": "python",
   "nbconvert_exporter": "python",
   "pygments_lexer": "ipython3"
  },
  "notebookname": "broadcasting"
 },
 "nbformat": 4,
 "nbformat_minor": 5
}
